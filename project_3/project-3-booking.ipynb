{
 "cells": [
  {
   "cell_type": "markdown",
   "id": "379f8dd2",
   "metadata": {
    "papermill": {
     "duration": 0.028076,
     "end_time": "2023-02-26T08:29:40.659053",
     "exception": false,
     "start_time": "2023-02-26T08:29:40.630977",
     "status": "completed"
    },
    "pycharm": {
     "name": "#%% md\n"
    },
    "tags": []
   },
   "source": [
    "# Проект №3 EDA + Feature Engineering Booking.com"
   ]
  },
  {
   "cell_type": "markdown",
   "id": "993685d4",
   "metadata": {
    "papermill": {
     "duration": 0.023191,
     "end_time": "2023-02-26T08:29:40.708316",
     "exception": false,
     "start_time": "2023-02-26T08:29:40.685125",
     "status": "completed"
    },
    "pycharm": {
     "name": "#%% md\n"
    },
    "tags": []
   },
   "source": [
    "### Какой кейс решаем?\n",
    "Представим, что работаем дата-сайентистом в компании Booking. Одна из проблем компании — это нечестные отели, которые накручивают себе рейтинг. Одним из способов обнаружения таких отелей является построение модели, которая предсказывает рейтинг отеля. Если предсказания модели сильно отличаются от фактического результата, то, возможно, отель ведёт себя нечестно, и его стоит проверить.\n",
    "\n",
    "### Наименование столбцов:\n",
    "\n",
    "* hotel_address — адрес отеля;\n",
    "* review_date — дата, когда рецензент разместил соответствующий отзыв;\n",
    "* average_score — средний балл отеля, рассчитанный на основе последнего комментария за последний год;\n",
    "* hotel_name — название отеля;\n",
    "* reviewer_nationality — страна рецензента;\n",
    "* negative_review — отрицательный отзыв, который рецензент дал отелю;\n",
    "* review_total_negative_word_counts — общее количество слов в отрицательном отзыв;\n",
    "* positive_review — положительный отзыв, который рецензент дал отелю;\n",
    "* review_total_positive_word_counts — общее количество слов в положительном отзыве.\n",
    "* reviewer_score — оценка, которую рецензент поставил отелю на основе своего опыта;\n",
    "* total_number_of_reviews_reviewer_has_given — количество отзывов, которые рецензенты дали в прошлом;\n",
    "* total_number_of_reviews — общее количество действительных отзывов об отеле;\n",
    "* tags — теги, которые рецензент дал отелю;\n",
    "* days_since_review — количество дней между датой проверки и датой очистки;\n",
    "* additional_number_of_scoring — есть также некоторые гости, которые просто поставили оценку сервису, но не оставили отзыв. Это число указывает, сколько там действительных оценок без проверки.\n",
    "* lat — географическая широта отеля;\n",
    "* lng — географическая долгота отеля.\n",
    "\n",
    "### Файлы для соревнования\n",
    "\n",
    "* hotels_train.csv - набор данных для обучения [источник данных](https://github.com/slagovskiy/DST/raw/main/Project-3/data/hotels_train.csv.zip)\n",
    "* hotels_test.csv - набор данных для оценки качества [источник данных](https://github.com/slagovskiy/DST/raw/main/Project-3/data/hotels_train.csv.zip)\n",
    "* submission.csv - файл сабмишна в нужном формате [источник данных](https://github.com/slagovskiy/DST/raw/main/Project-3/data/hotels_train.csv.zip)\n"
   ]
  },
  {
   "cell_type": "markdown",
   "id": "b51edf4c",
   "metadata": {
    "papermill": {
     "duration": 0.022918,
     "end_time": "2023-02-26T08:29:40.754339",
     "exception": false,
     "start_time": "2023-02-26T08:29:40.731421",
     "status": "completed"
    },
    "pycharm": {
     "name": "#%% md\n"
    },
    "tags": []
   },
   "source": [
    "## 1. Исходные данные"
   ]
  },
  {
   "cell_type": "code",
   "execution_count": 1,
   "id": "912d47e9",
   "metadata": {
    "collapsed": false,
    "execution": {
     "iopub.execute_input": "2023-02-26T08:29:40.804439Z",
     "iopub.status.busy": "2023-02-26T08:29:40.803409Z",
     "iopub.status.idle": "2023-02-26T08:30:21.485847Z",
     "shell.execute_reply": "2023-02-26T08:30:21.484117Z"
    },
    "jupyter": {
     "outputs_hidden": false
    },
    "papermill": {
     "duration": 40.709958,
     "end_time": "2023-02-26T08:30:21.488339",
     "exception": false,
     "start_time": "2023-02-26T08:29:40.778381",
     "status": "completed"
    },
    "pycharm": {
     "name": "#%%\n"
    },
    "tags": []
   },
   "outputs": [
    {
     "name": "stdout",
     "output_type": "stream",
     "text": [
      "Collecting Afinn\r\n",
      "  Downloading afinn-0.1.tar.gz (52 kB)\r\n",
      "\u001b[2K     \u001b[90m━━━━━━━━━━━━━━━━━━━━━━━━━━━━━━━━━━━━━━━\u001b[0m \u001b[32m52.6/52.6 kB\u001b[0m \u001b[31m205.6 kB/s\u001b[0m eta \u001b[36m0:00:00\u001b[0m\r\n",
      "\u001b[?25h  Preparing metadata (setup.py) ... \u001b[?25l-\b \bdone\r\n",
      "\u001b[?25hBuilding wheels for collected packages: Afinn\r\n",
      "  Building wheel for Afinn (setup.py) ... \u001b[?25l-\b \b\\\b \bdone\r\n",
      "\u001b[?25h  Created wheel for Afinn: filename=afinn-0.1-py3-none-any.whl size=53447 sha256=8769c1a5123bffded0dbe856332531b18bcb5153bddf3b5f847e6ea2d06d2b3f\r\n",
      "  Stored in directory: /root/.cache/pip/wheels/9d/16/3a/9f0953027434eab5dadf3f33ab3298fa95afa8292fcf7aba75\r\n",
      "Successfully built Afinn\r\n",
      "Installing collected packages: Afinn\r\n",
      "Successfully installed Afinn-0.1\r\n",
      "\u001b[33mWARNING: Running pip as the 'root' user can result in broken permissions and conflicting behaviour with the system package manager. It is recommended to use a virtual environment instead: https://pip.pypa.io/warnings/venv\u001b[0m\u001b[33m\r\n",
      "\u001b[0mRequirement already satisfied: nltk in /opt/conda/lib/python3.7/site-packages (3.8.1)\r\n",
      "Requirement already satisfied: joblib in /opt/conda/lib/python3.7/site-packages (from nltk) (1.0.1)\r\n",
      "Requirement already satisfied: click in /opt/conda/lib/python3.7/site-packages (from nltk) (8.1.3)\r\n",
      "Requirement already satisfied: regex>=2021.8.3 in /opt/conda/lib/python3.7/site-packages (from nltk) (2021.11.10)\r\n",
      "Requirement already satisfied: tqdm in /opt/conda/lib/python3.7/site-packages (from nltk) (4.64.0)\r\n",
      "Requirement already satisfied: importlib-metadata in /opt/conda/lib/python3.7/site-packages (from click->nltk) (6.0.0)\r\n",
      "Requirement already satisfied: typing-extensions>=3.6.4 in /opt/conda/lib/python3.7/site-packages (from importlib-metadata->click->nltk) (4.1.1)\r\n",
      "Requirement already satisfied: zipp>=0.5 in /opt/conda/lib/python3.7/site-packages (from importlib-metadata->click->nltk) (3.8.0)\r\n",
      "\u001b[33mWARNING: Running pip as the 'root' user can result in broken permissions and conflicting behaviour with the system package manager. It is recommended to use a virtual environment instead: https://pip.pypa.io/warnings/venv\u001b[0m\u001b[33m\r\n",
      "\u001b[0m"
     ]
    },
    {
     "name": "stderr",
     "output_type": "stream",
     "text": [
      "[nltk_data] Downloading package vader_lexicon to ....\n"
     ]
    },
    {
     "name": "stdout",
     "output_type": "stream",
     "text": [
      "/kaggle/input/sf-booking/hotels_test.csv\n",
      "/kaggle/input/sf-booking/hotels_train.csv\n",
      "/kaggle/input/sf-booking/submission.csv\n"
     ]
    }
   ],
   "source": [
    "!pip install Afinn\n",
    "!pip install nltk\n",
    "\n",
    "import numpy as np\n",
    "import pandas as pd\n",
    "import category_encoders as ce\n",
    "\n",
    "pd.set_option('display.max_colwidth', None)\n",
    "pd.set_option('display.float_format', '{:.3f}'.format)\n",
    "pd.set_option('display.max_rows', 200)\n",
    "\n",
    "import matplotlib.pyplot as plt\n",
    "import seaborn as sns\n",
    "%matplotlib inline\n",
    "\n",
    "import os\n",
    "import re\n",
    "import string\n",
    "import spacy\n",
    "import nltk\n",
    "from nltk.corpus import stopwords\n",
    "from nltk.sentiment.vader import SentimentIntensityAnalyzer\n",
    "# from textblob import TextBlob, Blobber\n",
    "# from textblob.sentiments import NaiveBayesAnalyzer\n",
    "from afinn import Afinn\n",
    "\n",
    "nltk.download('vader_lexicon', download_dir='.')\n",
    "\n",
    "from sklearn.model_selection import train_test_split\n",
    "from sklearn.preprocessing import MinMaxScaler\n",
    "from sklearn.feature_selection import f_classif\n",
    "from sklearn.ensemble import RandomForestRegressor\n",
    "\n",
    "for dirname, _, filenames in os.walk('/kaggle/input'):\n",
    "    for filename in filenames:\n",
    "        print(os.path.join(dirname, filename))"
   ]
  },
  {
   "cell_type": "code",
   "execution_count": 1,
   "id": "2b52d078",
   "metadata": {
    "collapsed": false,
    "execution": {
     "iopub.execute_input": "2023-02-26T08:30:21.540589Z",
     "iopub.status.busy": "2023-02-26T08:30:21.539044Z",
     "iopub.status.idle": "2023-02-26T08:30:21.544415Z",
     "shell.execute_reply": "2023-02-26T08:30:21.543533Z"
    },
    "jupyter": {
     "outputs_hidden": false
    },
    "papermill": {
     "duration": 0.033513,
     "end_time": "2023-02-26T08:30:21.546543",
     "exception": false,
     "start_time": "2023-02-26T08:30:21.513030",
     "status": "completed"
    },
    "pycharm": {
     "name": "#%%\n"
    },
    "tags": []
   },
   "outputs": [],
   "source": [
    "RANDOM_SEED = 42"
   ]
  },
  {
   "cell_type": "code",
   "execution_count": 3,
   "id": "907b000b",
   "metadata": {
    "collapsed": false,
    "execution": {
     "iopub.execute_input": "2023-02-26T08:30:21.597486Z",
     "iopub.status.busy": "2023-02-26T08:30:21.596807Z",
     "iopub.status.idle": "2023-02-26T08:30:28.419463Z",
     "shell.execute_reply": "2023-02-26T08:30:28.418131Z"
    },
    "jupyter": {
     "outputs_hidden": false
    },
    "papermill": {
     "duration": 6.852137,
     "end_time": "2023-02-26T08:30:28.423125",
     "exception": false,
     "start_time": "2023-02-26T08:30:21.570988",
     "status": "completed"
    },
    "pycharm": {
     "name": "#%%\n"
    },
    "tags": []
   },
   "outputs": [],
   "source": [
    "DATA_DIR = '/kaggle/input/sf-booking/'\n",
    "df_train = pd.read_csv(DATA_DIR + 'hotels_train.csv')\n",
    "df_test = pd.read_csv(DATA_DIR + 'hotels_test.csv')\n",
    "sample_submission = pd.read_csv(DATA_DIR + 'submission.csv')\n",
    "# local test only\n",
    "# DATA_DIR = 'data'\n",
    "# df_train = pd.read_csv(DATA_DIR + '/hotels_train.csv.zip')\n",
    "# df_test = pd.read_csv(DATA_DIR + '/hotels_test.csv.zip')\n",
    "# sample_submission = pd.read_csv(DATA_DIR + '/submission.csv.zip')"
   ]
  },
  {
   "cell_type": "code",
   "execution_count": 4,
   "id": "a931238f",
   "metadata": {
    "collapsed": false,
    "execution": {
     "iopub.execute_input": "2023-02-26T08:30:28.478825Z",
     "iopub.status.busy": "2023-02-26T08:30:28.476465Z",
     "iopub.status.idle": "2023-02-26T08:30:28.662653Z",
     "shell.execute_reply": "2023-02-26T08:30:28.660895Z"
    },
    "jupyter": {
     "outputs_hidden": false
    },
    "papermill": {
     "duration": 0.215611,
     "end_time": "2023-02-26T08:30:28.665540",
     "exception": false,
     "start_time": "2023-02-26T08:30:28.449929",
     "status": "completed"
    },
    "pycharm": {
     "name": "#%%\n"
    },
    "tags": []
   },
   "outputs": [
    {
     "name": "stdout",
     "output_type": "stream",
     "text": [
      "<class 'pandas.core.frame.DataFrame'>\n",
      "RangeIndex: 386803 entries, 0 to 386802\n",
      "Data columns (total 17 columns):\n",
      " #   Column                                      Non-Null Count   Dtype  \n",
      "---  ------                                      --------------   -----  \n",
      " 0   hotel_address                               386803 non-null  object \n",
      " 1   additional_number_of_scoring                386803 non-null  int64  \n",
      " 2   review_date                                 386803 non-null  object \n",
      " 3   average_score                               386803 non-null  float64\n",
      " 4   hotel_name                                  386803 non-null  object \n",
      " 5   reviewer_nationality                        386803 non-null  object \n",
      " 6   negative_review                             386803 non-null  object \n",
      " 7   review_total_negative_word_counts           386803 non-null  int64  \n",
      " 8   total_number_of_reviews                     386803 non-null  int64  \n",
      " 9   positive_review                             386803 non-null  object \n",
      " 10  review_total_positive_word_counts           386803 non-null  int64  \n",
      " 11  total_number_of_reviews_reviewer_has_given  386803 non-null  int64  \n",
      " 12  reviewer_score                              386803 non-null  float64\n",
      " 13  tags                                        386803 non-null  object \n",
      " 14  days_since_review                           386803 non-null  object \n",
      " 15  lat                                         384355 non-null  float64\n",
      " 16  lng                                         384355 non-null  float64\n",
      "dtypes: float64(4), int64(5), object(8)\n",
      "memory usage: 50.2+ MB\n"
     ]
    }
   ],
   "source": [
    "df_train.info()"
   ]
  },
  {
   "cell_type": "code",
   "execution_count": 5,
   "id": "26b16cea",
   "metadata": {
    "collapsed": false,
    "execution": {
     "iopub.execute_input": "2023-02-26T08:30:28.719404Z",
     "iopub.status.busy": "2023-02-26T08:30:28.718985Z",
     "iopub.status.idle": "2023-02-26T08:30:30.765561Z",
     "shell.execute_reply": "2023-02-26T08:30:30.764037Z"
    },
    "jupyter": {
     "outputs_hidden": false
    },
    "papermill": {
     "duration": 2.076211,
     "end_time": "2023-02-26T08:30:30.768140",
     "exception": false,
     "start_time": "2023-02-26T08:30:28.691929",
     "status": "completed"
    },
    "pycharm": {
     "name": "#%%\n"
    },
    "tags": []
   },
   "outputs": [
    {
     "name": "stdout",
     "output_type": "stream",
     "text": [
      "<class 'pandas.core.frame.DataFrame'>\n",
      "Int64Index: 386496 entries, 0 to 386802\n",
      "Data columns (total 17 columns):\n",
      " #   Column                                      Non-Null Count   Dtype  \n",
      "---  ------                                      --------------   -----  \n",
      " 0   hotel_address                               386496 non-null  object \n",
      " 1   additional_number_of_scoring                386496 non-null  int64  \n",
      " 2   review_date                                 386496 non-null  object \n",
      " 3   average_score                               386496 non-null  float64\n",
      " 4   hotel_name                                  386496 non-null  object \n",
      " 5   reviewer_nationality                        386496 non-null  object \n",
      " 6   negative_review                             386496 non-null  object \n",
      " 7   review_total_negative_word_counts           386496 non-null  int64  \n",
      " 8   total_number_of_reviews                     386496 non-null  int64  \n",
      " 9   positive_review                             386496 non-null  object \n",
      " 10  review_total_positive_word_counts           386496 non-null  int64  \n",
      " 11  total_number_of_reviews_reviewer_has_given  386496 non-null  int64  \n",
      " 12  reviewer_score                              386496 non-null  float64\n",
      " 13  tags                                        386496 non-null  object \n",
      " 14  days_since_review                           386496 non-null  object \n",
      " 15  lat                                         384048 non-null  float64\n",
      " 16  lng                                         384048 non-null  float64\n",
      "dtypes: float64(4), int64(5), object(8)\n",
      "memory usage: 53.1+ MB\n"
     ]
    }
   ],
   "source": [
    "dupl_columns = list(df_train.columns)\n",
    "\n",
    "mask_d = df_train.duplicated(subset=dupl_columns)\n",
    "df_train_duplicates = df_train[mask_d]\n",
    "\n",
    "df_train = df_train.drop_duplicates(subset=dupl_columns)\n",
    "\n",
    "df_train.info()"
   ]
  },
  {
   "cell_type": "code",
   "execution_count": 6,
   "id": "7a9d18d0",
   "metadata": {
    "collapsed": false,
    "execution": {
     "iopub.execute_input": "2023-02-26T08:30:30.819728Z",
     "iopub.status.busy": "2023-02-26T08:30:30.818996Z",
     "iopub.status.idle": "2023-02-26T08:30:30.842993Z",
     "shell.execute_reply": "2023-02-26T08:30:30.841841Z"
    },
    "jupyter": {
     "outputs_hidden": false
    },
    "papermill": {
     "duration": 0.053121,
     "end_time": "2023-02-26T08:30:30.845946",
     "exception": false,
     "start_time": "2023-02-26T08:30:30.792825",
     "status": "completed"
    },
    "pycharm": {
     "name": "#%%\n"
    },
    "tags": []
   },
   "outputs": [
    {
     "data": {
      "text/html": [
       "<div>\n",
       "<style scoped>\n",
       "    .dataframe tbody tr th:only-of-type {\n",
       "        vertical-align: middle;\n",
       "    }\n",
       "\n",
       "    .dataframe tbody tr th {\n",
       "        vertical-align: top;\n",
       "    }\n",
       "\n",
       "    .dataframe thead th {\n",
       "        text-align: right;\n",
       "    }\n",
       "</style>\n",
       "<table border=\"1\" class=\"dataframe\">\n",
       "  <thead>\n",
       "    <tr style=\"text-align: right;\">\n",
       "      <th></th>\n",
       "      <th>hotel_address</th>\n",
       "      <th>additional_number_of_scoring</th>\n",
       "      <th>review_date</th>\n",
       "      <th>average_score</th>\n",
       "      <th>hotel_name</th>\n",
       "      <th>reviewer_nationality</th>\n",
       "      <th>negative_review</th>\n",
       "      <th>review_total_negative_word_counts</th>\n",
       "      <th>total_number_of_reviews</th>\n",
       "      <th>positive_review</th>\n",
       "      <th>review_total_positive_word_counts</th>\n",
       "      <th>total_number_of_reviews_reviewer_has_given</th>\n",
       "      <th>reviewer_score</th>\n",
       "      <th>tags</th>\n",
       "      <th>days_since_review</th>\n",
       "      <th>lat</th>\n",
       "      <th>lng</th>\n",
       "    </tr>\n",
       "  </thead>\n",
       "  <tbody>\n",
       "    <tr>\n",
       "      <th>0</th>\n",
       "      <td>Stratton Street Mayfair Westminster Borough London W1J 8LT United Kingdom</td>\n",
       "      <td>581</td>\n",
       "      <td>2/19/2016</td>\n",
       "      <td>8.400</td>\n",
       "      <td>The May Fair Hotel</td>\n",
       "      <td>United Kingdom</td>\n",
       "      <td>Leaving</td>\n",
       "      <td>3</td>\n",
       "      <td>1994</td>\n",
       "      <td>Staff were amazing</td>\n",
       "      <td>4</td>\n",
       "      <td>7</td>\n",
       "      <td>10.000</td>\n",
       "      <td>[' Leisure trip ', ' Couple ', ' Studio Suite ', ' Stayed 2 nights ', ' Submitted from a mobile device ']</td>\n",
       "      <td>531 day</td>\n",
       "      <td>51.508</td>\n",
       "      <td>-0.144</td>\n",
       "    </tr>\n",
       "    <tr>\n",
       "      <th>1</th>\n",
       "      <td>130 134 Southampton Row Camden London WC1B 5AF United Kingdom</td>\n",
       "      <td>299</td>\n",
       "      <td>1/12/2017</td>\n",
       "      <td>8.300</td>\n",
       "      <td>Mercure London Bloomsbury Hotel</td>\n",
       "      <td>United Kingdom</td>\n",
       "      <td>poor breakfast</td>\n",
       "      <td>3</td>\n",
       "      <td>1361</td>\n",
       "      <td>location</td>\n",
       "      <td>2</td>\n",
       "      <td>14</td>\n",
       "      <td>6.300</td>\n",
       "      <td>[' Business trip ', ' Couple ', ' Standard Double Room ', ' Stayed 1 night ']</td>\n",
       "      <td>203 day</td>\n",
       "      <td>51.521</td>\n",
       "      <td>-0.123</td>\n",
       "    </tr>\n",
       "    <tr>\n",
       "      <th>2</th>\n",
       "      <td>151 bis Rue de Rennes 6th arr 75006 Paris France</td>\n",
       "      <td>32</td>\n",
       "      <td>10/18/2016</td>\n",
       "      <td>8.900</td>\n",
       "      <td>Legend Saint Germain by Elegancia</td>\n",
       "      <td>China</td>\n",
       "      <td>No kettle in room</td>\n",
       "      <td>6</td>\n",
       "      <td>406</td>\n",
       "      <td>No Positive</td>\n",
       "      <td>0</td>\n",
       "      <td>14</td>\n",
       "      <td>7.500</td>\n",
       "      <td>[' Leisure trip ', ' Solo traveler ', ' Modern Double Room Echo ', ' Stayed 3 nights ', ' Submitted from a mobile device ']</td>\n",
       "      <td>289 day</td>\n",
       "      <td>48.845</td>\n",
       "      <td>2.326</td>\n",
       "    </tr>\n",
       "    <tr>\n",
       "      <th>3</th>\n",
       "      <td>216 Avenue Jean Jaures 19th arr 75019 Paris France</td>\n",
       "      <td>34</td>\n",
       "      <td>9/22/2015</td>\n",
       "      <td>7.500</td>\n",
       "      <td>Mercure Paris 19 Philharmonie La Villette</td>\n",
       "      <td>United Kingdom</td>\n",
       "      <td>No Negative</td>\n",
       "      <td>0</td>\n",
       "      <td>607</td>\n",
       "      <td>Friendly staff quiet comfortable room spotlessly clean excellent location</td>\n",
       "      <td>11</td>\n",
       "      <td>8</td>\n",
       "      <td>10.000</td>\n",
       "      <td>[' Leisure trip ', ' Solo traveler ', ' Standard Room with 1 Double Bed ', ' Stayed 1 night ']</td>\n",
       "      <td>681 day</td>\n",
       "      <td>48.889</td>\n",
       "      <td>2.395</td>\n",
       "    </tr>\n",
       "    <tr>\n",
       "      <th>4</th>\n",
       "      <td>Molenwerf 1 1014 AG Amsterdam Netherlands</td>\n",
       "      <td>914</td>\n",
       "      <td>3/5/2016</td>\n",
       "      <td>8.500</td>\n",
       "      <td>Golden Tulip Amsterdam West</td>\n",
       "      <td>Poland</td>\n",
       "      <td>Torn sheets</td>\n",
       "      <td>4</td>\n",
       "      <td>7586</td>\n",
       "      <td>The staff was very friendly and helpful Breakfasts were just extraordinary Room was clean quiet and very spacious</td>\n",
       "      <td>20</td>\n",
       "      <td>10</td>\n",
       "      <td>9.600</td>\n",
       "      <td>[' Business trip ', ' Couple ', ' Standard Double or Twin Room ', ' Stayed 6 nights ']</td>\n",
       "      <td>516 day</td>\n",
       "      <td>52.386</td>\n",
       "      <td>4.847</td>\n",
       "    </tr>\n",
       "  </tbody>\n",
       "</table>\n",
       "</div>"
      ],
      "text/plain": [
       "                                                               hotel_address  \\\n",
       "0  Stratton Street Mayfair Westminster Borough London W1J 8LT United Kingdom   \n",
       "1              130 134 Southampton Row Camden London WC1B 5AF United Kingdom   \n",
       "2                           151 bis Rue de Rennes 6th arr 75006 Paris France   \n",
       "3                         216 Avenue Jean Jaures 19th arr 75019 Paris France   \n",
       "4                                  Molenwerf 1 1014 AG Amsterdam Netherlands   \n",
       "\n",
       "   additional_number_of_scoring review_date  average_score  \\\n",
       "0                           581   2/19/2016          8.400   \n",
       "1                           299   1/12/2017          8.300   \n",
       "2                            32  10/18/2016          8.900   \n",
       "3                            34   9/22/2015          7.500   \n",
       "4                           914    3/5/2016          8.500   \n",
       "\n",
       "                                  hotel_name reviewer_nationality  \\\n",
       "0                         The May Fair Hotel      United Kingdom    \n",
       "1            Mercure London Bloomsbury Hotel      United Kingdom    \n",
       "2          Legend Saint Germain by Elegancia               China    \n",
       "3  Mercure Paris 19 Philharmonie La Villette      United Kingdom    \n",
       "4                Golden Tulip Amsterdam West              Poland    \n",
       "\n",
       "       negative_review  review_total_negative_word_counts  \\\n",
       "0             Leaving                                   3   \n",
       "1       poor breakfast                                  3   \n",
       "2   No kettle in room                                   6   \n",
       "3          No Negative                                  0   \n",
       "4         Torn sheets                                   4   \n",
       "\n",
       "   total_number_of_reviews  \\\n",
       "0                     1994   \n",
       "1                     1361   \n",
       "2                      406   \n",
       "3                      607   \n",
       "4                     7586   \n",
       "\n",
       "                                                                                                       positive_review  \\\n",
       "0                                                                                                   Staff were amazing   \n",
       "1                                                                                                             location   \n",
       "2                                                                                                          No Positive   \n",
       "3                                           Friendly staff quiet comfortable room spotlessly clean excellent location    \n",
       "4   The staff was very friendly and helpful Breakfasts were just extraordinary Room was clean quiet and very spacious    \n",
       "\n",
       "   review_total_positive_word_counts  \\\n",
       "0                                  4   \n",
       "1                                  2   \n",
       "2                                  0   \n",
       "3                                 11   \n",
       "4                                 20   \n",
       "\n",
       "   total_number_of_reviews_reviewer_has_given  reviewer_score  \\\n",
       "0                                           7          10.000   \n",
       "1                                          14           6.300   \n",
       "2                                          14           7.500   \n",
       "3                                           8          10.000   \n",
       "4                                          10           9.600   \n",
       "\n",
       "                                                                                                                          tags  \\\n",
       "0                    [' Leisure trip ', ' Couple ', ' Studio Suite ', ' Stayed 2 nights ', ' Submitted from a mobile device ']   \n",
       "1                                                [' Business trip ', ' Couple ', ' Standard Double Room ', ' Stayed 1 night ']   \n",
       "2  [' Leisure trip ', ' Solo traveler ', ' Modern Double Room Echo ', ' Stayed 3 nights ', ' Submitted from a mobile device ']   \n",
       "3                               [' Leisure trip ', ' Solo traveler ', ' Standard Room with 1 Double Bed ', ' Stayed 1 night ']   \n",
       "4                                       [' Business trip ', ' Couple ', ' Standard Double or Twin Room ', ' Stayed 6 nights ']   \n",
       "\n",
       "  days_since_review    lat    lng  \n",
       "0           531 day 51.508 -0.144  \n",
       "1           203 day 51.521 -0.123  \n",
       "2           289 day 48.845  2.326  \n",
       "3           681 day 48.889  2.395  \n",
       "4           516 day 52.386  4.847  "
      ]
     },
     "execution_count": 6,
     "metadata": {},
     "output_type": "execute_result"
    }
   ],
   "source": [
    "df_train.head()"
   ]
  },
  {
   "cell_type": "code",
   "execution_count": 7,
   "id": "abe6ba34",
   "metadata": {
    "collapsed": false,
    "execution": {
     "iopub.execute_input": "2023-02-26T08:30:30.898910Z",
     "iopub.status.busy": "2023-02-26T08:30:30.898495Z",
     "iopub.status.idle": "2023-02-26T08:30:30.965465Z",
     "shell.execute_reply": "2023-02-26T08:30:30.963874Z"
    },
    "jupyter": {
     "outputs_hidden": false
    },
    "papermill": {
     "duration": 0.097022,
     "end_time": "2023-02-26T08:30:30.968190",
     "exception": false,
     "start_time": "2023-02-26T08:30:30.871168",
     "status": "completed"
    },
    "pycharm": {
     "name": "#%%\n"
    },
    "tags": []
   },
   "outputs": [
    {
     "name": "stdout",
     "output_type": "stream",
     "text": [
      "<class 'pandas.core.frame.DataFrame'>\n",
      "RangeIndex: 128935 entries, 0 to 128934\n",
      "Data columns (total 16 columns):\n",
      " #   Column                                      Non-Null Count   Dtype  \n",
      "---  ------                                      --------------   -----  \n",
      " 0   hotel_address                               128935 non-null  object \n",
      " 1   additional_number_of_scoring                128935 non-null  int64  \n",
      " 2   review_date                                 128935 non-null  object \n",
      " 3   average_score                               128935 non-null  float64\n",
      " 4   hotel_name                                  128935 non-null  object \n",
      " 5   reviewer_nationality                        128935 non-null  object \n",
      " 6   negative_review                             128935 non-null  object \n",
      " 7   review_total_negative_word_counts           128935 non-null  int64  \n",
      " 8   total_number_of_reviews                     128935 non-null  int64  \n",
      " 9   positive_review                             128935 non-null  object \n",
      " 10  review_total_positive_word_counts           128935 non-null  int64  \n",
      " 11  total_number_of_reviews_reviewer_has_given  128935 non-null  int64  \n",
      " 12  tags                                        128935 non-null  object \n",
      " 13  days_since_review                           128935 non-null  object \n",
      " 14  lat                                         128115 non-null  float64\n",
      " 15  lng                                         128115 non-null  float64\n",
      "dtypes: float64(3), int64(5), object(8)\n",
      "memory usage: 15.7+ MB\n"
     ]
    }
   ],
   "source": [
    "df_test.info()"
   ]
  },
  {
   "cell_type": "code",
   "execution_count": 8,
   "id": "487fab05",
   "metadata": {
    "collapsed": false,
    "execution": {
     "iopub.execute_input": "2023-02-26T08:30:31.020243Z",
     "iopub.status.busy": "2023-02-26T08:30:31.019825Z",
     "iopub.status.idle": "2023-02-26T08:30:31.039331Z",
     "shell.execute_reply": "2023-02-26T08:30:31.038185Z"
    },
    "jupyter": {
     "outputs_hidden": false
    },
    "papermill": {
     "duration": 0.048696,
     "end_time": "2023-02-26T08:30:31.041931",
     "exception": false,
     "start_time": "2023-02-26T08:30:30.993235",
     "status": "completed"
    },
    "pycharm": {
     "name": "#%%\n"
    },
    "tags": []
   },
   "outputs": [
    {
     "data": {
      "text/html": [
       "<div>\n",
       "<style scoped>\n",
       "    .dataframe tbody tr th:only-of-type {\n",
       "        vertical-align: middle;\n",
       "    }\n",
       "\n",
       "    .dataframe tbody tr th {\n",
       "        vertical-align: top;\n",
       "    }\n",
       "\n",
       "    .dataframe thead th {\n",
       "        text-align: right;\n",
       "    }\n",
       "</style>\n",
       "<table border=\"1\" class=\"dataframe\">\n",
       "  <thead>\n",
       "    <tr style=\"text-align: right;\">\n",
       "      <th></th>\n",
       "      <th>hotel_address</th>\n",
       "      <th>additional_number_of_scoring</th>\n",
       "      <th>review_date</th>\n",
       "      <th>average_score</th>\n",
       "      <th>hotel_name</th>\n",
       "      <th>reviewer_nationality</th>\n",
       "      <th>negative_review</th>\n",
       "      <th>review_total_negative_word_counts</th>\n",
       "      <th>total_number_of_reviews</th>\n",
       "      <th>positive_review</th>\n",
       "      <th>review_total_positive_word_counts</th>\n",
       "      <th>total_number_of_reviews_reviewer_has_given</th>\n",
       "      <th>tags</th>\n",
       "      <th>days_since_review</th>\n",
       "      <th>lat</th>\n",
       "      <th>lng</th>\n",
       "    </tr>\n",
       "  </thead>\n",
       "  <tbody>\n",
       "    <tr>\n",
       "      <th>0</th>\n",
       "      <td>Via Senigallia 6 20161 Milan Italy</td>\n",
       "      <td>904</td>\n",
       "      <td>7/21/2017</td>\n",
       "      <td>8.100</td>\n",
       "      <td>Hotel Da Vinci</td>\n",
       "      <td>United Kingdom</td>\n",
       "      <td>Would have appreciated a shop in the hotel that sold drinking water etc but not necessity Would recommend if like us you arrive late at night to bring drinks from plane airport as there s no shop nearby There is a minibar though if you want to pay those prices</td>\n",
       "      <td>52</td>\n",
       "      <td>16670</td>\n",
       "      <td>Hotel was great clean friendly staff free breakfast every morning with good selection good wifi connection nice sized room with bath fridge in room Personally loved the fact that the hotel isn t in the city centre but is literally next to a train station that you can easily get to and from the airport city Would definitely stay again</td>\n",
       "      <td>62</td>\n",
       "      <td>1</td>\n",
       "      <td>[' Leisure trip ', ' Couple ', ' Double Room ', ' Stayed 2 nights ']</td>\n",
       "      <td>13 days</td>\n",
       "      <td>45.533</td>\n",
       "      <td>9.171</td>\n",
       "    </tr>\n",
       "    <tr>\n",
       "      <th>1</th>\n",
       "      <td>Arlandaweg 10 Westpoort 1043 EW Amsterdam Netherlands</td>\n",
       "      <td>612</td>\n",
       "      <td>12/12/2016</td>\n",
       "      <td>8.600</td>\n",
       "      <td>Urban Lodge Hotel</td>\n",
       "      <td>Belgium</td>\n",
       "      <td>No tissue paper box was present at the room</td>\n",
       "      <td>10</td>\n",
       "      <td>5018</td>\n",
       "      <td>No Positive</td>\n",
       "      <td>0</td>\n",
       "      <td>7</td>\n",
       "      <td>[' Leisure trip ', ' Group ', ' Triple Room ', ' Stayed 1 night ']</td>\n",
       "      <td>234 day</td>\n",
       "      <td>52.386</td>\n",
       "      <td>4.834</td>\n",
       "    </tr>\n",
       "    <tr>\n",
       "      <th>2</th>\n",
       "      <td>Mallorca 251 Eixample 08008 Barcelona Spain</td>\n",
       "      <td>46</td>\n",
       "      <td>11/26/2015</td>\n",
       "      <td>8.300</td>\n",
       "      <td>Alexandra Barcelona A DoubleTree by Hilton</td>\n",
       "      <td>Sweden</td>\n",
       "      <td>Pillows</td>\n",
       "      <td>3</td>\n",
       "      <td>351</td>\n",
       "      <td>Nice welcoming and service</td>\n",
       "      <td>5</td>\n",
       "      <td>15</td>\n",
       "      <td>[' Business trip ', ' Solo traveler ', ' Twin Room ', ' Stayed 1 night ', ' Submitted from a mobile device ']</td>\n",
       "      <td>616 day</td>\n",
       "      <td>41.393</td>\n",
       "      <td>2.162</td>\n",
       "    </tr>\n",
       "    <tr>\n",
       "      <th>3</th>\n",
       "      <td>Piazza Della Repubblica 17 Central Station 20124 Milan Italy</td>\n",
       "      <td>241</td>\n",
       "      <td>10/17/2015</td>\n",
       "      <td>9.100</td>\n",
       "      <td>Hotel Principe Di Savoia</td>\n",
       "      <td>United States of America</td>\n",
       "      <td>No Negative</td>\n",
       "      <td>0</td>\n",
       "      <td>1543</td>\n",
       "      <td>Everything including the nice upgrade The Hotel has been revamped and what a surprise Love every second of it including in room dining which was excellent</td>\n",
       "      <td>27</td>\n",
       "      <td>9</td>\n",
       "      <td>[' Leisure trip ', ' Couple ', ' Ambassador Junior Suite ', ' Stayed 1 night ']</td>\n",
       "      <td>656 day</td>\n",
       "      <td>45.480</td>\n",
       "      <td>9.196</td>\n",
       "    </tr>\n",
       "    <tr>\n",
       "      <th>4</th>\n",
       "      <td>Singel 303 309 Amsterdam City Center 1012 WJ Amsterdam Netherlands</td>\n",
       "      <td>834</td>\n",
       "      <td>5/16/2016</td>\n",
       "      <td>9.100</td>\n",
       "      <td>Hotel Esther a</td>\n",
       "      <td>United Kingdom</td>\n",
       "      <td>No Negative</td>\n",
       "      <td>0</td>\n",
       "      <td>4687</td>\n",
       "      <td>Lovely hotel v welcoming staff</td>\n",
       "      <td>7</td>\n",
       "      <td>2</td>\n",
       "      <td>[' Business trip ', ' Solo traveler ', ' Classic Double or Twin Room ', ' Stayed 2 nights ', ' Submitted from a mobile device ']</td>\n",
       "      <td>444 day</td>\n",
       "      <td>52.371</td>\n",
       "      <td>4.889</td>\n",
       "    </tr>\n",
       "  </tbody>\n",
       "</table>\n",
       "</div>"
      ],
      "text/plain": [
       "                                                        hotel_address  \\\n",
       "0                                  Via Senigallia 6 20161 Milan Italy   \n",
       "1               Arlandaweg 10 Westpoort 1043 EW Amsterdam Netherlands   \n",
       "2                         Mallorca 251 Eixample 08008 Barcelona Spain   \n",
       "3        Piazza Della Repubblica 17 Central Station 20124 Milan Italy   \n",
       "4  Singel 303 309 Amsterdam City Center 1012 WJ Amsterdam Netherlands   \n",
       "\n",
       "   additional_number_of_scoring review_date  average_score  \\\n",
       "0                           904   7/21/2017          8.100   \n",
       "1                           612  12/12/2016          8.600   \n",
       "2                            46  11/26/2015          8.300   \n",
       "3                           241  10/17/2015          9.100   \n",
       "4                           834   5/16/2016          9.100   \n",
       "\n",
       "                                   hotel_name        reviewer_nationality  \\\n",
       "0                              Hotel Da Vinci             United Kingdom    \n",
       "1                           Urban Lodge Hotel                    Belgium    \n",
       "2  Alexandra Barcelona A DoubleTree by Hilton                     Sweden    \n",
       "3                    Hotel Principe Di Savoia   United States of America    \n",
       "4                              Hotel Esther a             United Kingdom    \n",
       "\n",
       "                                                                                                                                                                                                                                                          negative_review  \\\n",
       "0   Would have appreciated a shop in the hotel that sold drinking water etc but not necessity Would recommend if like us you arrive late at night to bring drinks from plane airport as there s no shop nearby There is a minibar though if you want to pay those prices    \n",
       "1                                                                                                                                                                                                                             No tissue paper box was present at the room   \n",
       "2                                                                                                                                                                                                                                                                Pillows    \n",
       "3                                                                                                                                                                                                                                                             No Negative   \n",
       "4                                                                                                                                                                                                                                                             No Negative   \n",
       "\n",
       "   review_total_negative_word_counts  total_number_of_reviews  \\\n",
       "0                                 52                    16670   \n",
       "1                                 10                     5018   \n",
       "2                                  3                      351   \n",
       "3                                  0                     1543   \n",
       "4                                  0                     4687   \n",
       "\n",
       "                                                                                                                                                                                                                                                                                                                                     positive_review  \\\n",
       "0   Hotel was great clean friendly staff free breakfast every morning with good selection good wifi connection nice sized room with bath fridge in room Personally loved the fact that the hotel isn t in the city centre but is literally next to a train station that you can easily get to and from the airport city Would definitely stay again    \n",
       "1                                                                                                                                                                                                                                                                                                                                        No Positive   \n",
       "2                                                                                                                                                                                                                                                                                                                         Nice welcoming and service   \n",
       "3                                                                                                                                                                                         Everything including the nice upgrade The Hotel has been revamped and what a surprise Love every second of it including in room dining which was excellent   \n",
       "4                                                                                                                                                                                                                                                                                                                    Lovely hotel v welcoming staff    \n",
       "\n",
       "   review_total_positive_word_counts  \\\n",
       "0                                 62   \n",
       "1                                  0   \n",
       "2                                  5   \n",
       "3                                 27   \n",
       "4                                  7   \n",
       "\n",
       "   total_number_of_reviews_reviewer_has_given  \\\n",
       "0                                           1   \n",
       "1                                           7   \n",
       "2                                          15   \n",
       "3                                           9   \n",
       "4                                           2   \n",
       "\n",
       "                                                                                                                               tags  \\\n",
       "0                                                              [' Leisure trip ', ' Couple ', ' Double Room ', ' Stayed 2 nights ']   \n",
       "1                                                                [' Leisure trip ', ' Group ', ' Triple Room ', ' Stayed 1 night ']   \n",
       "2                     [' Business trip ', ' Solo traveler ', ' Twin Room ', ' Stayed 1 night ', ' Submitted from a mobile device ']   \n",
       "3                                                   [' Leisure trip ', ' Couple ', ' Ambassador Junior Suite ', ' Stayed 1 night ']   \n",
       "4  [' Business trip ', ' Solo traveler ', ' Classic Double or Twin Room ', ' Stayed 2 nights ', ' Submitted from a mobile device ']   \n",
       "\n",
       "  days_since_review    lat   lng  \n",
       "0           13 days 45.533 9.171  \n",
       "1           234 day 52.386 4.834  \n",
       "2           616 day 41.393 2.162  \n",
       "3           656 day 45.480 9.196  \n",
       "4           444 day 52.371 4.889  "
      ]
     },
     "execution_count": 8,
     "metadata": {},
     "output_type": "execute_result"
    }
   ],
   "source": [
    "df_test.head()"
   ]
  },
  {
   "cell_type": "code",
   "execution_count": 9,
   "id": "6e7b9170",
   "metadata": {
    "collapsed": false,
    "execution": {
     "iopub.execute_input": "2023-02-26T08:30:31.095006Z",
     "iopub.status.busy": "2023-02-26T08:30:31.094545Z",
     "iopub.status.idle": "2023-02-26T08:30:31.107174Z",
     "shell.execute_reply": "2023-02-26T08:30:31.105453Z"
    },
    "jupyter": {
     "outputs_hidden": false
    },
    "papermill": {
     "duration": 0.042446,
     "end_time": "2023-02-26T08:30:31.110106",
     "exception": false,
     "start_time": "2023-02-26T08:30:31.067660",
     "status": "completed"
    },
    "pycharm": {
     "name": "#%%\n"
    },
    "tags": []
   },
   "outputs": [
    {
     "name": "stdout",
     "output_type": "stream",
     "text": [
      "<class 'pandas.core.frame.DataFrame'>\n",
      "RangeIndex: 128935 entries, 0 to 128934\n",
      "Data columns (total 2 columns):\n",
      " #   Column          Non-Null Count   Dtype\n",
      "---  ------          --------------   -----\n",
      " 0   reviewer_score  128935 non-null  int64\n",
      " 1   id              128935 non-null  int64\n",
      "dtypes: int64(2)\n",
      "memory usage: 2.0 MB\n"
     ]
    }
   ],
   "source": [
    "sample_submission.info()"
   ]
  },
  {
   "cell_type": "code",
   "execution_count": 10,
   "id": "de322b29",
   "metadata": {
    "collapsed": false,
    "execution": {
     "iopub.execute_input": "2023-02-26T08:30:31.163105Z",
     "iopub.status.busy": "2023-02-26T08:30:31.162669Z",
     "iopub.status.idle": "2023-02-26T08:30:31.172353Z",
     "shell.execute_reply": "2023-02-26T08:30:31.171196Z"
    },
    "jupyter": {
     "outputs_hidden": false
    },
    "papermill": {
     "duration": 0.03911,
     "end_time": "2023-02-26T08:30:31.174676",
     "exception": false,
     "start_time": "2023-02-26T08:30:31.135566",
     "status": "completed"
    },
    "pycharm": {
     "name": "#%%\n"
    },
    "tags": []
   },
   "outputs": [
    {
     "data": {
      "text/html": [
       "<div>\n",
       "<style scoped>\n",
       "    .dataframe tbody tr th:only-of-type {\n",
       "        vertical-align: middle;\n",
       "    }\n",
       "\n",
       "    .dataframe tbody tr th {\n",
       "        vertical-align: top;\n",
       "    }\n",
       "\n",
       "    .dataframe thead th {\n",
       "        text-align: right;\n",
       "    }\n",
       "</style>\n",
       "<table border=\"1\" class=\"dataframe\">\n",
       "  <thead>\n",
       "    <tr style=\"text-align: right;\">\n",
       "      <th></th>\n",
       "      <th>reviewer_score</th>\n",
       "      <th>id</th>\n",
       "    </tr>\n",
       "  </thead>\n",
       "  <tbody>\n",
       "    <tr>\n",
       "      <th>0</th>\n",
       "      <td>1</td>\n",
       "      <td>488440</td>\n",
       "    </tr>\n",
       "    <tr>\n",
       "      <th>1</th>\n",
       "      <td>10</td>\n",
       "      <td>274649</td>\n",
       "    </tr>\n",
       "    <tr>\n",
       "      <th>2</th>\n",
       "      <td>3</td>\n",
       "      <td>374688</td>\n",
       "    </tr>\n",
       "    <tr>\n",
       "      <th>3</th>\n",
       "      <td>10</td>\n",
       "      <td>404352</td>\n",
       "    </tr>\n",
       "    <tr>\n",
       "      <th>4</th>\n",
       "      <td>9</td>\n",
       "      <td>451596</td>\n",
       "    </tr>\n",
       "  </tbody>\n",
       "</table>\n",
       "</div>"
      ],
      "text/plain": [
       "   reviewer_score      id\n",
       "0               1  488440\n",
       "1              10  274649\n",
       "2               3  374688\n",
       "3              10  404352\n",
       "4               9  451596"
      ]
     },
     "execution_count": 10,
     "metadata": {},
     "output_type": "execute_result"
    }
   ],
   "source": [
    "sample_submission.head()"
   ]
  },
  {
   "cell_type": "markdown",
   "id": "ad8f1d62",
   "metadata": {
    "papermill": {
     "duration": 0.025599,
     "end_time": "2023-02-26T08:30:31.226596",
     "exception": false,
     "start_time": "2023-02-26T08:30:31.200997",
     "status": "completed"
    },
    "pycharm": {
     "name": "#%% md\n"
    },
    "tags": []
   },
   "source": [
    "Для обработки признаков сольем тренировочный и тестовый датасет в один, для разделения добавим общий признак sample, который будет равен 1 для тренировочных данных и 0 для тестовых. Так же в тестовом датасете создадим целевой признак reviewer_score и заполним его нулями."
   ]
  },
  {
   "cell_type": "code",
   "execution_count": 11,
   "id": "9558a4f3",
   "metadata": {
    "collapsed": false,
    "execution": {
     "iopub.execute_input": "2023-02-26T08:30:31.280057Z",
     "iopub.status.busy": "2023-02-26T08:30:31.279630Z",
     "iopub.status.idle": "2023-02-26T08:30:31.810322Z",
     "shell.execute_reply": "2023-02-26T08:30:31.809070Z"
    },
    "jupyter": {
     "outputs_hidden": false
    },
    "papermill": {
     "duration": 0.56077,
     "end_time": "2023-02-26T08:30:31.813189",
     "exception": false,
     "start_time": "2023-02-26T08:30:31.252419",
     "status": "completed"
    },
    "pycharm": {
     "name": "#%%\n"
    },
    "tags": []
   },
   "outputs": [],
   "source": [
    "df_train['sample'] = 1\n",
    "df_test['sample'] = 0\n",
    "df_test['reviewer_score'] = 0\n",
    "\n",
    "hotels = pd.concat([df_train, df_test], sort=False).reset_index(drop=True)"
   ]
  },
  {
   "cell_type": "code",
   "execution_count": 12,
   "id": "c937b93b",
   "metadata": {
    "collapsed": false,
    "execution": {
     "iopub.execute_input": "2023-02-26T08:30:31.867498Z",
     "iopub.status.busy": "2023-02-26T08:30:31.867088Z",
     "iopub.status.idle": "2023-02-26T08:30:32.091189Z",
     "shell.execute_reply": "2023-02-26T08:30:32.089615Z"
    },
    "jupyter": {
     "outputs_hidden": false
    },
    "papermill": {
     "duration": 0.254456,
     "end_time": "2023-02-26T08:30:32.093751",
     "exception": false,
     "start_time": "2023-02-26T08:30:31.839295",
     "status": "completed"
    },
    "pycharm": {
     "name": "#%%\n"
    },
    "tags": []
   },
   "outputs": [
    {
     "name": "stdout",
     "output_type": "stream",
     "text": [
      "<class 'pandas.core.frame.DataFrame'>\n",
      "RangeIndex: 515431 entries, 0 to 515430\n",
      "Data columns (total 18 columns):\n",
      " #   Column                                      Non-Null Count   Dtype  \n",
      "---  ------                                      --------------   -----  \n",
      " 0   hotel_address                               515431 non-null  object \n",
      " 1   additional_number_of_scoring                515431 non-null  int64  \n",
      " 2   review_date                                 515431 non-null  object \n",
      " 3   average_score                               515431 non-null  float64\n",
      " 4   hotel_name                                  515431 non-null  object \n",
      " 5   reviewer_nationality                        515431 non-null  object \n",
      " 6   negative_review                             515431 non-null  object \n",
      " 7   review_total_negative_word_counts           515431 non-null  int64  \n",
      " 8   total_number_of_reviews                     515431 non-null  int64  \n",
      " 9   positive_review                             515431 non-null  object \n",
      " 10  review_total_positive_word_counts           515431 non-null  int64  \n",
      " 11  total_number_of_reviews_reviewer_has_given  515431 non-null  int64  \n",
      " 12  reviewer_score                              515431 non-null  float64\n",
      " 13  tags                                        515431 non-null  object \n",
      " 14  days_since_review                           515431 non-null  object \n",
      " 15  lat                                         512163 non-null  float64\n",
      " 16  lng                                         512163 non-null  float64\n",
      " 17  sample                                      515431 non-null  int64  \n",
      "dtypes: float64(4), int64(6), object(8)\n",
      "memory usage: 70.8+ MB\n"
     ]
    }
   ],
   "source": [
    "hotels.info()"
   ]
  },
  {
   "cell_type": "code",
   "execution_count": 13,
   "id": "87975b35",
   "metadata": {
    "collapsed": false,
    "execution": {
     "iopub.execute_input": "2023-02-26T08:30:32.147518Z",
     "iopub.status.busy": "2023-02-26T08:30:32.146665Z",
     "iopub.status.idle": "2023-02-26T08:30:32.164974Z",
     "shell.execute_reply": "2023-02-26T08:30:32.164093Z"
    },
    "jupyter": {
     "outputs_hidden": false
    },
    "papermill": {
     "duration": 0.047228,
     "end_time": "2023-02-26T08:30:32.167044",
     "exception": false,
     "start_time": "2023-02-26T08:30:32.119816",
     "status": "completed"
    },
    "pycharm": {
     "name": "#%%\n"
    },
    "tags": []
   },
   "outputs": [
    {
     "data": {
      "text/html": [
       "<div>\n",
       "<style scoped>\n",
       "    .dataframe tbody tr th:only-of-type {\n",
       "        vertical-align: middle;\n",
       "    }\n",
       "\n",
       "    .dataframe tbody tr th {\n",
       "        vertical-align: top;\n",
       "    }\n",
       "\n",
       "    .dataframe thead th {\n",
       "        text-align: right;\n",
       "    }\n",
       "</style>\n",
       "<table border=\"1\" class=\"dataframe\">\n",
       "  <thead>\n",
       "    <tr style=\"text-align: right;\">\n",
       "      <th></th>\n",
       "      <th>hotel_address</th>\n",
       "      <th>additional_number_of_scoring</th>\n",
       "      <th>review_date</th>\n",
       "      <th>average_score</th>\n",
       "      <th>hotel_name</th>\n",
       "      <th>reviewer_nationality</th>\n",
       "      <th>negative_review</th>\n",
       "      <th>review_total_negative_word_counts</th>\n",
       "      <th>total_number_of_reviews</th>\n",
       "      <th>positive_review</th>\n",
       "      <th>review_total_positive_word_counts</th>\n",
       "      <th>total_number_of_reviews_reviewer_has_given</th>\n",
       "      <th>reviewer_score</th>\n",
       "      <th>tags</th>\n",
       "      <th>days_since_review</th>\n",
       "      <th>lat</th>\n",
       "      <th>lng</th>\n",
       "      <th>sample</th>\n",
       "    </tr>\n",
       "  </thead>\n",
       "  <tbody>\n",
       "    <tr>\n",
       "      <th>0</th>\n",
       "      <td>Stratton Street Mayfair Westminster Borough London W1J 8LT United Kingdom</td>\n",
       "      <td>581</td>\n",
       "      <td>2/19/2016</td>\n",
       "      <td>8.400</td>\n",
       "      <td>The May Fair Hotel</td>\n",
       "      <td>United Kingdom</td>\n",
       "      <td>Leaving</td>\n",
       "      <td>3</td>\n",
       "      <td>1994</td>\n",
       "      <td>Staff were amazing</td>\n",
       "      <td>4</td>\n",
       "      <td>7</td>\n",
       "      <td>10.000</td>\n",
       "      <td>[' Leisure trip ', ' Couple ', ' Studio Suite ', ' Stayed 2 nights ', ' Submitted from a mobile device ']</td>\n",
       "      <td>531 day</td>\n",
       "      <td>51.508</td>\n",
       "      <td>-0.144</td>\n",
       "      <td>1</td>\n",
       "    </tr>\n",
       "    <tr>\n",
       "      <th>1</th>\n",
       "      <td>130 134 Southampton Row Camden London WC1B 5AF United Kingdom</td>\n",
       "      <td>299</td>\n",
       "      <td>1/12/2017</td>\n",
       "      <td>8.300</td>\n",
       "      <td>Mercure London Bloomsbury Hotel</td>\n",
       "      <td>United Kingdom</td>\n",
       "      <td>poor breakfast</td>\n",
       "      <td>3</td>\n",
       "      <td>1361</td>\n",
       "      <td>location</td>\n",
       "      <td>2</td>\n",
       "      <td>14</td>\n",
       "      <td>6.300</td>\n",
       "      <td>[' Business trip ', ' Couple ', ' Standard Double Room ', ' Stayed 1 night ']</td>\n",
       "      <td>203 day</td>\n",
       "      <td>51.521</td>\n",
       "      <td>-0.123</td>\n",
       "      <td>1</td>\n",
       "    </tr>\n",
       "    <tr>\n",
       "      <th>2</th>\n",
       "      <td>151 bis Rue de Rennes 6th arr 75006 Paris France</td>\n",
       "      <td>32</td>\n",
       "      <td>10/18/2016</td>\n",
       "      <td>8.900</td>\n",
       "      <td>Legend Saint Germain by Elegancia</td>\n",
       "      <td>China</td>\n",
       "      <td>No kettle in room</td>\n",
       "      <td>6</td>\n",
       "      <td>406</td>\n",
       "      <td>No Positive</td>\n",
       "      <td>0</td>\n",
       "      <td>14</td>\n",
       "      <td>7.500</td>\n",
       "      <td>[' Leisure trip ', ' Solo traveler ', ' Modern Double Room Echo ', ' Stayed 3 nights ', ' Submitted from a mobile device ']</td>\n",
       "      <td>289 day</td>\n",
       "      <td>48.845</td>\n",
       "      <td>2.326</td>\n",
       "      <td>1</td>\n",
       "    </tr>\n",
       "    <tr>\n",
       "      <th>3</th>\n",
       "      <td>216 Avenue Jean Jaures 19th arr 75019 Paris France</td>\n",
       "      <td>34</td>\n",
       "      <td>9/22/2015</td>\n",
       "      <td>7.500</td>\n",
       "      <td>Mercure Paris 19 Philharmonie La Villette</td>\n",
       "      <td>United Kingdom</td>\n",
       "      <td>No Negative</td>\n",
       "      <td>0</td>\n",
       "      <td>607</td>\n",
       "      <td>Friendly staff quiet comfortable room spotlessly clean excellent location</td>\n",
       "      <td>11</td>\n",
       "      <td>8</td>\n",
       "      <td>10.000</td>\n",
       "      <td>[' Leisure trip ', ' Solo traveler ', ' Standard Room with 1 Double Bed ', ' Stayed 1 night ']</td>\n",
       "      <td>681 day</td>\n",
       "      <td>48.889</td>\n",
       "      <td>2.395</td>\n",
       "      <td>1</td>\n",
       "    </tr>\n",
       "    <tr>\n",
       "      <th>4</th>\n",
       "      <td>Molenwerf 1 1014 AG Amsterdam Netherlands</td>\n",
       "      <td>914</td>\n",
       "      <td>3/5/2016</td>\n",
       "      <td>8.500</td>\n",
       "      <td>Golden Tulip Amsterdam West</td>\n",
       "      <td>Poland</td>\n",
       "      <td>Torn sheets</td>\n",
       "      <td>4</td>\n",
       "      <td>7586</td>\n",
       "      <td>The staff was very friendly and helpful Breakfasts were just extraordinary Room was clean quiet and very spacious</td>\n",
       "      <td>20</td>\n",
       "      <td>10</td>\n",
       "      <td>9.600</td>\n",
       "      <td>[' Business trip ', ' Couple ', ' Standard Double or Twin Room ', ' Stayed 6 nights ']</td>\n",
       "      <td>516 day</td>\n",
       "      <td>52.386</td>\n",
       "      <td>4.847</td>\n",
       "      <td>1</td>\n",
       "    </tr>\n",
       "  </tbody>\n",
       "</table>\n",
       "</div>"
      ],
      "text/plain": [
       "                                                               hotel_address  \\\n",
       "0  Stratton Street Mayfair Westminster Borough London W1J 8LT United Kingdom   \n",
       "1              130 134 Southampton Row Camden London WC1B 5AF United Kingdom   \n",
       "2                           151 bis Rue de Rennes 6th arr 75006 Paris France   \n",
       "3                         216 Avenue Jean Jaures 19th arr 75019 Paris France   \n",
       "4                                  Molenwerf 1 1014 AG Amsterdam Netherlands   \n",
       "\n",
       "   additional_number_of_scoring review_date  average_score  \\\n",
       "0                           581   2/19/2016          8.400   \n",
       "1                           299   1/12/2017          8.300   \n",
       "2                            32  10/18/2016          8.900   \n",
       "3                            34   9/22/2015          7.500   \n",
       "4                           914    3/5/2016          8.500   \n",
       "\n",
       "                                  hotel_name reviewer_nationality  \\\n",
       "0                         The May Fair Hotel      United Kingdom    \n",
       "1            Mercure London Bloomsbury Hotel      United Kingdom    \n",
       "2          Legend Saint Germain by Elegancia               China    \n",
       "3  Mercure Paris 19 Philharmonie La Villette      United Kingdom    \n",
       "4                Golden Tulip Amsterdam West              Poland    \n",
       "\n",
       "       negative_review  review_total_negative_word_counts  \\\n",
       "0             Leaving                                   3   \n",
       "1       poor breakfast                                  3   \n",
       "2   No kettle in room                                   6   \n",
       "3          No Negative                                  0   \n",
       "4         Torn sheets                                   4   \n",
       "\n",
       "   total_number_of_reviews  \\\n",
       "0                     1994   \n",
       "1                     1361   \n",
       "2                      406   \n",
       "3                      607   \n",
       "4                     7586   \n",
       "\n",
       "                                                                                                       positive_review  \\\n",
       "0                                                                                                   Staff were amazing   \n",
       "1                                                                                                             location   \n",
       "2                                                                                                          No Positive   \n",
       "3                                           Friendly staff quiet comfortable room spotlessly clean excellent location    \n",
       "4   The staff was very friendly and helpful Breakfasts were just extraordinary Room was clean quiet and very spacious    \n",
       "\n",
       "   review_total_positive_word_counts  \\\n",
       "0                                  4   \n",
       "1                                  2   \n",
       "2                                  0   \n",
       "3                                 11   \n",
       "4                                 20   \n",
       "\n",
       "   total_number_of_reviews_reviewer_has_given  reviewer_score  \\\n",
       "0                                           7          10.000   \n",
       "1                                          14           6.300   \n",
       "2                                          14           7.500   \n",
       "3                                           8          10.000   \n",
       "4                                          10           9.600   \n",
       "\n",
       "                                                                                                                          tags  \\\n",
       "0                    [' Leisure trip ', ' Couple ', ' Studio Suite ', ' Stayed 2 nights ', ' Submitted from a mobile device ']   \n",
       "1                                                [' Business trip ', ' Couple ', ' Standard Double Room ', ' Stayed 1 night ']   \n",
       "2  [' Leisure trip ', ' Solo traveler ', ' Modern Double Room Echo ', ' Stayed 3 nights ', ' Submitted from a mobile device ']   \n",
       "3                               [' Leisure trip ', ' Solo traveler ', ' Standard Room with 1 Double Bed ', ' Stayed 1 night ']   \n",
       "4                                       [' Business trip ', ' Couple ', ' Standard Double or Twin Room ', ' Stayed 6 nights ']   \n",
       "\n",
       "  days_since_review    lat    lng  sample  \n",
       "0           531 day 51.508 -0.144       1  \n",
       "1           203 day 51.521 -0.123       1  \n",
       "2           289 day 48.845  2.326       1  \n",
       "3           681 day 48.889  2.395       1  \n",
       "4           516 day 52.386  4.847       1  "
      ]
     },
     "execution_count": 13,
     "metadata": {},
     "output_type": "execute_result"
    }
   ],
   "source": [
    "hotels.head()"
   ]
  },
  {
   "cell_type": "code",
   "execution_count": 14,
   "id": "922ae988",
   "metadata": {
    "collapsed": false,
    "execution": {
     "iopub.execute_input": "2023-02-26T08:30:32.221631Z",
     "iopub.status.busy": "2023-02-26T08:30:32.220881Z",
     "iopub.status.idle": "2023-02-26T08:30:33.083104Z",
     "shell.execute_reply": "2023-02-26T08:30:33.082299Z"
    },
    "jupyter": {
     "outputs_hidden": false
    },
    "papermill": {
     "duration": 0.891951,
     "end_time": "2023-02-26T08:30:33.085356",
     "exception": false,
     "start_time": "2023-02-26T08:30:32.193405",
     "status": "completed"
    },
    "pycharm": {
     "name": "#%%\n"
    },
    "tags": []
   },
   "outputs": [
    {
     "data": {
      "text/plain": [
       "hotel_address                                   1493\n",
       "additional_number_of_scoring                     480\n",
       "review_date                                      731\n",
       "average_score                                     34\n",
       "hotel_name                                      1492\n",
       "reviewer_nationality                             227\n",
       "negative_review                               330011\n",
       "review_total_negative_word_counts                402\n",
       "total_number_of_reviews                         1142\n",
       "positive_review                               412601\n",
       "review_total_positive_word_counts                365\n",
       "total_number_of_reviews_reviewer_has_given       198\n",
       "reviewer_score                                    38\n",
       "tags                                           55242\n",
       "days_since_review                                731\n",
       "lat                                             1473\n",
       "lng                                             1473\n",
       "sample                                             2\n",
       "dtype: int64"
      ]
     },
     "execution_count": 14,
     "metadata": {},
     "output_type": "execute_result"
    }
   ],
   "source": [
    "hotels.nunique(dropna=False)"
   ]
  },
  {
   "cell_type": "markdown",
   "id": "dfbefe9d",
   "metadata": {
    "papermill": {
     "duration": 0.02609,
     "end_time": "2023-02-26T08:30:33.138127",
     "exception": false,
     "start_time": "2023-02-26T08:30:33.112037",
     "status": "completed"
    },
    "pycharm": {
     "name": "#%% md\n"
    },
    "tags": []
   },
   "source": [
    "## 2. Проектирование признаков"
   ]
  },
  {
   "cell_type": "markdown",
   "id": "df2d8573",
   "metadata": {
    "papermill": {
     "duration": 0.026412,
     "end_time": "2023-02-26T08:30:33.191086",
     "exception": false,
     "start_time": "2023-02-26T08:30:33.164674",
     "status": "completed"
    },
    "pycharm": {
     "name": "#%% md\n"
    },
    "tags": []
   },
   "source": [
    "Выделим признаки с пропусками в данных"
   ]
  },
  {
   "cell_type": "code",
   "execution_count": 15,
   "id": "d956302d",
   "metadata": {
    "collapsed": false,
    "execution": {
     "iopub.execute_input": "2023-02-26T08:30:33.246013Z",
     "iopub.status.busy": "2023-02-26T08:30:33.245547Z",
     "iopub.status.idle": "2023-02-26T08:30:33.463035Z",
     "shell.execute_reply": "2023-02-26T08:30:33.461869Z"
    },
    "jupyter": {
     "outputs_hidden": false
    },
    "papermill": {
     "duration": 0.248271,
     "end_time": "2023-02-26T08:30:33.465670",
     "exception": false,
     "start_time": "2023-02-26T08:30:33.217399",
     "status": "completed"
    },
    "pycharm": {
     "name": "#%%\n"
    },
    "tags": []
   },
   "outputs": [
    {
     "data": {
      "text/plain": [
       "lat    3268\n",
       "lng    3268\n",
       "dtype: int64"
      ]
     },
     "metadata": {},
     "output_type": "display_data"
    }
   ],
   "source": [
    "hotels_nulls = hotels.isnull().sum()\n",
    "display(hotels_nulls[hotels_nulls > 0])"
   ]
  },
  {
   "cell_type": "markdown",
   "id": "b023dd2e",
   "metadata": {
    "papermill": {
     "duration": 0.026782,
     "end_time": "2023-02-26T08:30:33.520483",
     "exception": false,
     "start_time": "2023-02-26T08:30:33.493701",
     "status": "completed"
    },
    "pycharm": {
     "name": "#%% md\n"
    },
    "tags": []
   },
   "source": [
    "В признаках lat и lng есть пропуски в данных, это географические координаты, нет смысла подбирать какие то осознанные замены для этих данных, по этому заполним пропуски нулями."
   ]
  },
  {
   "cell_type": "code",
   "execution_count": 16,
   "id": "6473d96e",
   "metadata": {
    "collapsed": false,
    "execution": {
     "iopub.execute_input": "2023-02-26T08:30:33.575675Z",
     "iopub.status.busy": "2023-02-26T08:30:33.574535Z",
     "iopub.status.idle": "2023-02-26T08:30:33.595701Z",
     "shell.execute_reply": "2023-02-26T08:30:33.594801Z"
    },
    "jupyter": {
     "outputs_hidden": false
    },
    "papermill": {
     "duration": 0.051523,
     "end_time": "2023-02-26T08:30:33.598367",
     "exception": false,
     "start_time": "2023-02-26T08:30:33.546844",
     "status": "completed"
    },
    "pycharm": {
     "name": "#%%\n"
    },
    "tags": []
   },
   "outputs": [],
   "source": [
    "hotels['lat'] = hotels['lat'].fillna(0, inplace=True)\n",
    "hotels['lng'] = hotels['lng'].fillna(0, inplace=True)"
   ]
  },
  {
   "cell_type": "markdown",
   "id": "d5ccf691",
   "metadata": {
    "papermill": {
     "duration": 0.025825,
     "end_time": "2023-02-26T08:30:33.650382",
     "exception": false,
     "start_time": "2023-02-26T08:30:33.624557",
     "status": "completed"
    },
    "pycharm": {
     "name": "#%% md\n"
    },
    "tags": []
   },
   "source": [
    "### 2.1 Название отеля"
   ]
  },
  {
   "cell_type": "markdown",
   "id": "0c97c264",
   "metadata": {
    "papermill": {
     "duration": 0.026147,
     "end_time": "2023-02-26T08:30:33.703052",
     "exception": false,
     "start_time": "2023-02-26T08:30:33.676905",
     "status": "completed"
    },
    "pycharm": {
     "name": "#%% md\n"
    },
    "tags": []
   },
   "source": [
    "Первоначально получим количество уникальных отелей по названиям."
   ]
  },
  {
   "cell_type": "code",
   "execution_count": 17,
   "id": "bc47f2e7",
   "metadata": {
    "collapsed": false,
    "execution": {
     "iopub.execute_input": "2023-02-26T08:30:33.758556Z",
     "iopub.status.busy": "2023-02-26T08:30:33.757701Z",
     "iopub.status.idle": "2023-02-26T08:30:33.819417Z",
     "shell.execute_reply": "2023-02-26T08:30:33.818058Z"
    },
    "jupyter": {
     "outputs_hidden": false
    },
    "papermill": {
     "duration": 0.092792,
     "end_time": "2023-02-26T08:30:33.822120",
     "exception": false,
     "start_time": "2023-02-26T08:30:33.729328",
     "status": "completed"
    },
    "pycharm": {
     "name": "#%%\n"
    },
    "tags": []
   },
   "outputs": [
    {
     "data": {
      "text/plain": [
       "1492"
      ]
     },
     "execution_count": 17,
     "metadata": {},
     "output_type": "execute_result"
    }
   ],
   "source": [
    "hotels['hotel_name'].nunique()"
   ]
  },
  {
   "cell_type": "markdown",
   "id": "9dfc9a89",
   "metadata": {
    "papermill": {
     "duration": 0.026662,
     "end_time": "2023-02-26T08:30:33.875153",
     "exception": false,
     "start_time": "2023-02-26T08:30:33.848491",
     "status": "completed"
    },
    "pycharm": {
     "name": "#%% md\n"
    },
    "tags": []
   },
   "source": [
    "Выделим отели под одинаковым названием, но с различным адресом и добавим, для уникальности, к названию часть адреса."
   ]
  },
  {
   "cell_type": "code",
   "execution_count": 18,
   "id": "c6eb41af",
   "metadata": {
    "collapsed": false,
    "execution": {
     "iopub.execute_input": "2023-02-26T08:30:33.930591Z",
     "iopub.status.busy": "2023-02-26T08:30:33.929934Z",
     "iopub.status.idle": "2023-02-26T08:30:42.031738Z",
     "shell.execute_reply": "2023-02-26T08:30:42.030509Z"
    },
    "jupyter": {
     "outputs_hidden": false
    },
    "papermill": {
     "duration": 8.13241,
     "end_time": "2023-02-26T08:30:42.034544",
     "exception": false,
     "start_time": "2023-02-26T08:30:33.902134",
     "status": "completed"
    },
    "pycharm": {
     "name": "#%%\n"
    },
    "tags": []
   },
   "outputs": [
    {
     "data": {
      "text/html": [
       "<div>\n",
       "<style scoped>\n",
       "    .dataframe tbody tr th:only-of-type {\n",
       "        vertical-align: middle;\n",
       "    }\n",
       "\n",
       "    .dataframe tbody tr th {\n",
       "        vertical-align: top;\n",
       "    }\n",
       "\n",
       "    .dataframe thead th {\n",
       "        text-align: right;\n",
       "    }\n",
       "</style>\n",
       "<table border=\"1\" class=\"dataframe\">\n",
       "  <thead>\n",
       "    <tr style=\"text-align: right;\">\n",
       "      <th></th>\n",
       "      <th>hotel_address</th>\n",
       "    </tr>\n",
       "    <tr>\n",
       "      <th>hotel_name</th>\n",
       "      <th></th>\n",
       "    </tr>\n",
       "  </thead>\n",
       "  <tbody>\n",
       "    <tr>\n",
       "      <th>Hotel Regina</th>\n",
       "      <td>3</td>\n",
       "    </tr>\n",
       "  </tbody>\n",
       "</table>\n",
       "</div>"
      ],
      "text/plain": [
       "              hotel_address\n",
       "hotel_name                 \n",
       "Hotel Regina              3"
      ]
     },
     "metadata": {},
     "output_type": "display_data"
    },
    {
     "data": {
      "text/plain": [
       "1494"
      ]
     },
     "metadata": {},
     "output_type": "display_data"
    }
   ],
   "source": [
    "address_list = hotels.pivot_table(\n",
    "    values = 'hotel_address',\n",
    "    index = 'hotel_name',\n",
    "    aggfunc = 'nunique'\n",
    ")\n",
    "dupl_hotel = address_list[address_list['hotel_address'] > 1]\n",
    "display(dupl_hotel)\n",
    "_temp_list = dupl_hotel[dupl_hotel['hotel_address'] > 1].index.to_list() # через временную переменную быстрее обрабатывается\n",
    "hotels['hotel_name'] = hotels.apply(lambda x: (x['hotel_name'] + ' in ' + x['hotel_address'].split()[-1])\n",
    "    if (x['hotel_name'] in _temp_list) else x['hotel_name'], axis=1)\n",
    "display(hotels['hotel_name'].nunique())"
   ]
  },
  {
   "cell_type": "markdown",
   "id": "453e022a",
   "metadata": {
    "papermill": {
     "duration": 0.02643,
     "end_time": "2023-02-26T08:30:42.088181",
     "exception": false,
     "start_time": "2023-02-26T08:30:42.061751",
     "status": "completed"
    },
    "pycharm": {
     "name": "#%% md\n"
    },
    "tags": []
   },
   "source": [
    "Окончательно получили 1494 уникальных отеля."
   ]
  },
  {
   "cell_type": "markdown",
   "id": "e3a77b1d",
   "metadata": {
    "papermill": {
     "duration": 0.027291,
     "end_time": "2023-02-26T08:30:42.143421",
     "exception": false,
     "start_time": "2023-02-26T08:30:42.116130",
     "status": "completed"
    },
    "pycharm": {
     "name": "#%% md\n"
    },
    "tags": []
   },
   "source": [
    "### 2.2 Адрес отеля"
   ]
  },
  {
   "cell_type": "markdown",
   "id": "5dec7540",
   "metadata": {
    "papermill": {
     "duration": 0.026479,
     "end_time": "2023-02-26T08:30:42.197378",
     "exception": false,
     "start_time": "2023-02-26T08:30:42.170899",
     "status": "completed"
    },
    "pycharm": {
     "name": "#%% md\n"
    },
    "tags": []
   },
   "source": [
    "Из признака hotel_address, извлечём: страну и город."
   ]
  },
  {
   "cell_type": "code",
   "execution_count": 19,
   "id": "bcfd62e2",
   "metadata": {
    "collapsed": false,
    "execution": {
     "iopub.execute_input": "2023-02-26T08:30:42.253263Z",
     "iopub.status.busy": "2023-02-26T08:30:42.252223Z",
     "iopub.status.idle": "2023-02-26T08:30:42.259830Z",
     "shell.execute_reply": "2023-02-26T08:30:42.259058Z"
    },
    "jupyter": {
     "outputs_hidden": false
    },
    "papermill": {
     "duration": 0.037626,
     "end_time": "2023-02-26T08:30:42.261829",
     "exception": false,
     "start_time": "2023-02-26T08:30:42.224203",
     "status": "completed"
    },
    "pycharm": {
     "name": "#%%\n"
    },
    "tags": []
   },
   "outputs": [
    {
     "data": {
      "text/plain": [
       "0       Stratton Street Mayfair Westminster Borough London W1J 8LT United Kingdom\n",
       "1                   130 134 Southampton Row Camden London WC1B 5AF United Kingdom\n",
       "2                                151 bis Rue de Rennes 6th arr 75006 Paris France\n",
       "3                              216 Avenue Jean Jaures 19th arr 75019 Paris France\n",
       "4                                       Molenwerf 1 1014 AG Amsterdam Netherlands\n",
       "5                                              Via Mecenate 121 20138 Milan Italy\n",
       "6           97 Cromwell Road Kensington and Chelsea London SW7 4DN United Kingdom\n",
       "7                               Josefsgasse 4 6 08 Josefstadt 1080 Vienna Austria\n",
       "8           190 Queen s Gate Kensington and Chelsea London SW7 5EX United Kingdom\n",
       "9        Holland Park Avenue Kensington and Chelsea London W11 4UL United Kingdom\n",
       "10                                      Molenwerf 1 1014 AG Amsterdam Netherlands\n",
       "11    34 44 Barkston Gardens Kensington and Chelsea London SW5 0EW United Kingdom\n",
       "12           16 Sumner Place Kensington and Chelsea London SW7 3EG United Kingdom\n",
       "13          97 Cromwell Road Kensington and Chelsea London SW7 4DN United Kingdom\n",
       "14                               Putget 68 Sarri St Gervasi 08023 Barcelona Spain\n",
       "15                                       Caspe 103 Eixample 08013 Barcelona Spain\n",
       "16                    1 Kings Cross Road Islington London WC1X 9HX United Kingdom\n",
       "17               Wrights Lane Kensington and Chelsea London W8 5SP United Kingdom\n",
       "18         59 Leinster Square Kensington and Chelsea London W2 4PS United Kingdom\n",
       "19                           Pintor Fortuny 13 Ciutat Vella 08001 Barcelona Spain\n",
       "Name: hotel_address, dtype: object"
      ]
     },
     "execution_count": 19,
     "metadata": {},
     "output_type": "execute_result"
    }
   ],
   "source": [
    "hotels['hotel_address'].head(20)"
   ]
  },
  {
   "cell_type": "code",
   "execution_count": 20,
   "id": "4a83e2a4",
   "metadata": {
    "collapsed": false,
    "execution": {
     "iopub.execute_input": "2023-02-26T08:30:42.317865Z",
     "iopub.status.busy": "2023-02-26T08:30:42.317168Z",
     "iopub.status.idle": "2023-02-26T08:30:42.889629Z",
     "shell.execute_reply": "2023-02-26T08:30:42.888450Z"
    },
    "jupyter": {
     "outputs_hidden": false
    },
    "papermill": {
     "duration": 0.603648,
     "end_time": "2023-02-26T08:30:42.892476",
     "exception": false,
     "start_time": "2023-02-26T08:30:42.288828",
     "status": "completed"
    },
    "pycharm": {
     "name": "#%%\n"
    },
    "tags": []
   },
   "outputs": [
    {
     "data": {
      "text/plain": [
       "['United Kingdom', 'France', 'Netherlands', 'Italy', 'Austria', 'Spain']"
      ]
     },
     "metadata": {},
     "output_type": "display_data"
    }
   ],
   "source": [
    "hotels['hotel_country'] = hotels['hotel_address'].apply(lambda x: x.split()[-1])\n",
    "hotels['hotel_country'] = hotels['hotel_country'].apply(lambda x:'United Kingdom' if x == 'Kingdom' else x)\n",
    "country_list = list(hotels['hotel_country'].unique())\n",
    "display(country_list)"
   ]
  },
  {
   "cell_type": "markdown",
   "id": "3615e3c6",
   "metadata": {
    "papermill": {
     "duration": 0.026823,
     "end_time": "2023-02-26T08:30:42.947761",
     "exception": false,
     "start_time": "2023-02-26T08:30:42.920938",
     "status": "completed"
    },
    "pycharm": {
     "name": "#%% md\n"
    },
    "tags": []
   },
   "source": [
    "Выделено 6 уникальных стран."
   ]
  },
  {
   "cell_type": "code",
   "execution_count": 21,
   "id": "e46bafd7",
   "metadata": {
    "collapsed": false,
    "execution": {
     "iopub.execute_input": "2023-02-26T08:30:43.005296Z",
     "iopub.status.busy": "2023-02-26T08:30:43.004505Z",
     "iopub.status.idle": "2023-02-26T08:30:43.595241Z",
     "shell.execute_reply": "2023-02-26T08:30:43.594036Z"
    },
    "jupyter": {
     "outputs_hidden": false
    },
    "papermill": {
     "duration": 0.622955,
     "end_time": "2023-02-26T08:30:43.598086",
     "exception": false,
     "start_time": "2023-02-26T08:30:42.975131",
     "status": "completed"
    },
    "pycharm": {
     "name": "#%%\n"
    },
    "tags": []
   },
   "outputs": [
    {
     "data": {
      "text/plain": [
       "['London', 'Paris', 'Amsterdam', 'Milan', 'Vienna', 'Barcelona']"
      ]
     },
     "metadata": {},
     "output_type": "display_data"
    }
   ],
   "source": [
    "hotels['hotel_city'] = hotels['hotel_address'].apply(lambda x: x.split()[-2])\n",
    "hotels['hotel_city'] = hotels['hotel_city'].apply(lambda x: 'London' if x == 'United' else x)\n",
    "city_list = list(hotels['hotel_city'].unique())\n",
    "display(city_list)"
   ]
  },
  {
   "cell_type": "markdown",
   "id": "d0e1c4d1",
   "metadata": {
    "papermill": {
     "duration": 0.027128,
     "end_time": "2023-02-26T08:30:43.653021",
     "exception": false,
     "start_time": "2023-02-26T08:30:43.625893",
     "status": "completed"
    },
    "pycharm": {
     "name": "#%% md\n"
    },
    "tags": []
   },
   "source": [
    "Так же получено 6 унимальных городов.\n",
    "В каждой стране представлен только один город, по этому кодировать признак города не имеет смысла, кодируем страну и создаем новый признак."
   ]
  },
  {
   "cell_type": "code",
   "execution_count": 22,
   "id": "59f044e2",
   "metadata": {
    "collapsed": false,
    "execution": {
     "iopub.execute_input": "2023-02-26T08:30:43.709983Z",
     "iopub.status.busy": "2023-02-26T08:30:43.709540Z",
     "iopub.status.idle": "2023-02-26T08:30:43.787204Z",
     "shell.execute_reply": "2023-02-26T08:30:43.786100Z"
    },
    "jupyter": {
     "outputs_hidden": false
    },
    "papermill": {
     "duration": 0.108978,
     "end_time": "2023-02-26T08:30:43.789948",
     "exception": false,
     "start_time": "2023-02-26T08:30:43.680970",
     "status": "completed"
    },
    "pycharm": {
     "name": "#%%\n"
    },
    "tags": []
   },
   "outputs": [
    {
     "data": {
      "text/html": [
       "<div>\n",
       "<style scoped>\n",
       "    .dataframe tbody tr th:only-of-type {\n",
       "        vertical-align: middle;\n",
       "    }\n",
       "\n",
       "    .dataframe tbody tr th {\n",
       "        vertical-align: top;\n",
       "    }\n",
       "\n",
       "    .dataframe thead th {\n",
       "        text-align: right;\n",
       "    }\n",
       "</style>\n",
       "<table border=\"1\" class=\"dataframe\">\n",
       "  <thead>\n",
       "    <tr style=\"text-align: right;\">\n",
       "      <th></th>\n",
       "      <th>hotel_address</th>\n",
       "      <th>additional_number_of_scoring</th>\n",
       "      <th>review_date</th>\n",
       "      <th>average_score</th>\n",
       "      <th>hotel_name</th>\n",
       "      <th>reviewer_nationality</th>\n",
       "      <th>negative_review</th>\n",
       "      <th>review_total_negative_word_counts</th>\n",
       "      <th>total_number_of_reviews</th>\n",
       "      <th>positive_review</th>\n",
       "      <th>...</th>\n",
       "      <th>total_number_of_reviews_reviewer_has_given</th>\n",
       "      <th>reviewer_score</th>\n",
       "      <th>tags</th>\n",
       "      <th>days_since_review</th>\n",
       "      <th>lat</th>\n",
       "      <th>lng</th>\n",
       "      <th>sample</th>\n",
       "      <th>hotel_country</th>\n",
       "      <th>hotel_city</th>\n",
       "      <th>hotel_country_code</th>\n",
       "    </tr>\n",
       "  </thead>\n",
       "  <tbody>\n",
       "    <tr>\n",
       "      <th>0</th>\n",
       "      <td>Stratton Street Mayfair Westminster Borough London W1J 8LT United Kingdom</td>\n",
       "      <td>581</td>\n",
       "      <td>2/19/2016</td>\n",
       "      <td>8.400</td>\n",
       "      <td>The May Fair Hotel</td>\n",
       "      <td>United Kingdom</td>\n",
       "      <td>Leaving</td>\n",
       "      <td>3</td>\n",
       "      <td>1994</td>\n",
       "      <td>Staff were amazing</td>\n",
       "      <td>...</td>\n",
       "      <td>7</td>\n",
       "      <td>10.000</td>\n",
       "      <td>[' Leisure trip ', ' Couple ', ' Studio Suite ', ' Stayed 2 nights ', ' Submitted from a mobile device ']</td>\n",
       "      <td>531 day</td>\n",
       "      <td>None</td>\n",
       "      <td>None</td>\n",
       "      <td>1</td>\n",
       "      <td>United Kingdom</td>\n",
       "      <td>London</td>\n",
       "      <td>5</td>\n",
       "    </tr>\n",
       "    <tr>\n",
       "      <th>1</th>\n",
       "      <td>130 134 Southampton Row Camden London WC1B 5AF United Kingdom</td>\n",
       "      <td>299</td>\n",
       "      <td>1/12/2017</td>\n",
       "      <td>8.300</td>\n",
       "      <td>Mercure London Bloomsbury Hotel</td>\n",
       "      <td>United Kingdom</td>\n",
       "      <td>poor breakfast</td>\n",
       "      <td>3</td>\n",
       "      <td>1361</td>\n",
       "      <td>location</td>\n",
       "      <td>...</td>\n",
       "      <td>14</td>\n",
       "      <td>6.300</td>\n",
       "      <td>[' Business trip ', ' Couple ', ' Standard Double Room ', ' Stayed 1 night ']</td>\n",
       "      <td>203 day</td>\n",
       "      <td>None</td>\n",
       "      <td>None</td>\n",
       "      <td>1</td>\n",
       "      <td>United Kingdom</td>\n",
       "      <td>London</td>\n",
       "      <td>5</td>\n",
       "    </tr>\n",
       "    <tr>\n",
       "      <th>2</th>\n",
       "      <td>151 bis Rue de Rennes 6th arr 75006 Paris France</td>\n",
       "      <td>32</td>\n",
       "      <td>10/18/2016</td>\n",
       "      <td>8.900</td>\n",
       "      <td>Legend Saint Germain by Elegancia</td>\n",
       "      <td>China</td>\n",
       "      <td>No kettle in room</td>\n",
       "      <td>6</td>\n",
       "      <td>406</td>\n",
       "      <td>No Positive</td>\n",
       "      <td>...</td>\n",
       "      <td>14</td>\n",
       "      <td>7.500</td>\n",
       "      <td>[' Leisure trip ', ' Solo traveler ', ' Modern Double Room Echo ', ' Stayed 3 nights ', ' Submitted from a mobile device ']</td>\n",
       "      <td>289 day</td>\n",
       "      <td>None</td>\n",
       "      <td>None</td>\n",
       "      <td>1</td>\n",
       "      <td>France</td>\n",
       "      <td>Paris</td>\n",
       "      <td>1</td>\n",
       "    </tr>\n",
       "    <tr>\n",
       "      <th>3</th>\n",
       "      <td>216 Avenue Jean Jaures 19th arr 75019 Paris France</td>\n",
       "      <td>34</td>\n",
       "      <td>9/22/2015</td>\n",
       "      <td>7.500</td>\n",
       "      <td>Mercure Paris 19 Philharmonie La Villette</td>\n",
       "      <td>United Kingdom</td>\n",
       "      <td>No Negative</td>\n",
       "      <td>0</td>\n",
       "      <td>607</td>\n",
       "      <td>Friendly staff quiet comfortable room spotlessly clean excellent location</td>\n",
       "      <td>...</td>\n",
       "      <td>8</td>\n",
       "      <td>10.000</td>\n",
       "      <td>[' Leisure trip ', ' Solo traveler ', ' Standard Room with 1 Double Bed ', ' Stayed 1 night ']</td>\n",
       "      <td>681 day</td>\n",
       "      <td>None</td>\n",
       "      <td>None</td>\n",
       "      <td>1</td>\n",
       "      <td>France</td>\n",
       "      <td>Paris</td>\n",
       "      <td>1</td>\n",
       "    </tr>\n",
       "    <tr>\n",
       "      <th>4</th>\n",
       "      <td>Molenwerf 1 1014 AG Amsterdam Netherlands</td>\n",
       "      <td>914</td>\n",
       "      <td>3/5/2016</td>\n",
       "      <td>8.500</td>\n",
       "      <td>Golden Tulip Amsterdam West</td>\n",
       "      <td>Poland</td>\n",
       "      <td>Torn sheets</td>\n",
       "      <td>4</td>\n",
       "      <td>7586</td>\n",
       "      <td>The staff was very friendly and helpful Breakfasts were just extraordinary Room was clean quiet and very spacious</td>\n",
       "      <td>...</td>\n",
       "      <td>10</td>\n",
       "      <td>9.600</td>\n",
       "      <td>[' Business trip ', ' Couple ', ' Standard Double or Twin Room ', ' Stayed 6 nights ']</td>\n",
       "      <td>516 day</td>\n",
       "      <td>None</td>\n",
       "      <td>None</td>\n",
       "      <td>1</td>\n",
       "      <td>Netherlands</td>\n",
       "      <td>Amsterdam</td>\n",
       "      <td>3</td>\n",
       "    </tr>\n",
       "  </tbody>\n",
       "</table>\n",
       "<p>5 rows × 21 columns</p>\n",
       "</div>"
      ],
      "text/plain": [
       "                                                               hotel_address  \\\n",
       "0  Stratton Street Mayfair Westminster Borough London W1J 8LT United Kingdom   \n",
       "1              130 134 Southampton Row Camden London WC1B 5AF United Kingdom   \n",
       "2                           151 bis Rue de Rennes 6th arr 75006 Paris France   \n",
       "3                         216 Avenue Jean Jaures 19th arr 75019 Paris France   \n",
       "4                                  Molenwerf 1 1014 AG Amsterdam Netherlands   \n",
       "\n",
       "   additional_number_of_scoring review_date  average_score  \\\n",
       "0                           581   2/19/2016          8.400   \n",
       "1                           299   1/12/2017          8.300   \n",
       "2                            32  10/18/2016          8.900   \n",
       "3                            34   9/22/2015          7.500   \n",
       "4                           914    3/5/2016          8.500   \n",
       "\n",
       "                                  hotel_name reviewer_nationality  \\\n",
       "0                         The May Fair Hotel      United Kingdom    \n",
       "1            Mercure London Bloomsbury Hotel      United Kingdom    \n",
       "2          Legend Saint Germain by Elegancia               China    \n",
       "3  Mercure Paris 19 Philharmonie La Villette      United Kingdom    \n",
       "4                Golden Tulip Amsterdam West              Poland    \n",
       "\n",
       "       negative_review  review_total_negative_word_counts  \\\n",
       "0             Leaving                                   3   \n",
       "1       poor breakfast                                  3   \n",
       "2   No kettle in room                                   6   \n",
       "3          No Negative                                  0   \n",
       "4         Torn sheets                                   4   \n",
       "\n",
       "   total_number_of_reviews  \\\n",
       "0                     1994   \n",
       "1                     1361   \n",
       "2                      406   \n",
       "3                      607   \n",
       "4                     7586   \n",
       "\n",
       "                                                                                                       positive_review  \\\n",
       "0                                                                                                   Staff were amazing   \n",
       "1                                                                                                             location   \n",
       "2                                                                                                          No Positive   \n",
       "3                                           Friendly staff quiet comfortable room spotlessly clean excellent location    \n",
       "4   The staff was very friendly and helpful Breakfasts were just extraordinary Room was clean quiet and very spacious    \n",
       "\n",
       "   ...  total_number_of_reviews_reviewer_has_given  reviewer_score  \\\n",
       "0  ...                                           7          10.000   \n",
       "1  ...                                          14           6.300   \n",
       "2  ...                                          14           7.500   \n",
       "3  ...                                           8          10.000   \n",
       "4  ...                                          10           9.600   \n",
       "\n",
       "                                                                                                                          tags  \\\n",
       "0                    [' Leisure trip ', ' Couple ', ' Studio Suite ', ' Stayed 2 nights ', ' Submitted from a mobile device ']   \n",
       "1                                                [' Business trip ', ' Couple ', ' Standard Double Room ', ' Stayed 1 night ']   \n",
       "2  [' Leisure trip ', ' Solo traveler ', ' Modern Double Room Echo ', ' Stayed 3 nights ', ' Submitted from a mobile device ']   \n",
       "3                               [' Leisure trip ', ' Solo traveler ', ' Standard Room with 1 Double Bed ', ' Stayed 1 night ']   \n",
       "4                                       [' Business trip ', ' Couple ', ' Standard Double or Twin Room ', ' Stayed 6 nights ']   \n",
       "\n",
       "  days_since_review   lat   lng sample   hotel_country hotel_city  \\\n",
       "0           531 day  None  None      1  United Kingdom     London   \n",
       "1           203 day  None  None      1  United Kingdom     London   \n",
       "2           289 day  None  None      1          France      Paris   \n",
       "3           681 day  None  None      1          France      Paris   \n",
       "4           516 day  None  None      1     Netherlands  Amsterdam   \n",
       "\n",
       "  hotel_country_code  \n",
       "0                  5  \n",
       "1                  5  \n",
       "2                  1  \n",
       "3                  1  \n",
       "4                  3  \n",
       "\n",
       "[5 rows x 21 columns]"
      ]
     },
     "execution_count": 22,
     "metadata": {},
     "output_type": "execute_result"
    }
   ],
   "source": [
    "hotels['hotel_country_code'] = hotels['hotel_country'].astype('category').cat.codes\n",
    "hotels.head()"
   ]
  },
  {
   "cell_type": "markdown",
   "id": "72de11cc",
   "metadata": {
    "papermill": {
     "duration": 0.027414,
     "end_time": "2023-02-26T08:30:43.845814",
     "exception": false,
     "start_time": "2023-02-26T08:30:43.818400",
     "status": "completed"
    },
    "pycharm": {
     "name": "#%% md\n"
    },
    "tags": []
   },
   "source": [
    "### 2.3 Географические координаты."
   ]
  },
  {
   "cell_type": "markdown",
   "id": "967b846f",
   "metadata": {
    "papermill": {
     "duration": 0.027047,
     "end_time": "2023-02-26T08:30:43.900474",
     "exception": false,
     "start_time": "2023-02-26T08:30:43.873427",
     "status": "completed"
    },
    "pycharm": {
     "name": "#%% md\n"
    },
    "tags": []
   },
   "source": [
    "Несмотря на то, что данные представлены в числовом виде правильнее их рассматривать как категориальные. Можно постараться сделать расчеты до центра города, или до ближайших станций метро или же до каких то достопримечательностей, но по моему проще избавиться от этих признаков. Если результат нас не удовлетворит, то вернемся к этому моменту."
   ]
  },
  {
   "cell_type": "code",
   "execution_count": 23,
   "id": "312c8ab4",
   "metadata": {
    "collapsed": false,
    "execution": {
     "iopub.execute_input": "2023-02-26T08:30:43.958231Z",
     "iopub.status.busy": "2023-02-26T08:30:43.957808Z",
     "iopub.status.idle": "2023-02-26T08:30:44.253211Z",
     "shell.execute_reply": "2023-02-26T08:30:44.252073Z"
    },
    "jupyter": {
     "outputs_hidden": false
    },
    "papermill": {
     "duration": 0.326577,
     "end_time": "2023-02-26T08:30:44.255540",
     "exception": false,
     "start_time": "2023-02-26T08:30:43.928963",
     "status": "completed"
    },
    "pycharm": {
     "name": "#%%\n"
    },
    "tags": []
   },
   "outputs": [
    {
     "data": {
      "text/html": [
       "<div>\n",
       "<style scoped>\n",
       "    .dataframe tbody tr th:only-of-type {\n",
       "        vertical-align: middle;\n",
       "    }\n",
       "\n",
       "    .dataframe tbody tr th {\n",
       "        vertical-align: top;\n",
       "    }\n",
       "\n",
       "    .dataframe thead th {\n",
       "        text-align: right;\n",
       "    }\n",
       "</style>\n",
       "<table border=\"1\" class=\"dataframe\">\n",
       "  <thead>\n",
       "    <tr style=\"text-align: right;\">\n",
       "      <th></th>\n",
       "      <th>hotel_address</th>\n",
       "      <th>additional_number_of_scoring</th>\n",
       "      <th>review_date</th>\n",
       "      <th>average_score</th>\n",
       "      <th>hotel_name</th>\n",
       "      <th>reviewer_nationality</th>\n",
       "      <th>negative_review</th>\n",
       "      <th>review_total_negative_word_counts</th>\n",
       "      <th>total_number_of_reviews</th>\n",
       "      <th>positive_review</th>\n",
       "      <th>review_total_positive_word_counts</th>\n",
       "      <th>total_number_of_reviews_reviewer_has_given</th>\n",
       "      <th>reviewer_score</th>\n",
       "      <th>tags</th>\n",
       "      <th>days_since_review</th>\n",
       "      <th>sample</th>\n",
       "      <th>hotel_country</th>\n",
       "      <th>hotel_city</th>\n",
       "      <th>hotel_country_code</th>\n",
       "    </tr>\n",
       "  </thead>\n",
       "  <tbody>\n",
       "    <tr>\n",
       "      <th>0</th>\n",
       "      <td>Stratton Street Mayfair Westminster Borough London W1J 8LT United Kingdom</td>\n",
       "      <td>581</td>\n",
       "      <td>2/19/2016</td>\n",
       "      <td>8.400</td>\n",
       "      <td>The May Fair Hotel</td>\n",
       "      <td>United Kingdom</td>\n",
       "      <td>Leaving</td>\n",
       "      <td>3</td>\n",
       "      <td>1994</td>\n",
       "      <td>Staff were amazing</td>\n",
       "      <td>4</td>\n",
       "      <td>7</td>\n",
       "      <td>10.000</td>\n",
       "      <td>[' Leisure trip ', ' Couple ', ' Studio Suite ', ' Stayed 2 nights ', ' Submitted from a mobile device ']</td>\n",
       "      <td>531 day</td>\n",
       "      <td>1</td>\n",
       "      <td>United Kingdom</td>\n",
       "      <td>London</td>\n",
       "      <td>5</td>\n",
       "    </tr>\n",
       "    <tr>\n",
       "      <th>1</th>\n",
       "      <td>130 134 Southampton Row Camden London WC1B 5AF United Kingdom</td>\n",
       "      <td>299</td>\n",
       "      <td>1/12/2017</td>\n",
       "      <td>8.300</td>\n",
       "      <td>Mercure London Bloomsbury Hotel</td>\n",
       "      <td>United Kingdom</td>\n",
       "      <td>poor breakfast</td>\n",
       "      <td>3</td>\n",
       "      <td>1361</td>\n",
       "      <td>location</td>\n",
       "      <td>2</td>\n",
       "      <td>14</td>\n",
       "      <td>6.300</td>\n",
       "      <td>[' Business trip ', ' Couple ', ' Standard Double Room ', ' Stayed 1 night ']</td>\n",
       "      <td>203 day</td>\n",
       "      <td>1</td>\n",
       "      <td>United Kingdom</td>\n",
       "      <td>London</td>\n",
       "      <td>5</td>\n",
       "    </tr>\n",
       "    <tr>\n",
       "      <th>2</th>\n",
       "      <td>151 bis Rue de Rennes 6th arr 75006 Paris France</td>\n",
       "      <td>32</td>\n",
       "      <td>10/18/2016</td>\n",
       "      <td>8.900</td>\n",
       "      <td>Legend Saint Germain by Elegancia</td>\n",
       "      <td>China</td>\n",
       "      <td>No kettle in room</td>\n",
       "      <td>6</td>\n",
       "      <td>406</td>\n",
       "      <td>No Positive</td>\n",
       "      <td>0</td>\n",
       "      <td>14</td>\n",
       "      <td>7.500</td>\n",
       "      <td>[' Leisure trip ', ' Solo traveler ', ' Modern Double Room Echo ', ' Stayed 3 nights ', ' Submitted from a mobile device ']</td>\n",
       "      <td>289 day</td>\n",
       "      <td>1</td>\n",
       "      <td>France</td>\n",
       "      <td>Paris</td>\n",
       "      <td>1</td>\n",
       "    </tr>\n",
       "    <tr>\n",
       "      <th>3</th>\n",
       "      <td>216 Avenue Jean Jaures 19th arr 75019 Paris France</td>\n",
       "      <td>34</td>\n",
       "      <td>9/22/2015</td>\n",
       "      <td>7.500</td>\n",
       "      <td>Mercure Paris 19 Philharmonie La Villette</td>\n",
       "      <td>United Kingdom</td>\n",
       "      <td>No Negative</td>\n",
       "      <td>0</td>\n",
       "      <td>607</td>\n",
       "      <td>Friendly staff quiet comfortable room spotlessly clean excellent location</td>\n",
       "      <td>11</td>\n",
       "      <td>8</td>\n",
       "      <td>10.000</td>\n",
       "      <td>[' Leisure trip ', ' Solo traveler ', ' Standard Room with 1 Double Bed ', ' Stayed 1 night ']</td>\n",
       "      <td>681 day</td>\n",
       "      <td>1</td>\n",
       "      <td>France</td>\n",
       "      <td>Paris</td>\n",
       "      <td>1</td>\n",
       "    </tr>\n",
       "    <tr>\n",
       "      <th>4</th>\n",
       "      <td>Molenwerf 1 1014 AG Amsterdam Netherlands</td>\n",
       "      <td>914</td>\n",
       "      <td>3/5/2016</td>\n",
       "      <td>8.500</td>\n",
       "      <td>Golden Tulip Amsterdam West</td>\n",
       "      <td>Poland</td>\n",
       "      <td>Torn sheets</td>\n",
       "      <td>4</td>\n",
       "      <td>7586</td>\n",
       "      <td>The staff was very friendly and helpful Breakfasts were just extraordinary Room was clean quiet and very spacious</td>\n",
       "      <td>20</td>\n",
       "      <td>10</td>\n",
       "      <td>9.600</td>\n",
       "      <td>[' Business trip ', ' Couple ', ' Standard Double or Twin Room ', ' Stayed 6 nights ']</td>\n",
       "      <td>516 day</td>\n",
       "      <td>1</td>\n",
       "      <td>Netherlands</td>\n",
       "      <td>Amsterdam</td>\n",
       "      <td>3</td>\n",
       "    </tr>\n",
       "  </tbody>\n",
       "</table>\n",
       "</div>"
      ],
      "text/plain": [
       "                                                               hotel_address  \\\n",
       "0  Stratton Street Mayfair Westminster Borough London W1J 8LT United Kingdom   \n",
       "1              130 134 Southampton Row Camden London WC1B 5AF United Kingdom   \n",
       "2                           151 bis Rue de Rennes 6th arr 75006 Paris France   \n",
       "3                         216 Avenue Jean Jaures 19th arr 75019 Paris France   \n",
       "4                                  Molenwerf 1 1014 AG Amsterdam Netherlands   \n",
       "\n",
       "   additional_number_of_scoring review_date  average_score  \\\n",
       "0                           581   2/19/2016          8.400   \n",
       "1                           299   1/12/2017          8.300   \n",
       "2                            32  10/18/2016          8.900   \n",
       "3                            34   9/22/2015          7.500   \n",
       "4                           914    3/5/2016          8.500   \n",
       "\n",
       "                                  hotel_name reviewer_nationality  \\\n",
       "0                         The May Fair Hotel      United Kingdom    \n",
       "1            Mercure London Bloomsbury Hotel      United Kingdom    \n",
       "2          Legend Saint Germain by Elegancia               China    \n",
       "3  Mercure Paris 19 Philharmonie La Villette      United Kingdom    \n",
       "4                Golden Tulip Amsterdam West              Poland    \n",
       "\n",
       "       negative_review  review_total_negative_word_counts  \\\n",
       "0             Leaving                                   3   \n",
       "1       poor breakfast                                  3   \n",
       "2   No kettle in room                                   6   \n",
       "3          No Negative                                  0   \n",
       "4         Torn sheets                                   4   \n",
       "\n",
       "   total_number_of_reviews  \\\n",
       "0                     1994   \n",
       "1                     1361   \n",
       "2                      406   \n",
       "3                      607   \n",
       "4                     7586   \n",
       "\n",
       "                                                                                                       positive_review  \\\n",
       "0                                                                                                   Staff were amazing   \n",
       "1                                                                                                             location   \n",
       "2                                                                                                          No Positive   \n",
       "3                                           Friendly staff quiet comfortable room spotlessly clean excellent location    \n",
       "4   The staff was very friendly and helpful Breakfasts were just extraordinary Room was clean quiet and very spacious    \n",
       "\n",
       "   review_total_positive_word_counts  \\\n",
       "0                                  4   \n",
       "1                                  2   \n",
       "2                                  0   \n",
       "3                                 11   \n",
       "4                                 20   \n",
       "\n",
       "   total_number_of_reviews_reviewer_has_given  reviewer_score  \\\n",
       "0                                           7          10.000   \n",
       "1                                          14           6.300   \n",
       "2                                          14           7.500   \n",
       "3                                           8          10.000   \n",
       "4                                          10           9.600   \n",
       "\n",
       "                                                                                                                          tags  \\\n",
       "0                    [' Leisure trip ', ' Couple ', ' Studio Suite ', ' Stayed 2 nights ', ' Submitted from a mobile device ']   \n",
       "1                                                [' Business trip ', ' Couple ', ' Standard Double Room ', ' Stayed 1 night ']   \n",
       "2  [' Leisure trip ', ' Solo traveler ', ' Modern Double Room Echo ', ' Stayed 3 nights ', ' Submitted from a mobile device ']   \n",
       "3                               [' Leisure trip ', ' Solo traveler ', ' Standard Room with 1 Double Bed ', ' Stayed 1 night ']   \n",
       "4                                       [' Business trip ', ' Couple ', ' Standard Double or Twin Room ', ' Stayed 6 nights ']   \n",
       "\n",
       "  days_since_review  sample   hotel_country hotel_city  hotel_country_code  \n",
       "0           531 day       1  United Kingdom     London                   5  \n",
       "1           203 day       1  United Kingdom     London                   5  \n",
       "2           289 day       1          France      Paris                   1  \n",
       "3           681 day       1          France      Paris                   1  \n",
       "4           516 day       1     Netherlands  Amsterdam                   3  "
      ]
     },
     "execution_count": 23,
     "metadata": {},
     "output_type": "execute_result"
    }
   ],
   "source": [
    "hotels = hotels.drop(['lat', 'lng'], axis=1)\n",
    "hotels.head()"
   ]
  },
  {
   "cell_type": "markdown",
   "id": "5a82d544",
   "metadata": {
    "papermill": {
     "duration": 0.02786,
     "end_time": "2023-02-26T08:30:44.311993",
     "exception": false,
     "start_time": "2023-02-26T08:30:44.284133",
     "status": "completed"
    },
    "pycharm": {
     "name": "#%% md\n"
    },
    "tags": []
   },
   "source": [
    "### 2.4 Тэги"
   ]
  },
  {
   "cell_type": "markdown",
   "id": "7d47d415",
   "metadata": {
    "papermill": {
     "duration": 0.027614,
     "end_time": "2023-02-26T08:30:44.367456",
     "exception": false,
     "start_time": "2023-02-26T08:30:44.339842",
     "status": "completed"
    },
    "pycharm": {
     "name": "#%% md\n"
    },
    "tags": []
   },
   "source": [
    "Количество тэгов."
   ]
  },
  {
   "cell_type": "code",
   "execution_count": 24,
   "id": "6bda8c5a",
   "metadata": {
    "collapsed": false,
    "execution": {
     "iopub.execute_input": "2023-02-26T08:30:44.425521Z",
     "iopub.status.busy": "2023-02-26T08:30:44.425121Z",
     "iopub.status.idle": "2023-02-26T08:30:46.694106Z",
     "shell.execute_reply": "2023-02-26T08:30:46.692944Z"
    },
    "jupyter": {
     "outputs_hidden": false
    },
    "papermill": {
     "duration": 2.300776,
     "end_time": "2023-02-26T08:30:46.696546",
     "exception": false,
     "start_time": "2023-02-26T08:30:44.395770",
     "status": "completed"
    },
    "pycharm": {
     "name": "#%%\n"
    },
    "tags": []
   },
   "outputs": [
    {
     "data": {
      "text/plain": [
       "0    5\n",
       "1    4\n",
       "Name: tags_count, dtype: int64"
      ]
     },
     "execution_count": 24,
     "metadata": {},
     "output_type": "execute_result"
    }
   ],
   "source": [
    "hotels['tags_count'] = hotels['tags'].apply(lambda x: len(re.findall(\"'[^\\'](.+?)[^\\']'\", x)))\n",
    "hotels['tags_count'].head(2)"
   ]
  },
  {
   "cell_type": "markdown",
   "id": "c88c76c5",
   "metadata": {
    "papermill": {
     "duration": 0.027785,
     "end_time": "2023-02-26T08:30:46.752988",
     "exception": false,
     "start_time": "2023-02-26T08:30:46.725203",
     "status": "completed"
    },
    "pycharm": {
     "name": "#%% md\n"
    },
    "tags": []
   },
   "source": [
    "Создадим новые признаки на основании тегов."
   ]
  },
  {
   "cell_type": "code",
   "execution_count": 25,
   "id": "41a9e09d",
   "metadata": {
    "collapsed": false,
    "execution": {
     "iopub.execute_input": "2023-02-26T08:30:46.812062Z",
     "iopub.status.busy": "2023-02-26T08:30:46.811629Z",
     "iopub.status.idle": "2023-02-26T08:30:59.806379Z",
     "shell.execute_reply": "2023-02-26T08:30:59.805312Z"
    },
    "jupyter": {
     "outputs_hidden": false
    },
    "papermill": {
     "duration": 13.027818,
     "end_time": "2023-02-26T08:30:59.809186",
     "exception": false,
     "start_time": "2023-02-26T08:30:46.781368",
     "status": "completed"
    },
    "pycharm": {
     "name": "#%%\n"
    },
    "tags": []
   },
   "outputs": [],
   "source": [
    "def get_tags(tags_string):\n",
    "    tags_string = tags_string.replace('[', '').replace(']', '')\n",
    "    tags_string = tags_string.replace(\"' \", '').replace(\" '\", '')\n",
    "    tags_list = tags_string.split(',')\n",
    "    tags_list = list(map(lambda x: x.strip(), tags_list))\n",
    "\n",
    "    reviewer_types = {\n",
    "        'Solo traveler': 1,\n",
    "        'Couple': 2,\n",
    "        'Travelers with friends': 3,\n",
    "        'Family with young children': 4,\n",
    "        'Family with older children': 5,\n",
    "        'Group': 6\n",
    "    }\n",
    "\n",
    "    room_types = {\n",
    "            'without Window': 0,\n",
    "            'Guestroom': 1,\n",
    "            'Classic': 2,\n",
    "            'Single': 3,\n",
    "            'Standard': 4,\n",
    "            'Superior': 5,\n",
    "            'Comfort': 6,\n",
    "            'Club': 7,\n",
    "            'Suite': 8,\n",
    "            'Deluxe': 9,\n",
    "            'King': 10,\n",
    "            'Premier': 11\n",
    "            # 'Double'        # 12\n",
    "            # 'Other'         # 13\n",
    "        }\n",
    "\n",
    "\n",
    "    tag_from_mobile = 0\n",
    "    tag_with_pet = 0\n",
    "    tag_leisure_trip = 1\n",
    "    tag_reviewer_type = 0\n",
    "    tag_count_nights = 0\n",
    "    tag_view_room = 0\n",
    "    tag_room_type = -1\n",
    "\n",
    "    for _tag in list(tags_list):\n",
    "        if _tag == 'Submitted from a mobile device':\n",
    "            tag_from_mobile = 1\n",
    "            tags_list.remove(_tag)\n",
    "\n",
    "        if _tag == 'With a pet':\n",
    "            tag_with_pet = 1\n",
    "            tags_list.remove(_tag)\n",
    "\n",
    "        if _tag == 'Business trip':\n",
    "            tag_leisure_trip = 0\n",
    "            tags_list.remove(_tag)\n",
    "\n",
    "        if _tag == 'Leisure trip':\n",
    "            tag_leisure_trip = 1\n",
    "            tags_list.remove(_tag)\n",
    "\n",
    "        if _tag in reviewer_types.keys():\n",
    "            tag_reviewer_type = reviewer_types[_tag]\n",
    "            tags_list.remove(_tag)\n",
    "\n",
    "        if re.fullmatch(r'Stayed\\s\\d+\\snight\\w?', _tag):\n",
    "            tag_count_nights = [float(s) for s in re.findall(r'-?\\d+\\.?\\d*', _tag)][0]\n",
    "            tags_list.remove(_tag)\n",
    "\n",
    "        if len(tags_list) > 0:\n",
    "            if ('View' in tags_list[0]) | ('Panoramic' in tags_list[0]):\n",
    "                tag_view_room = 1\n",
    "\n",
    "            for rt in room_types.keys():\n",
    "                if rt in tags_list[0]:\n",
    "                    tag_room_type = room_types[rt]\n",
    "\n",
    "            if 'Double' in tags_list[0] or 'Twin' in tags_list[0]:\n",
    "                tag_room_type = 12\n",
    "            if tag_room_type == -1:\n",
    "                tag_room_type = 13\n",
    "\n",
    "    return tag_from_mobile, tag_with_pet, tag_leisure_trip, tag_reviewer_type, tag_count_nights, tag_view_room, tag_room_type\n",
    "\n",
    "hotels[['tag_from_mobile',    # отправлено с мобильного\n",
    "        'tag_with_pet',       # путешествие с домашними животными\n",
    "        'tag_leisure_trip',   # путешествие по работе / отдых\n",
    "        'tag_reviewer_type',  # тип путешествия\n",
    "        'tag_count_nights',   # количество ночей\n",
    "        'tag_view_room',      # номер с видом на ...\n",
    "        'tag_room_type'       # тип номера\n",
    "        ]\n",
    "] = pd.DataFrame(hotels['tags'].apply(get_tags).to_list(), index=hotels.index)"
   ]
  },
  {
   "cell_type": "code",
   "execution_count": 26,
   "id": "c21eeb97",
   "metadata": {
    "collapsed": false,
    "execution": {
     "iopub.execute_input": "2023-02-26T08:30:59.868374Z",
     "iopub.status.busy": "2023-02-26T08:30:59.867970Z",
     "iopub.status.idle": "2023-02-26T08:30:59.892991Z",
     "shell.execute_reply": "2023-02-26T08:30:59.891864Z"
    },
    "jupyter": {
     "outputs_hidden": false
    },
    "papermill": {
     "duration": 0.057741,
     "end_time": "2023-02-26T08:30:59.895432",
     "exception": false,
     "start_time": "2023-02-26T08:30:59.837691",
     "status": "completed"
    },
    "pycharm": {
     "name": "#%%\n"
    },
    "tags": []
   },
   "outputs": [
    {
     "data": {
      "text/html": [
       "<div>\n",
       "<style scoped>\n",
       "    .dataframe tbody tr th:only-of-type {\n",
       "        vertical-align: middle;\n",
       "    }\n",
       "\n",
       "    .dataframe tbody tr th {\n",
       "        vertical-align: top;\n",
       "    }\n",
       "\n",
       "    .dataframe thead th {\n",
       "        text-align: right;\n",
       "    }\n",
       "</style>\n",
       "<table border=\"1\" class=\"dataframe\">\n",
       "  <thead>\n",
       "    <tr style=\"text-align: right;\">\n",
       "      <th></th>\n",
       "      <th>hotel_address</th>\n",
       "      <th>additional_number_of_scoring</th>\n",
       "      <th>review_date</th>\n",
       "      <th>average_score</th>\n",
       "      <th>hotel_name</th>\n",
       "      <th>reviewer_nationality</th>\n",
       "      <th>negative_review</th>\n",
       "      <th>review_total_negative_word_counts</th>\n",
       "      <th>total_number_of_reviews</th>\n",
       "      <th>positive_review</th>\n",
       "      <th>...</th>\n",
       "      <th>hotel_city</th>\n",
       "      <th>hotel_country_code</th>\n",
       "      <th>tags_count</th>\n",
       "      <th>tag_from_mobile</th>\n",
       "      <th>tag_with_pet</th>\n",
       "      <th>tag_leisure_trip</th>\n",
       "      <th>tag_reviewer_type</th>\n",
       "      <th>tag_count_nights</th>\n",
       "      <th>tag_view_room</th>\n",
       "      <th>tag_room_type</th>\n",
       "    </tr>\n",
       "  </thead>\n",
       "  <tbody>\n",
       "    <tr>\n",
       "      <th>0</th>\n",
       "      <td>Stratton Street Mayfair Westminster Borough London W1J 8LT United Kingdom</td>\n",
       "      <td>581</td>\n",
       "      <td>2/19/2016</td>\n",
       "      <td>8.400</td>\n",
       "      <td>The May Fair Hotel</td>\n",
       "      <td>United Kingdom</td>\n",
       "      <td>Leaving</td>\n",
       "      <td>3</td>\n",
       "      <td>1994</td>\n",
       "      <td>Staff were amazing</td>\n",
       "      <td>...</td>\n",
       "      <td>London</td>\n",
       "      <td>5</td>\n",
       "      <td>5</td>\n",
       "      <td>1</td>\n",
       "      <td>0</td>\n",
       "      <td>1</td>\n",
       "      <td>2</td>\n",
       "      <td>2.000</td>\n",
       "      <td>0</td>\n",
       "      <td>8</td>\n",
       "    </tr>\n",
       "    <tr>\n",
       "      <th>1</th>\n",
       "      <td>130 134 Southampton Row Camden London WC1B 5AF United Kingdom</td>\n",
       "      <td>299</td>\n",
       "      <td>1/12/2017</td>\n",
       "      <td>8.300</td>\n",
       "      <td>Mercure London Bloomsbury Hotel</td>\n",
       "      <td>United Kingdom</td>\n",
       "      <td>poor breakfast</td>\n",
       "      <td>3</td>\n",
       "      <td>1361</td>\n",
       "      <td>location</td>\n",
       "      <td>...</td>\n",
       "      <td>London</td>\n",
       "      <td>5</td>\n",
       "      <td>4</td>\n",
       "      <td>0</td>\n",
       "      <td>0</td>\n",
       "      <td>0</td>\n",
       "      <td>2</td>\n",
       "      <td>1.000</td>\n",
       "      <td>0</td>\n",
       "      <td>12</td>\n",
       "    </tr>\n",
       "    <tr>\n",
       "      <th>2</th>\n",
       "      <td>151 bis Rue de Rennes 6th arr 75006 Paris France</td>\n",
       "      <td>32</td>\n",
       "      <td>10/18/2016</td>\n",
       "      <td>8.900</td>\n",
       "      <td>Legend Saint Germain by Elegancia</td>\n",
       "      <td>China</td>\n",
       "      <td>No kettle in room</td>\n",
       "      <td>6</td>\n",
       "      <td>406</td>\n",
       "      <td>No Positive</td>\n",
       "      <td>...</td>\n",
       "      <td>Paris</td>\n",
       "      <td>1</td>\n",
       "      <td>5</td>\n",
       "      <td>1</td>\n",
       "      <td>0</td>\n",
       "      <td>1</td>\n",
       "      <td>1</td>\n",
       "      <td>3.000</td>\n",
       "      <td>0</td>\n",
       "      <td>12</td>\n",
       "    </tr>\n",
       "    <tr>\n",
       "      <th>3</th>\n",
       "      <td>216 Avenue Jean Jaures 19th arr 75019 Paris France</td>\n",
       "      <td>34</td>\n",
       "      <td>9/22/2015</td>\n",
       "      <td>7.500</td>\n",
       "      <td>Mercure Paris 19 Philharmonie La Villette</td>\n",
       "      <td>United Kingdom</td>\n",
       "      <td>No Negative</td>\n",
       "      <td>0</td>\n",
       "      <td>607</td>\n",
       "      <td>Friendly staff quiet comfortable room spotlessly clean excellent location</td>\n",
       "      <td>...</td>\n",
       "      <td>Paris</td>\n",
       "      <td>1</td>\n",
       "      <td>4</td>\n",
       "      <td>0</td>\n",
       "      <td>0</td>\n",
       "      <td>1</td>\n",
       "      <td>1</td>\n",
       "      <td>1.000</td>\n",
       "      <td>0</td>\n",
       "      <td>12</td>\n",
       "    </tr>\n",
       "    <tr>\n",
       "      <th>4</th>\n",
       "      <td>Molenwerf 1 1014 AG Amsterdam Netherlands</td>\n",
       "      <td>914</td>\n",
       "      <td>3/5/2016</td>\n",
       "      <td>8.500</td>\n",
       "      <td>Golden Tulip Amsterdam West</td>\n",
       "      <td>Poland</td>\n",
       "      <td>Torn sheets</td>\n",
       "      <td>4</td>\n",
       "      <td>7586</td>\n",
       "      <td>The staff was very friendly and helpful Breakfasts were just extraordinary Room was clean quiet and very spacious</td>\n",
       "      <td>...</td>\n",
       "      <td>Amsterdam</td>\n",
       "      <td>3</td>\n",
       "      <td>4</td>\n",
       "      <td>0</td>\n",
       "      <td>0</td>\n",
       "      <td>0</td>\n",
       "      <td>2</td>\n",
       "      <td>6.000</td>\n",
       "      <td>0</td>\n",
       "      <td>12</td>\n",
       "    </tr>\n",
       "  </tbody>\n",
       "</table>\n",
       "<p>5 rows × 27 columns</p>\n",
       "</div>"
      ],
      "text/plain": [
       "                                                               hotel_address  \\\n",
       "0  Stratton Street Mayfair Westminster Borough London W1J 8LT United Kingdom   \n",
       "1              130 134 Southampton Row Camden London WC1B 5AF United Kingdom   \n",
       "2                           151 bis Rue de Rennes 6th arr 75006 Paris France   \n",
       "3                         216 Avenue Jean Jaures 19th arr 75019 Paris France   \n",
       "4                                  Molenwerf 1 1014 AG Amsterdam Netherlands   \n",
       "\n",
       "   additional_number_of_scoring review_date  average_score  \\\n",
       "0                           581   2/19/2016          8.400   \n",
       "1                           299   1/12/2017          8.300   \n",
       "2                            32  10/18/2016          8.900   \n",
       "3                            34   9/22/2015          7.500   \n",
       "4                           914    3/5/2016          8.500   \n",
       "\n",
       "                                  hotel_name reviewer_nationality  \\\n",
       "0                         The May Fair Hotel      United Kingdom    \n",
       "1            Mercure London Bloomsbury Hotel      United Kingdom    \n",
       "2          Legend Saint Germain by Elegancia               China    \n",
       "3  Mercure Paris 19 Philharmonie La Villette      United Kingdom    \n",
       "4                Golden Tulip Amsterdam West              Poland    \n",
       "\n",
       "       negative_review  review_total_negative_word_counts  \\\n",
       "0             Leaving                                   3   \n",
       "1       poor breakfast                                  3   \n",
       "2   No kettle in room                                   6   \n",
       "3          No Negative                                  0   \n",
       "4         Torn sheets                                   4   \n",
       "\n",
       "   total_number_of_reviews  \\\n",
       "0                     1994   \n",
       "1                     1361   \n",
       "2                      406   \n",
       "3                      607   \n",
       "4                     7586   \n",
       "\n",
       "                                                                                                       positive_review  \\\n",
       "0                                                                                                   Staff were amazing   \n",
       "1                                                                                                             location   \n",
       "2                                                                                                          No Positive   \n",
       "3                                           Friendly staff quiet comfortable room spotlessly clean excellent location    \n",
       "4   The staff was very friendly and helpful Breakfasts were just extraordinary Room was clean quiet and very spacious    \n",
       "\n",
       "   ...  hotel_city  hotel_country_code  tags_count tag_from_mobile  \\\n",
       "0  ...      London                   5           5               1   \n",
       "1  ...      London                   5           4               0   \n",
       "2  ...       Paris                   1           5               1   \n",
       "3  ...       Paris                   1           4               0   \n",
       "4  ...   Amsterdam                   3           4               0   \n",
       "\n",
       "  tag_with_pet  tag_leisure_trip tag_reviewer_type tag_count_nights  \\\n",
       "0            0                 1                 2            2.000   \n",
       "1            0                 0                 2            1.000   \n",
       "2            0                 1                 1            3.000   \n",
       "3            0                 1                 1            1.000   \n",
       "4            0                 0                 2            6.000   \n",
       "\n",
       "   tag_view_room  tag_room_type  \n",
       "0              0              8  \n",
       "1              0             12  \n",
       "2              0             12  \n",
       "3              0             12  \n",
       "4              0             12  \n",
       "\n",
       "[5 rows x 27 columns]"
      ]
     },
     "execution_count": 26,
     "metadata": {},
     "output_type": "execute_result"
    }
   ],
   "source": [
    "hotels.head()"
   ]
  },
  {
   "cell_type": "markdown",
   "id": "4b0d108f",
   "metadata": {
    "papermill": {
     "duration": 0.029085,
     "end_time": "2023-02-26T08:30:59.953439",
     "exception": false,
     "start_time": "2023-02-26T08:30:59.924354",
     "status": "completed"
    },
    "pycharm": {
     "name": "#%% md\n"
    },
    "tags": []
   },
   "source": [
    "### 2.5 Дата отзыва"
   ]
  },
  {
   "cell_type": "markdown",
   "id": "e0fbcbbe",
   "metadata": {
    "papermill": {
     "duration": 0.028201,
     "end_time": "2023-02-26T08:31:00.010184",
     "exception": false,
     "start_time": "2023-02-26T08:30:59.981983",
     "status": "completed"
    },
    "pycharm": {
     "name": "#%% md\n"
    },
    "tags": []
   },
   "source": [
    "Выделим из даты отзыва месяц."
   ]
  },
  {
   "cell_type": "code",
   "execution_count": 27,
   "id": "d5b9ee32",
   "metadata": {
    "collapsed": false,
    "execution": {
     "iopub.execute_input": "2023-02-26T08:31:00.069857Z",
     "iopub.status.busy": "2023-02-26T08:31:00.069440Z",
     "iopub.status.idle": "2023-02-26T08:31:00.302696Z",
     "shell.execute_reply": "2023-02-26T08:31:00.301510Z"
    },
    "jupyter": {
     "outputs_hidden": false
    },
    "papermill": {
     "duration": 0.2667,
     "end_time": "2023-02-26T08:31:00.305344",
     "exception": false,
     "start_time": "2023-02-26T08:31:00.038644",
     "status": "completed"
    },
    "pycharm": {
     "name": "#%%\n"
    },
    "tags": []
   },
   "outputs": [],
   "source": [
    "hotels['review_date'] = pd.to_datetime(hotels['review_date'])\n",
    "hotels['review_month'] = hotels['review_date'].dt.month"
   ]
  },
  {
   "cell_type": "markdown",
   "id": "5bec0eaa",
   "metadata": {
    "papermill": {
     "duration": 0.028297,
     "end_time": "2023-02-26T08:31:00.362924",
     "exception": false,
     "start_time": "2023-02-26T08:31:00.334627",
     "status": "completed"
    },
    "pycharm": {
     "name": "#%% md\n"
    },
    "tags": []
   },
   "source": [
    "Выделим день недели"
   ]
  },
  {
   "cell_type": "code",
   "execution_count": 28,
   "id": "6d894217",
   "metadata": {
    "collapsed": false,
    "execution": {
     "iopub.execute_input": "2023-02-26T08:31:00.421979Z",
     "iopub.status.busy": "2023-02-26T08:31:00.421511Z",
     "iopub.status.idle": "2023-02-26T08:31:00.491569Z",
     "shell.execute_reply": "2023-02-26T08:31:00.490308Z"
    },
    "jupyter": {
     "outputs_hidden": false
    },
    "papermill": {
     "duration": 0.102978,
     "end_time": "2023-02-26T08:31:00.494382",
     "exception": false,
     "start_time": "2023-02-26T08:31:00.391404",
     "status": "completed"
    },
    "pycharm": {
     "name": "#%%\n"
    },
    "tags": []
   },
   "outputs": [],
   "source": [
    "hotels['day_of_week'] = hotels['review_date'].dt.dayofweek"
   ]
  },
  {
   "cell_type": "markdown",
   "id": "79fd3ec3",
   "metadata": {
    "papermill": {
     "duration": 0.028724,
     "end_time": "2023-02-26T08:31:00.552555",
     "exception": false,
     "start_time": "2023-02-26T08:31:00.523831",
     "status": "completed"
    },
    "pycharm": {
     "name": "#%% md\n"
    },
    "tags": []
   },
   "source": [
    "Выделим месяцы \"высокого\" сезона."
   ]
  },
  {
   "cell_type": "code",
   "execution_count": 29,
   "id": "2d66afc3",
   "metadata": {
    "collapsed": false,
    "execution": {
     "iopub.execute_input": "2023-02-26T08:31:00.613838Z",
     "iopub.status.busy": "2023-02-26T08:31:00.613389Z",
     "iopub.status.idle": "2023-02-26T08:31:00.626712Z",
     "shell.execute_reply": "2023-02-26T08:31:00.625593Z"
    },
    "jupyter": {
     "outputs_hidden": false
    },
    "papermill": {
     "duration": 0.047152,
     "end_time": "2023-02-26T08:31:00.629345",
     "exception": false,
     "start_time": "2023-02-26T08:31:00.582193",
     "status": "completed"
    },
    "pycharm": {
     "name": "#%%\n"
    },
    "tags": []
   },
   "outputs": [
    {
     "data": {
      "text/plain": [
       "8     50632\n",
       "7     49291\n",
       "5     46470\n",
       "10    43803\n",
       "6     42877\n",
       "4     42872\n",
       "9     42369\n",
       "1     42133\n",
       "3     41090\n",
       "12    39591\n",
       "2     38352\n",
       "11    35951\n",
       "Name: review_month, dtype: int64"
      ]
     },
     "metadata": {},
     "output_type": "display_data"
    }
   ],
   "source": [
    "display(hotels['review_month'].value_counts())"
   ]
  },
  {
   "cell_type": "markdown",
   "id": "9b2291d6",
   "metadata": {
    "papermill": {
     "duration": 0.0293,
     "end_time": "2023-02-26T08:31:00.688407",
     "exception": false,
     "start_time": "2023-02-26T08:31:00.659107",
     "status": "completed"
    },
    "pycharm": {
     "name": "#%% md\n"
    },
    "tags": []
   },
   "source": [
    "Выделим топ 4, дальше разброс не сильно большой."
   ]
  },
  {
   "cell_type": "code",
   "execution_count": 30,
   "id": "74f551c9",
   "metadata": {
    "collapsed": false,
    "execution": {
     "iopub.execute_input": "2023-02-26T08:31:00.749222Z",
     "iopub.status.busy": "2023-02-26T08:31:00.747994Z",
     "iopub.status.idle": "2023-02-26T08:31:00.965815Z",
     "shell.execute_reply": "2023-02-26T08:31:00.964816Z"
    },
    "jupyter": {
     "outputs_hidden": false
    },
    "papermill": {
     "duration": 0.250633,
     "end_time": "2023-02-26T08:31:00.968504",
     "exception": false,
     "start_time": "2023-02-26T08:31:00.717871",
     "status": "completed"
    },
    "pycharm": {
     "name": "#%%\n"
    },
    "tags": []
   },
   "outputs": [],
   "source": [
    "hotels['high_season'] = hotels['review_month'].apply(lambda x: 1 if x in [8,7,5,10] else 0)"
   ]
  },
  {
   "cell_type": "markdown",
   "id": "47064c93",
   "metadata": {
    "papermill": {
     "duration": 0.028577,
     "end_time": "2023-02-26T08:31:01.026327",
     "exception": false,
     "start_time": "2023-02-26T08:31:00.997750",
     "status": "completed"
    },
    "pycharm": {
     "name": "#%% md\n"
    },
    "tags": []
   },
   "source": [
    "Заменим признак days_since_review на числовой."
   ]
  },
  {
   "cell_type": "code",
   "execution_count": 31,
   "id": "0142b973",
   "metadata": {
    "collapsed": false,
    "execution": {
     "iopub.execute_input": "2023-02-26T08:31:01.085360Z",
     "iopub.status.busy": "2023-02-26T08:31:01.084914Z",
     "iopub.status.idle": "2023-02-26T08:31:02.217842Z",
     "shell.execute_reply": "2023-02-26T08:31:02.216678Z"
    },
    "jupyter": {
     "outputs_hidden": false
    },
    "papermill": {
     "duration": 1.165618,
     "end_time": "2023-02-26T08:31:02.220526",
     "exception": false,
     "start_time": "2023-02-26T08:31:01.054908",
     "status": "completed"
    },
    "pycharm": {
     "name": "#%%\n"
    },
    "tags": []
   },
   "outputs": [],
   "source": [
    "hotels['days_since_review'] = hotels['days_since_review'].apply(lambda x: np.float64(re.findall(r'\\d+', x)[0])).convert_dtypes()"
   ]
  },
  {
   "cell_type": "markdown",
   "id": "ac63c1f6",
   "metadata": {
    "papermill": {
     "duration": 0.02874,
     "end_time": "2023-02-26T08:31:02.278451",
     "exception": false,
     "start_time": "2023-02-26T08:31:02.249711",
     "status": "completed"
    },
    "pycharm": {
     "name": "#%% md\n"
    },
    "tags": []
   },
   "source": [
    "Общее количество отзывов"
   ]
  },
  {
   "cell_type": "code",
   "execution_count": 32,
   "id": "08cbf8cb",
   "metadata": {
    "collapsed": false,
    "execution": {
     "iopub.execute_input": "2023-02-26T08:31:02.338498Z",
     "iopub.status.busy": "2023-02-26T08:31:02.337862Z",
     "iopub.status.idle": "2023-02-26T08:31:03.130942Z",
     "shell.execute_reply": "2023-02-26T08:31:03.129603Z"
    },
    "jupyter": {
     "outputs_hidden": false
    },
    "papermill": {
     "duration": 0.826478,
     "end_time": "2023-02-26T08:31:03.133865",
     "exception": false,
     "start_time": "2023-02-26T08:31:02.307387",
     "status": "completed"
    },
    "pycharm": {
     "name": "#%%\n"
    },
    "tags": []
   },
   "outputs": [],
   "source": [
    "hotels['total_number_of_reviews_reviewer_has_given'].groupby(pd.cut(hotels['total_number_of_reviews_reviewer_has_given'], np.arange(0, 500, 50))).agg('count')\n",
    "hotels['total_number_of_reviews_reviewer_has_given'] = hotels['total_number_of_reviews_reviewer_has_given'].apply(lambda x: np.log(x+1))"
   ]
  },
  {
   "cell_type": "code",
   "execution_count": 33,
   "id": "5ebfcc04",
   "metadata": {
    "collapsed": false,
    "execution": {
     "iopub.execute_input": "2023-02-26T08:31:03.194589Z",
     "iopub.status.busy": "2023-02-26T08:31:03.193913Z",
     "iopub.status.idle": "2023-02-26T08:31:03.217882Z",
     "shell.execute_reply": "2023-02-26T08:31:03.216653Z"
    },
    "jupyter": {
     "outputs_hidden": false
    },
    "papermill": {
     "duration": 0.057386,
     "end_time": "2023-02-26T08:31:03.220440",
     "exception": false,
     "start_time": "2023-02-26T08:31:03.163054",
     "status": "completed"
    },
    "pycharm": {
     "name": "#%%\n"
    },
    "tags": []
   },
   "outputs": [
    {
     "data": {
      "text/html": [
       "<div>\n",
       "<style scoped>\n",
       "    .dataframe tbody tr th:only-of-type {\n",
       "        vertical-align: middle;\n",
       "    }\n",
       "\n",
       "    .dataframe tbody tr th {\n",
       "        vertical-align: top;\n",
       "    }\n",
       "\n",
       "    .dataframe thead th {\n",
       "        text-align: right;\n",
       "    }\n",
       "</style>\n",
       "<table border=\"1\" class=\"dataframe\">\n",
       "  <thead>\n",
       "    <tr style=\"text-align: right;\">\n",
       "      <th></th>\n",
       "      <th>hotel_address</th>\n",
       "      <th>additional_number_of_scoring</th>\n",
       "      <th>review_date</th>\n",
       "      <th>average_score</th>\n",
       "      <th>hotel_name</th>\n",
       "      <th>reviewer_nationality</th>\n",
       "      <th>negative_review</th>\n",
       "      <th>review_total_negative_word_counts</th>\n",
       "      <th>total_number_of_reviews</th>\n",
       "      <th>positive_review</th>\n",
       "      <th>...</th>\n",
       "      <th>tag_from_mobile</th>\n",
       "      <th>tag_with_pet</th>\n",
       "      <th>tag_leisure_trip</th>\n",
       "      <th>tag_reviewer_type</th>\n",
       "      <th>tag_count_nights</th>\n",
       "      <th>tag_view_room</th>\n",
       "      <th>tag_room_type</th>\n",
       "      <th>review_month</th>\n",
       "      <th>day_of_week</th>\n",
       "      <th>high_season</th>\n",
       "    </tr>\n",
       "  </thead>\n",
       "  <tbody>\n",
       "    <tr>\n",
       "      <th>0</th>\n",
       "      <td>Stratton Street Mayfair Westminster Borough London W1J 8LT United Kingdom</td>\n",
       "      <td>581</td>\n",
       "      <td>2016-02-19</td>\n",
       "      <td>8.400</td>\n",
       "      <td>The May Fair Hotel</td>\n",
       "      <td>United Kingdom</td>\n",
       "      <td>Leaving</td>\n",
       "      <td>3</td>\n",
       "      <td>1994</td>\n",
       "      <td>Staff were amazing</td>\n",
       "      <td>...</td>\n",
       "      <td>1</td>\n",
       "      <td>0</td>\n",
       "      <td>1</td>\n",
       "      <td>2</td>\n",
       "      <td>2.000</td>\n",
       "      <td>0</td>\n",
       "      <td>8</td>\n",
       "      <td>2</td>\n",
       "      <td>4</td>\n",
       "      <td>0</td>\n",
       "    </tr>\n",
       "    <tr>\n",
       "      <th>1</th>\n",
       "      <td>130 134 Southampton Row Camden London WC1B 5AF United Kingdom</td>\n",
       "      <td>299</td>\n",
       "      <td>2017-01-12</td>\n",
       "      <td>8.300</td>\n",
       "      <td>Mercure London Bloomsbury Hotel</td>\n",
       "      <td>United Kingdom</td>\n",
       "      <td>poor breakfast</td>\n",
       "      <td>3</td>\n",
       "      <td>1361</td>\n",
       "      <td>location</td>\n",
       "      <td>...</td>\n",
       "      <td>0</td>\n",
       "      <td>0</td>\n",
       "      <td>0</td>\n",
       "      <td>2</td>\n",
       "      <td>1.000</td>\n",
       "      <td>0</td>\n",
       "      <td>12</td>\n",
       "      <td>1</td>\n",
       "      <td>3</td>\n",
       "      <td>0</td>\n",
       "    </tr>\n",
       "    <tr>\n",
       "      <th>2</th>\n",
       "      <td>151 bis Rue de Rennes 6th arr 75006 Paris France</td>\n",
       "      <td>32</td>\n",
       "      <td>2016-10-18</td>\n",
       "      <td>8.900</td>\n",
       "      <td>Legend Saint Germain by Elegancia</td>\n",
       "      <td>China</td>\n",
       "      <td>No kettle in room</td>\n",
       "      <td>6</td>\n",
       "      <td>406</td>\n",
       "      <td>No Positive</td>\n",
       "      <td>...</td>\n",
       "      <td>1</td>\n",
       "      <td>0</td>\n",
       "      <td>1</td>\n",
       "      <td>1</td>\n",
       "      <td>3.000</td>\n",
       "      <td>0</td>\n",
       "      <td>12</td>\n",
       "      <td>10</td>\n",
       "      <td>1</td>\n",
       "      <td>1</td>\n",
       "    </tr>\n",
       "    <tr>\n",
       "      <th>3</th>\n",
       "      <td>216 Avenue Jean Jaures 19th arr 75019 Paris France</td>\n",
       "      <td>34</td>\n",
       "      <td>2015-09-22</td>\n",
       "      <td>7.500</td>\n",
       "      <td>Mercure Paris 19 Philharmonie La Villette</td>\n",
       "      <td>United Kingdom</td>\n",
       "      <td>No Negative</td>\n",
       "      <td>0</td>\n",
       "      <td>607</td>\n",
       "      <td>Friendly staff quiet comfortable room spotlessly clean excellent location</td>\n",
       "      <td>...</td>\n",
       "      <td>0</td>\n",
       "      <td>0</td>\n",
       "      <td>1</td>\n",
       "      <td>1</td>\n",
       "      <td>1.000</td>\n",
       "      <td>0</td>\n",
       "      <td>12</td>\n",
       "      <td>9</td>\n",
       "      <td>1</td>\n",
       "      <td>0</td>\n",
       "    </tr>\n",
       "    <tr>\n",
       "      <th>4</th>\n",
       "      <td>Molenwerf 1 1014 AG Amsterdam Netherlands</td>\n",
       "      <td>914</td>\n",
       "      <td>2016-03-05</td>\n",
       "      <td>8.500</td>\n",
       "      <td>Golden Tulip Amsterdam West</td>\n",
       "      <td>Poland</td>\n",
       "      <td>Torn sheets</td>\n",
       "      <td>4</td>\n",
       "      <td>7586</td>\n",
       "      <td>The staff was very friendly and helpful Breakfasts were just extraordinary Room was clean quiet and very spacious</td>\n",
       "      <td>...</td>\n",
       "      <td>0</td>\n",
       "      <td>0</td>\n",
       "      <td>0</td>\n",
       "      <td>2</td>\n",
       "      <td>6.000</td>\n",
       "      <td>0</td>\n",
       "      <td>12</td>\n",
       "      <td>3</td>\n",
       "      <td>5</td>\n",
       "      <td>0</td>\n",
       "    </tr>\n",
       "  </tbody>\n",
       "</table>\n",
       "<p>5 rows × 30 columns</p>\n",
       "</div>"
      ],
      "text/plain": [
       "                                                               hotel_address  \\\n",
       "0  Stratton Street Mayfair Westminster Borough London W1J 8LT United Kingdom   \n",
       "1              130 134 Southampton Row Camden London WC1B 5AF United Kingdom   \n",
       "2                           151 bis Rue de Rennes 6th arr 75006 Paris France   \n",
       "3                         216 Avenue Jean Jaures 19th arr 75019 Paris France   \n",
       "4                                  Molenwerf 1 1014 AG Amsterdam Netherlands   \n",
       "\n",
       "   additional_number_of_scoring review_date  average_score  \\\n",
       "0                           581  2016-02-19          8.400   \n",
       "1                           299  2017-01-12          8.300   \n",
       "2                            32  2016-10-18          8.900   \n",
       "3                            34  2015-09-22          7.500   \n",
       "4                           914  2016-03-05          8.500   \n",
       "\n",
       "                                  hotel_name reviewer_nationality  \\\n",
       "0                         The May Fair Hotel      United Kingdom    \n",
       "1            Mercure London Bloomsbury Hotel      United Kingdom    \n",
       "2          Legend Saint Germain by Elegancia               China    \n",
       "3  Mercure Paris 19 Philharmonie La Villette      United Kingdom    \n",
       "4                Golden Tulip Amsterdam West              Poland    \n",
       "\n",
       "       negative_review  review_total_negative_word_counts  \\\n",
       "0             Leaving                                   3   \n",
       "1       poor breakfast                                  3   \n",
       "2   No kettle in room                                   6   \n",
       "3          No Negative                                  0   \n",
       "4         Torn sheets                                   4   \n",
       "\n",
       "   total_number_of_reviews  \\\n",
       "0                     1994   \n",
       "1                     1361   \n",
       "2                      406   \n",
       "3                      607   \n",
       "4                     7586   \n",
       "\n",
       "                                                                                                       positive_review  \\\n",
       "0                                                                                                   Staff were amazing   \n",
       "1                                                                                                             location   \n",
       "2                                                                                                          No Positive   \n",
       "3                                           Friendly staff quiet comfortable room spotlessly clean excellent location    \n",
       "4   The staff was very friendly and helpful Breakfasts were just extraordinary Room was clean quiet and very spacious    \n",
       "\n",
       "   ...  tag_from_mobile  tag_with_pet  tag_leisure_trip tag_reviewer_type  \\\n",
       "0  ...                1             0                 1                 2   \n",
       "1  ...                0             0                 0                 2   \n",
       "2  ...                1             0                 1                 1   \n",
       "3  ...                0             0                 1                 1   \n",
       "4  ...                0             0                 0                 2   \n",
       "\n",
       "   tag_count_nights  tag_view_room tag_room_type review_month  day_of_week  \\\n",
       "0             2.000              0             8            2            4   \n",
       "1             1.000              0            12            1            3   \n",
       "2             3.000              0            12           10            1   \n",
       "3             1.000              0            12            9            1   \n",
       "4             6.000              0            12            3            5   \n",
       "\n",
       "   high_season  \n",
       "0            0  \n",
       "1            0  \n",
       "2            1  \n",
       "3            0  \n",
       "4            0  \n",
       "\n",
       "[5 rows x 30 columns]"
      ]
     },
     "execution_count": 33,
     "metadata": {},
     "output_type": "execute_result"
    }
   ],
   "source": [
    "hotels.head()"
   ]
  },
  {
   "cell_type": "markdown",
   "id": "ec2d729b",
   "metadata": {
    "papermill": {
     "duration": 0.029782,
     "end_time": "2023-02-26T08:31:03.279894",
     "exception": false,
     "start_time": "2023-02-26T08:31:03.250112",
     "status": "completed"
    },
    "pycharm": {
     "name": "#%% md\n"
    },
    "tags": []
   },
   "source": [
    "### 2.6 Отзывы"
   ]
  },
  {
   "cell_type": "markdown",
   "id": "99573066",
   "metadata": {
    "papermill": {
     "duration": 0.029044,
     "end_time": "2023-02-26T08:31:03.338610",
     "exception": false,
     "start_time": "2023-02-26T08:31:03.309566",
     "status": "completed"
    },
    "pycharm": {
     "name": "#%% md\n"
    },
    "tags": []
   },
   "source": [
    " Отзывы и их структура поможет разобраться в поставленной задаче лучше всего. Для этого надо изучить отзывы, выделить эмоциональную окраску: негативная, нейтральная, позитивная.\n",
    "\n",
    "Участники соревнования активно применяют библиотеку VADER, класс SentimentIntensityAnalyzer, не будем от них отставать."
   ]
  },
  {
   "cell_type": "code",
   "execution_count": 34,
   "id": "d4b8749f",
   "metadata": {
    "collapsed": false,
    "execution": {
     "iopub.execute_input": "2023-02-26T08:31:03.399893Z",
     "iopub.status.busy": "2023-02-26T08:31:03.399459Z",
     "iopub.status.idle": "2023-02-26T08:31:04.716173Z",
     "shell.execute_reply": "2023-02-26T08:31:04.714851Z"
    },
    "jupyter": {
     "outputs_hidden": false
    },
    "papermill": {
     "duration": 1.350625,
     "end_time": "2023-02-26T08:31:04.718894",
     "exception": false,
     "start_time": "2023-02-26T08:31:03.368269",
     "status": "completed"
    },
    "pycharm": {
     "name": "#%%\n"
    },
    "tags": []
   },
   "outputs": [
    {
     "name": "stdout",
     "output_type": "stream",
     "text": [
      "Словарь оценок слова \"nothing\" до преобразований:\n",
      "{'neg': 0.0, 'neu': 1.0, 'pos': 0.0, 'compound': 0.0} \n",
      "\n",
      " - после преобразований (для негативного контекста):\n",
      "{'neg': 0.0, 'neu': 0.0, 'pos': 1.0, 'compound': 0.9325}\n",
      " - после преобразований (для позитивного контекста):\n",
      "{'neg': 1.0, 'neu': 0.0, 'pos': 0.0, 'compound': -0.9325}\n",
      "\n",
      "Словарь оценок фразы \"No Negative\":\n",
      "{'neg': 1.0, 'neu': 0.0, 'pos': 0.0, 'compound': -0.7096}\n",
      "Словарь оценок фразы \"Positive\":\n",
      "{'neg': 0.0, 'neu': 0.0, 'pos': 1.0, 'compound': 0.5574}\n"
     ]
    }
   ],
   "source": [
    "# Создаём объекты SentimentIntensityAnalyzer\n",
    "positive = SentimentIntensityAnalyzer()\n",
    "negative = SentimentIntensityAnalyzer()\n",
    "\n",
    "# посмотрим как изменится характеристика слова 'nothing':\n",
    "example = 'nothing'\n",
    "print(f'Словарь оценок слова \"{example}\" до преобразований:')\n",
    "print(negative.polarity_scores(example), '\\n')\n",
    "\n",
    "# добавим контекст:\n",
    "negative_words = {'small': -1, 'nothing': 10}\n",
    "positive_words = {'nothing': -10, 'everything': 10}\n",
    "negative.lexicon.update(negative_words)\n",
    "positive.lexicon.update(positive_words)\n",
    "\n",
    "print(f' - после преобразований (для негативного контекста):')\n",
    "print(negative.polarity_scores(example))\n",
    "print(f' - после преобразований (для позитивного контекста):')\n",
    "print(positive.polarity_scores(example))\n",
    "\n",
    "# фразы \"No Negative\" тонально будет нести негативную окраску:\n",
    "example = 'No Negative'\n",
    "print(f'\\nСловарь оценок фразы \"{example}\":')\n",
    "print(negative.polarity_scores(example))\n",
    "example = 'Positive'\n",
    "print(f'Словарь оценок фразы \"{example}\":')\n",
    "print(negative.polarity_scores(example))\n",
    "\n",
    "# меняем метки отсутствия частей отзыва:\n",
    "hotels['negative_review_temp'] = hotels['negative_review'].apply(lambda x: x.replace('No Negative', 'Positive'))\n",
    "hotels['positive_review_temp'] = hotels['negative_review'].apply(lambda x: x.replace('N A', 'Positive'))\n",
    "hotels['positive_review_temp'] = hotels['negative_review'].apply(lambda x: x.replace('All good', 'Positive'))\n",
    "hotels['positive_review_temp'] = hotels['negative_review'].apply(lambda x: x.replace('No complaints', 'Positive'))\n",
    "hotels['positive_review_temp'] = hotels['negative_review'].apply(lambda x: x.replace('Nothing to dislike', 'Positive'))\n",
    "hotels['positive_review_temp'] = hotels['positive_review'].apply(lambda x: x.replace('No Positive', 'Negative'))"
   ]
  },
  {
   "cell_type": "code",
   "execution_count": 35,
   "id": "2d91ab09",
   "metadata": {
    "collapsed": false,
    "execution": {
     "iopub.execute_input": "2023-02-26T08:31:04.780623Z",
     "iopub.status.busy": "2023-02-26T08:31:04.780202Z",
     "iopub.status.idle": "2023-02-26T08:35:36.382293Z",
     "shell.execute_reply": "2023-02-26T08:35:36.380983Z"
    },
    "jupyter": {
     "outputs_hidden": false
    },
    "papermill": {
     "duration": 271.665331,
     "end_time": "2023-02-26T08:35:36.414482",
     "exception": false,
     "start_time": "2023-02-26T08:31:04.749151",
     "status": "completed"
    },
    "pycharm": {
     "name": "#%%\n"
    },
    "tags": []
   },
   "outputs": [
    {
     "name": "stdout",
     "output_type": "stream",
     "text": [
      "CPU times: user 4min 30s, sys: 769 ms, total: 4min 31s\n",
      "Wall time: 4min 31s\n"
     ]
    }
   ],
   "source": [
    "%%time\n",
    "\n",
    "hotels['negative_review_sentiments'] = hotels['negative_review_temp'].apply(lambda x: negative.polarity_scores(x))\n",
    "\n",
    "hotels['positive_review_sentiments'] = hotels['positive_review_temp'].apply(lambda x: positive.polarity_scores(x))\n",
    "\n",
    "# формируем новые признаки:\n",
    "hotels['neg_review_sentiments_neg'] = hotels['negative_review_sentiments'].apply(lambda x: x['neg'])\n",
    "hotels['neg_review_sentiments_neu'] = hotels['negative_review_sentiments'].apply(lambda x: x['neu'])\n",
    "hotels['neg_review_sentiments_pos'] = hotels['negative_review_sentiments'].apply(lambda x: x['pos'])\n",
    "hotels['neg_review_sentiments_compound'] = hotels['negative_review_sentiments'].apply(lambda x: x['compound'])\n",
    "\n",
    "hotels['pos_review_sentiments_neg'] = hotels['positive_review_sentiments'].apply(lambda x: x['neg'])\n",
    "hotels['pos_review_sentiments_neu'] = hotels['positive_review_sentiments'].apply(lambda x: x['neu'])\n",
    "hotels['pos_review_sentiments_pos'] = hotels['positive_review_sentiments'].apply(lambda x: x['pos'])\n",
    "hotels['pos_review_sentiments_compound'] = hotels['positive_review_sentiments'].apply(lambda x: x['compound'])"
   ]
  },
  {
   "cell_type": "markdown",
   "id": "41bba544",
   "metadata": {
    "papermill": {
     "duration": 0.02922,
     "end_time": "2023-02-26T08:35:36.473041",
     "exception": false,
     "start_time": "2023-02-26T08:35:36.443821",
     "status": "completed"
    },
    "pycharm": {
     "name": "#%% md\n"
    },
    "tags": []
   },
   "source": [
    "## 3. Отбор призаков"
   ]
  },
  {
   "cell_type": "markdown",
   "id": "8be3af71",
   "metadata": {
    "papermill": {
     "duration": 0.029321,
     "end_time": "2023-02-26T08:35:36.531766",
     "exception": false,
     "start_time": "2023-02-26T08:35:36.502445",
     "status": "completed"
    },
    "pycharm": {
     "name": "#%% md\n"
    },
    "tags": []
   },
   "source": [
    "### 3.1 Очистка дата-сета от ненужных вспомогательных признаков"
   ]
  },
  {
   "cell_type": "code",
   "execution_count": 36,
   "id": "cac9c669",
   "metadata": {
    "collapsed": false,
    "execution": {
     "iopub.execute_input": "2023-02-26T08:35:36.592768Z",
     "iopub.status.busy": "2023-02-26T08:35:36.592355Z",
     "iopub.status.idle": "2023-02-26T08:35:36.980033Z",
     "shell.execute_reply": "2023-02-26T08:35:36.977576Z"
    },
    "jupyter": {
     "outputs_hidden": false
    },
    "papermill": {
     "duration": 0.421643,
     "end_time": "2023-02-26T08:35:36.982578",
     "exception": false,
     "start_time": "2023-02-26T08:35:36.560935",
     "status": "completed"
    },
    "pycharm": {
     "name": "#%%\n"
    },
    "tags": []
   },
   "outputs": [
    {
     "name": "stdout",
     "output_type": "stream",
     "text": [
      "<class 'pandas.core.frame.DataFrame'>\n",
      "RangeIndex: 515431 entries, 0 to 515430\n",
      "Data columns (total 42 columns):\n",
      " #   Column                                      Non-Null Count   Dtype         \n",
      "---  ------                                      --------------   -----         \n",
      " 0   hotel_address                               515431 non-null  object        \n",
      " 1   additional_number_of_scoring                515431 non-null  int64         \n",
      " 2   review_date                                 515431 non-null  datetime64[ns]\n",
      " 3   average_score                               515431 non-null  float64       \n",
      " 4   hotel_name                                  515431 non-null  object        \n",
      " 5   reviewer_nationality                        515431 non-null  object        \n",
      " 6   negative_review                             515431 non-null  object        \n",
      " 7   review_total_negative_word_counts           515431 non-null  int64         \n",
      " 8   total_number_of_reviews                     515431 non-null  int64         \n",
      " 9   positive_review                             515431 non-null  object        \n",
      " 10  review_total_positive_word_counts           515431 non-null  int64         \n",
      " 11  total_number_of_reviews_reviewer_has_given  515431 non-null  float64       \n",
      " 12  reviewer_score                              515431 non-null  float64       \n",
      " 13  tags                                        515431 non-null  object        \n",
      " 14  days_since_review                           515431 non-null  Int64         \n",
      " 15  sample                                      515431 non-null  int64         \n",
      " 16  hotel_country                               515431 non-null  object        \n",
      " 17  hotel_city                                  515431 non-null  object        \n",
      " 18  hotel_country_code                          515431 non-null  int8          \n",
      " 19  tags_count                                  515431 non-null  int64         \n",
      " 20  tag_from_mobile                             515431 non-null  int64         \n",
      " 21  tag_with_pet                                515431 non-null  int64         \n",
      " 22  tag_leisure_trip                            515431 non-null  int64         \n",
      " 23  tag_reviewer_type                           515431 non-null  int64         \n",
      " 24  tag_count_nights                            515431 non-null  float64       \n",
      " 25  tag_view_room                               515431 non-null  int64         \n",
      " 26  tag_room_type                               515431 non-null  int64         \n",
      " 27  review_month                                515431 non-null  int64         \n",
      " 28  day_of_week                                 515431 non-null  int64         \n",
      " 29  high_season                                 515431 non-null  int64         \n",
      " 30  negative_review_temp                        515431 non-null  object        \n",
      " 31  positive_review_temp                        515431 non-null  object        \n",
      " 32  negative_review_sentiments                  515431 non-null  object        \n",
      " 33  positive_review_sentiments                  515431 non-null  object        \n",
      " 34  neg_review_sentiments_neg                   515431 non-null  float64       \n",
      " 35  neg_review_sentiments_neu                   515431 non-null  float64       \n",
      " 36  neg_review_sentiments_pos                   515431 non-null  float64       \n",
      " 37  neg_review_sentiments_compound              515431 non-null  float64       \n",
      " 38  pos_review_sentiments_neg                   515431 non-null  float64       \n",
      " 39  pos_review_sentiments_neu                   515431 non-null  float64       \n",
      " 40  pos_review_sentiments_pos                   515431 non-null  float64       \n",
      " 41  pos_review_sentiments_compound              515431 non-null  float64       \n",
      "dtypes: Int64(1), datetime64[ns](1), float64(12), int64(15), int8(1), object(12)\n",
      "memory usage: 162.2+ MB\n"
     ]
    }
   ],
   "source": [
    "hotels.info()"
   ]
  },
  {
   "cell_type": "code",
   "execution_count": 37,
   "id": "8ec58fff",
   "metadata": {
    "collapsed": false,
    "execution": {
     "iopub.execute_input": "2023-02-26T08:35:37.044655Z",
     "iopub.status.busy": "2023-02-26T08:35:37.043557Z",
     "iopub.status.idle": "2023-02-26T08:35:37.628302Z",
     "shell.execute_reply": "2023-02-26T08:35:37.627001Z"
    },
    "jupyter": {
     "outputs_hidden": false
    },
    "papermill": {
     "duration": 0.618931,
     "end_time": "2023-02-26T08:35:37.631189",
     "exception": false,
     "start_time": "2023-02-26T08:35:37.012258",
     "status": "completed"
    },
    "pycharm": {
     "name": "#%%\n"
    },
    "tags": []
   },
   "outputs": [],
   "source": [
    "hotels_copy = hotels.copy()"
   ]
  },
  {
   "cell_type": "code",
   "execution_count": 38,
   "id": "d9232250",
   "metadata": {
    "collapsed": false,
    "execution": {
     "iopub.execute_input": "2023-02-26T08:35:37.693551Z",
     "iopub.status.busy": "2023-02-26T08:35:37.692615Z",
     "iopub.status.idle": "2023-02-26T08:35:37.775002Z",
     "shell.execute_reply": "2023-02-26T08:35:37.773678Z"
    },
    "jupyter": {
     "outputs_hidden": false
    },
    "papermill": {
     "duration": 0.116954,
     "end_time": "2023-02-26T08:35:37.777779",
     "exception": false,
     "start_time": "2023-02-26T08:35:37.660825",
     "status": "completed"
    },
    "pycharm": {
     "name": "#%%\n"
    },
    "tags": []
   },
   "outputs": [],
   "source": [
    "object_columns = [s for s in hotels_copy.columns if hotels_copy[s].dtypes == 'object']\n",
    "hotels_copy.drop(object_columns, axis = 1, inplace=True)"
   ]
  },
  {
   "cell_type": "code",
   "execution_count": 39,
   "id": "22863a26",
   "metadata": {
    "collapsed": false,
    "execution": {
     "iopub.execute_input": "2023-02-26T08:35:37.839319Z",
     "iopub.status.busy": "2023-02-26T08:35:37.838873Z",
     "iopub.status.idle": "2023-02-26T08:35:37.882061Z",
     "shell.execute_reply": "2023-02-26T08:35:37.880577Z"
    },
    "jupyter": {
     "outputs_hidden": false
    },
    "papermill": {
     "duration": 0.076608,
     "end_time": "2023-02-26T08:35:37.884620",
     "exception": false,
     "start_time": "2023-02-26T08:35:37.808012",
     "status": "completed"
    },
    "pycharm": {
     "name": "#%%\n"
    },
    "tags": []
   },
   "outputs": [
    {
     "name": "stdout",
     "output_type": "stream",
     "text": [
      "<class 'pandas.core.frame.DataFrame'>\n",
      "RangeIndex: 515431 entries, 0 to 515430\n",
      "Data columns (total 30 columns):\n",
      " #   Column                                      Non-Null Count   Dtype         \n",
      "---  ------                                      --------------   -----         \n",
      " 0   additional_number_of_scoring                515431 non-null  int64         \n",
      " 1   review_date                                 515431 non-null  datetime64[ns]\n",
      " 2   average_score                               515431 non-null  float64       \n",
      " 3   review_total_negative_word_counts           515431 non-null  int64         \n",
      " 4   total_number_of_reviews                     515431 non-null  int64         \n",
      " 5   review_total_positive_word_counts           515431 non-null  int64         \n",
      " 6   total_number_of_reviews_reviewer_has_given  515431 non-null  float64       \n",
      " 7   reviewer_score                              515431 non-null  float64       \n",
      " 8   days_since_review                           515431 non-null  Int64         \n",
      " 9   sample                                      515431 non-null  int64         \n",
      " 10  hotel_country_code                          515431 non-null  int8          \n",
      " 11  tags_count                                  515431 non-null  int64         \n",
      " 12  tag_from_mobile                             515431 non-null  int64         \n",
      " 13  tag_with_pet                                515431 non-null  int64         \n",
      " 14  tag_leisure_trip                            515431 non-null  int64         \n",
      " 15  tag_reviewer_type                           515431 non-null  int64         \n",
      " 16  tag_count_nights                            515431 non-null  float64       \n",
      " 17  tag_view_room                               515431 non-null  int64         \n",
      " 18  tag_room_type                               515431 non-null  int64         \n",
      " 19  review_month                                515431 non-null  int64         \n",
      " 20  day_of_week                                 515431 non-null  int64         \n",
      " 21  high_season                                 515431 non-null  int64         \n",
      " 22  neg_review_sentiments_neg                   515431 non-null  float64       \n",
      " 23  neg_review_sentiments_neu                   515431 non-null  float64       \n",
      " 24  neg_review_sentiments_pos                   515431 non-null  float64       \n",
      " 25  neg_review_sentiments_compound              515431 non-null  float64       \n",
      " 26  pos_review_sentiments_neg                   515431 non-null  float64       \n",
      " 27  pos_review_sentiments_neu                   515431 non-null  float64       \n",
      " 28  pos_review_sentiments_pos                   515431 non-null  float64       \n",
      " 29  pos_review_sentiments_compound              515431 non-null  float64       \n",
      "dtypes: Int64(1), datetime64[ns](1), float64(12), int64(15), int8(1)\n",
      "memory usage: 115.0 MB\n"
     ]
    }
   ],
   "source": [
    "hotels_copy.info()"
   ]
  },
  {
   "cell_type": "code",
   "execution_count": 40,
   "id": "0bb8c82a",
   "metadata": {
    "collapsed": false,
    "execution": {
     "iopub.execute_input": "2023-02-26T08:35:37.946504Z",
     "iopub.status.busy": "2023-02-26T08:35:37.945818Z",
     "iopub.status.idle": "2023-02-26T08:35:37.995732Z",
     "shell.execute_reply": "2023-02-26T08:35:37.994448Z"
    },
    "jupyter": {
     "outputs_hidden": false
    },
    "papermill": {
     "duration": 0.083865,
     "end_time": "2023-02-26T08:35:37.998309",
     "exception": false,
     "start_time": "2023-02-26T08:35:37.914444",
     "status": "completed"
    },
    "pycharm": {
     "name": "#%%\n"
    },
    "tags": []
   },
   "outputs": [],
   "source": [
    "cat_date_columns = [cd for cd in hotels_copy.columns if ((hotels_copy[cd].dtypes.name == 'category') or (hotels_copy[cd].dtypes == 'datetime64[ns]'))]\n",
    "hotels_copy.drop(cat_date_columns, axis = 1, inplace=True)"
   ]
  },
  {
   "cell_type": "code",
   "execution_count": 41,
   "id": "08f9f73b",
   "metadata": {
    "collapsed": false,
    "execution": {
     "iopub.execute_input": "2023-02-26T08:35:38.060050Z",
     "iopub.status.busy": "2023-02-26T08:35:38.059568Z",
     "iopub.status.idle": "2023-02-26T08:35:38.101833Z",
     "shell.execute_reply": "2023-02-26T08:35:38.099727Z"
    },
    "jupyter": {
     "outputs_hidden": false
    },
    "papermill": {
     "duration": 0.077019,
     "end_time": "2023-02-26T08:35:38.105055",
     "exception": false,
     "start_time": "2023-02-26T08:35:38.028036",
     "status": "completed"
    },
    "pycharm": {
     "name": "#%%\n"
    },
    "tags": []
   },
   "outputs": [
    {
     "name": "stdout",
     "output_type": "stream",
     "text": [
      "<class 'pandas.core.frame.DataFrame'>\n",
      "RangeIndex: 515431 entries, 0 to 515430\n",
      "Data columns (total 29 columns):\n",
      " #   Column                                      Non-Null Count   Dtype  \n",
      "---  ------                                      --------------   -----  \n",
      " 0   additional_number_of_scoring                515431 non-null  int64  \n",
      " 1   average_score                               515431 non-null  float64\n",
      " 2   review_total_negative_word_counts           515431 non-null  int64  \n",
      " 3   total_number_of_reviews                     515431 non-null  int64  \n",
      " 4   review_total_positive_word_counts           515431 non-null  int64  \n",
      " 5   total_number_of_reviews_reviewer_has_given  515431 non-null  float64\n",
      " 6   reviewer_score                              515431 non-null  float64\n",
      " 7   days_since_review                           515431 non-null  Int64  \n",
      " 8   sample                                      515431 non-null  int64  \n",
      " 9   hotel_country_code                          515431 non-null  int8   \n",
      " 10  tags_count                                  515431 non-null  int64  \n",
      " 11  tag_from_mobile                             515431 non-null  int64  \n",
      " 12  tag_with_pet                                515431 non-null  int64  \n",
      " 13  tag_leisure_trip                            515431 non-null  int64  \n",
      " 14  tag_reviewer_type                           515431 non-null  int64  \n",
      " 15  tag_count_nights                            515431 non-null  float64\n",
      " 16  tag_view_room                               515431 non-null  int64  \n",
      " 17  tag_room_type                               515431 non-null  int64  \n",
      " 18  review_month                                515431 non-null  int64  \n",
      " 19  day_of_week                                 515431 non-null  int64  \n",
      " 20  high_season                                 515431 non-null  int64  \n",
      " 21  neg_review_sentiments_neg                   515431 non-null  float64\n",
      " 22  neg_review_sentiments_neu                   515431 non-null  float64\n",
      " 23  neg_review_sentiments_pos                   515431 non-null  float64\n",
      " 24  neg_review_sentiments_compound              515431 non-null  float64\n",
      " 25  pos_review_sentiments_neg                   515431 non-null  float64\n",
      " 26  pos_review_sentiments_neu                   515431 non-null  float64\n",
      " 27  pos_review_sentiments_pos                   515431 non-null  float64\n",
      " 28  pos_review_sentiments_compound              515431 non-null  float64\n",
      "dtypes: Int64(1), float64(12), int64(15), int8(1)\n",
      "memory usage: 111.1 MB\n"
     ]
    }
   ],
   "source": [
    "hotels_copy.info()"
   ]
  },
  {
   "cell_type": "markdown",
   "id": "597c7823",
   "metadata": {
    "papermill": {
     "duration": 0.030292,
     "end_time": "2023-02-26T08:35:38.166309",
     "exception": false,
     "start_time": "2023-02-26T08:35:38.136017",
     "status": "completed"
    },
    "pycharm": {
     "name": "#%% md\n"
    },
    "tags": []
   },
   "source": [
    "### 3.2 Анализ мультиколлинеарности"
   ]
  },
  {
   "cell_type": "code",
   "execution_count": 42,
   "id": "dc528a0e",
   "metadata": {
    "collapsed": false,
    "execution": {
     "iopub.execute_input": "2023-02-26T08:35:38.229977Z",
     "iopub.status.busy": "2023-02-26T08:35:38.228679Z",
     "iopub.status.idle": "2023-02-26T08:35:38.236374Z",
     "shell.execute_reply": "2023-02-26T08:35:38.235424Z"
    },
    "jupyter": {
     "outputs_hidden": false
    },
    "papermill": {
     "duration": 0.042174,
     "end_time": "2023-02-26T08:35:38.239068",
     "exception": false,
     "start_time": "2023-02-26T08:35:38.196894",
     "status": "completed"
    },
    "pycharm": {
     "name": "#%%\n"
    },
    "tags": []
   },
   "outputs": [],
   "source": [
    "cols_num = [\n",
    "    'review_total_negative_word_counts',\n",
    "    'review_total_positive_word_counts',\n",
    "    'total_number_of_reviews_reviewer_has_given',\n",
    "    'tags_count',\n",
    "    'tag_count_nights',\n",
    "    'neg_review_sentiments_neg',\n",
    "    'neg_review_sentiments_neu',\n",
    "    'neg_review_sentiments_pos',\n",
    "    'neg_review_sentiments_compound',\n",
    "    'pos_review_sentiments_neg',\n",
    "    'pos_review_sentiments_neu',\n",
    "    'pos_review_sentiments_pos',\n",
    "    'pos_review_sentiments_compound'\n",
    "]\n",
    "\n",
    "cols_cat = [\n",
    "    'additional_number_of_scoring',\n",
    "    'average_score',\n",
    "    'total_number_of_reviews',\n",
    "    'days_since_review',\n",
    "    'hotel_country_code',\n",
    "    'reviewer_score',\n",
    "    'tag_from_mobile',\n",
    "    'tag_with_pet',\n",
    "    'tag_leisure_trip',\n",
    "    'tag_reviewer_type',\n",
    "    'tag_view_room',\n",
    "    'tag_room_type',\n",
    "    'review_month',\n",
    "    'day_of_week',\n",
    "    'high_season',\n",
    "    'review_month',\n",
    "]"
   ]
  },
  {
   "cell_type": "code",
   "execution_count": 43,
   "id": "5d661547",
   "metadata": {
    "collapsed": false,
    "execution": {
     "iopub.execute_input": "2023-02-26T08:35:38.303036Z",
     "iopub.status.busy": "2023-02-26T08:35:38.301659Z",
     "iopub.status.idle": "2023-02-26T08:35:38.309950Z",
     "shell.execute_reply": "2023-02-26T08:35:38.308907Z"
    },
    "jupyter": {
     "outputs_hidden": false
    },
    "papermill": {
     "duration": 0.043118,
     "end_time": "2023-02-26T08:35:38.312714",
     "exception": false,
     "start_time": "2023-02-26T08:35:38.269596",
     "status": "completed"
    },
    "pycharm": {
     "name": "#%%\n"
    },
    "tags": []
   },
   "outputs": [],
   "source": [
    "def show_corr_heatmap(columns_list, title, method):\n",
    "    fig_, ax_ = plt.subplots(figsize=(15, 12))\n",
    "    corr = hotels_copy[columns_list].corr(method=method)\n",
    "    mask = np.triu(np.ones_like(corr, dtype=bool))\n",
    "    sns.heatmap(corr,\n",
    "                annot=True,\n",
    "                linewidths=0.1,\n",
    "                ax=ax_,\n",
    "                mask=mask,\n",
    "                cmap='viridis',\n",
    "                fmt='.1g')\n",
    "    ax_.set_title(title, fontsize=18)\n",
    "    plt.show()"
   ]
  },
  {
   "cell_type": "code",
   "execution_count": 44,
   "id": "1c20d5e5",
   "metadata": {
    "collapsed": false,
    "execution": {
     "iopub.execute_input": "2023-02-26T08:35:38.374716Z",
     "iopub.status.busy": "2023-02-26T08:35:38.374310Z",
     "iopub.status.idle": "2023-02-26T08:35:39.578339Z",
     "shell.execute_reply": "2023-02-26T08:35:39.577358Z"
    },
    "jupyter": {
     "outputs_hidden": false
    },
    "papermill": {
     "duration": 1.23839,
     "end_time": "2023-02-26T08:35:39.581240",
     "exception": false,
     "start_time": "2023-02-26T08:35:38.342850",
     "status": "completed"
    },
    "pycharm": {
     "name": "#%%\n"
    },
    "tags": []
   },
   "outputs": [
    {
     "data": {
      "image/png": "[encoded data removed]",
      "text/plain": [
       "<Figure size 1080x864 with 2 Axes>"
      ]
     },
     "metadata": {
      "needs_background": "light"
     },
     "output_type": "display_data"
    }
   ],
   "source": [
    "show_corr_heatmap(cols_num, 'КОРРЕЛЯЦИЯ НЕПРЕРЫВНЫХ ПРИЗНАКОВ', method='pearson')"
   ]
  },
  {
   "cell_type": "code",
   "execution_count": 45,
   "id": "5b5f51f2",
   "metadata": {
    "collapsed": false,
    "execution": {
     "iopub.execute_input": "2023-02-26T08:35:39.648113Z",
     "iopub.status.busy": "2023-02-26T08:35:39.646547Z",
     "iopub.status.idle": "2023-02-26T08:35:39.652267Z",
     "shell.execute_reply": "2023-02-26T08:35:39.651423Z"
    },
    "jupyter": {
     "outputs_hidden": false
    },
    "papermill": {
     "duration": 0.040635,
     "end_time": "2023-02-26T08:35:39.654449",
     "exception": false,
     "start_time": "2023-02-26T08:35:39.613814",
     "status": "completed"
    },
    "pycharm": {
     "name": "#%%\n"
    },
    "tags": []
   },
   "outputs": [],
   "source": [
    "drop_columns = ['neg_review_sentiments_pos']"
   ]
  },
  {
   "cell_type": "code",
   "execution_count": 46,
   "id": "08b8be5d",
   "metadata": {
    "collapsed": false,
    "execution": {
     "iopub.execute_input": "2023-02-26T08:35:39.722943Z",
     "iopub.status.busy": "2023-02-26T08:35:39.722260Z",
     "iopub.status.idle": "2023-02-26T08:35:42.479986Z",
     "shell.execute_reply": "2023-02-26T08:35:42.478873Z"
    },
    "jupyter": {
     "outputs_hidden": false
    },
    "papermill": {
     "duration": 2.794676,
     "end_time": "2023-02-26T08:35:42.483061",
     "exception": false,
     "start_time": "2023-02-26T08:35:39.688385",
     "status": "completed"
    },
    "pycharm": {
     "name": "#%%\n"
    },
    "tags": []
   },
   "outputs": [
    {
     "data": {
      "image/png": "[encoded data removed]",
      "text/plain": [
       "<Figure size 1080x864 with 2 Axes>"
      ]
     },
     "metadata": {
      "needs_background": "light"
     },
     "output_type": "display_data"
    }
   ],
   "source": [
    "show_corr_heatmap(cols_cat, 'КОРРЕЛЯЦИЯ КАТЕГОРИАЛЬНЫХ ПРИЗНАКОВ', method='spearman');"
   ]
  },
  {
   "cell_type": "code",
   "execution_count": 47,
   "id": "539b46bf",
   "metadata": {
    "collapsed": false,
    "execution": {
     "iopub.execute_input": "2023-02-26T08:35:42.553844Z",
     "iopub.status.busy": "2023-02-26T08:35:42.553442Z",
     "iopub.status.idle": "2023-02-26T08:35:42.558299Z",
     "shell.execute_reply": "2023-02-26T08:35:42.557260Z"
    },
    "jupyter": {
     "outputs_hidden": false
    },
    "papermill": {
     "duration": 0.04148,
     "end_time": "2023-02-26T08:35:42.560432",
     "exception": false,
     "start_time": "2023-02-26T08:35:42.518952",
     "status": "completed"
    },
    "pycharm": {
     "name": "#%%\n"
    },
    "tags": []
   },
   "outputs": [],
   "source": [
    "drop_columns += ['review_month']"
   ]
  },
  {
   "cell_type": "code",
   "execution_count": 48,
   "id": "2dbeb291",
   "metadata": {
    "collapsed": false,
    "execution": {
     "iopub.execute_input": "2023-02-26T08:35:42.629045Z",
     "iopub.status.busy": "2023-02-26T08:35:42.628637Z",
     "iopub.status.idle": "2023-02-26T08:35:42.659128Z",
     "shell.execute_reply": "2023-02-26T08:35:42.657906Z"
    },
    "jupyter": {
     "outputs_hidden": false
    },
    "papermill": {
     "duration": 0.067803,
     "end_time": "2023-02-26T08:35:42.661619",
     "exception": false,
     "start_time": "2023-02-26T08:35:42.593816",
     "status": "completed"
    },
    "pycharm": {
     "name": "#%%\n"
    },
    "tags": []
   },
   "outputs": [],
   "source": [
    "hotels_copy.drop(drop_columns, axis = 1, inplace=True)"
   ]
  },
  {
   "cell_type": "code",
   "execution_count": 49,
   "id": "6c56ed8d",
   "metadata": {
    "collapsed": false,
    "execution": {
     "iopub.execute_input": "2023-02-26T08:35:42.730718Z",
     "iopub.status.busy": "2023-02-26T08:35:42.730292Z",
     "iopub.status.idle": "2023-02-26T08:35:42.770271Z",
     "shell.execute_reply": "2023-02-26T08:35:42.768733Z"
    },
    "jupyter": {
     "outputs_hidden": false
    },
    "papermill": {
     "duration": 0.077818,
     "end_time": "2023-02-26T08:35:42.772909",
     "exception": false,
     "start_time": "2023-02-26T08:35:42.695091",
     "status": "completed"
    },
    "pycharm": {
     "name": "#%%\n"
    },
    "tags": []
   },
   "outputs": [
    {
     "name": "stdout",
     "output_type": "stream",
     "text": [
      "<class 'pandas.core.frame.DataFrame'>\n",
      "RangeIndex: 515431 entries, 0 to 515430\n",
      "Data columns (total 27 columns):\n",
      " #   Column                                      Non-Null Count   Dtype  \n",
      "---  ------                                      --------------   -----  \n",
      " 0   additional_number_of_scoring                515431 non-null  int64  \n",
      " 1   average_score                               515431 non-null  float64\n",
      " 2   review_total_negative_word_counts           515431 non-null  int64  \n",
      " 3   total_number_of_reviews                     515431 non-null  int64  \n",
      " 4   review_total_positive_word_counts           515431 non-null  int64  \n",
      " 5   total_number_of_reviews_reviewer_has_given  515431 non-null  float64\n",
      " 6   reviewer_score                              515431 non-null  float64\n",
      " 7   days_since_review                           515431 non-null  Int64  \n",
      " 8   sample                                      515431 non-null  int64  \n",
      " 9   hotel_country_code                          515431 non-null  int8   \n",
      " 10  tags_count                                  515431 non-null  int64  \n",
      " 11  tag_from_mobile                             515431 non-null  int64  \n",
      " 12  tag_with_pet                                515431 non-null  int64  \n",
      " 13  tag_leisure_trip                            515431 non-null  int64  \n",
      " 14  tag_reviewer_type                           515431 non-null  int64  \n",
      " 15  tag_count_nights                            515431 non-null  float64\n",
      " 16  tag_view_room                               515431 non-null  int64  \n",
      " 17  tag_room_type                               515431 non-null  int64  \n",
      " 18  day_of_week                                 515431 non-null  int64  \n",
      " 19  high_season                                 515431 non-null  int64  \n",
      " 20  neg_review_sentiments_neg                   515431 non-null  float64\n",
      " 21  neg_review_sentiments_neu                   515431 non-null  float64\n",
      " 22  neg_review_sentiments_compound              515431 non-null  float64\n",
      " 23  pos_review_sentiments_neg                   515431 non-null  float64\n",
      " 24  pos_review_sentiments_neu                   515431 non-null  float64\n",
      " 25  pos_review_sentiments_pos                   515431 non-null  float64\n",
      " 26  pos_review_sentiments_compound              515431 non-null  float64\n",
      "dtypes: Int64(1), float64(11), int64(14), int8(1)\n",
      "memory usage: 103.2 MB\n"
     ]
    }
   ],
   "source": [
    "hotels_copy.info()"
   ]
  },
  {
   "cell_type": "markdown",
   "id": "5258a9d6",
   "metadata": {
    "papermill": {
     "duration": 0.033257,
     "end_time": "2023-02-26T08:35:42.840482",
     "exception": false,
     "start_time": "2023-02-26T08:35:42.807225",
     "status": "completed"
    },
    "pycharm": {
     "name": "#%% md\n"
    },
    "tags": []
   },
   "source": [
    "### 3.3 Оценка значимости признаков"
   ]
  },
  {
   "cell_type": "markdown",
   "id": "48c86beb",
   "metadata": {
    "papermill": {
     "duration": 0.033067,
     "end_time": "2023-02-26T08:35:42.906969",
     "exception": false,
     "start_time": "2023-02-26T08:35:42.873902",
     "status": "completed"
    },
    "pycharm": {
     "name": "#%% md\n"
    },
    "tags": []
   },
   "source": [
    "Для оценки значимости категориальных признаков будем использовать тест хи-квадрат, для непрерывных признаков — тест ANOVA."
   ]
  },
  {
   "cell_type": "code",
   "execution_count": 50,
   "id": "2a8a271c",
   "metadata": {
    "collapsed": false,
    "execution": {
     "iopub.execute_input": "2023-02-26T08:35:42.976608Z",
     "iopub.status.busy": "2023-02-26T08:35:42.976190Z",
     "iopub.status.idle": "2023-02-26T08:35:43.938473Z",
     "shell.execute_reply": "2023-02-26T08:35:43.937308Z"
    },
    "jupyter": {
     "outputs_hidden": false
    },
    "papermill": {
     "duration": 0.999797,
     "end_time": "2023-02-26T08:35:43.940637",
     "exception": false,
     "start_time": "2023-02-26T08:35:42.940840",
     "status": "completed"
    },
    "pycharm": {
     "name": "#%%\n"
    },
    "tags": []
   },
   "outputs": [
    {
     "data": {
      "text/plain": [
       "<AxesSubplot:>"
      ]
     },
     "execution_count": 50,
     "metadata": {},
     "output_type": "execute_result"
    },
    {
     "data": {
      "image/png": "[encoded data removed]",
      "text/plain": [
       "<Figure size 1080x1440 with 1 Axes>"
      ]
     },
     "metadata": {
      "needs_background": "light"
     },
     "output_type": "display_data"
    }
   ],
   "source": [
    "y = hotels_copy.query('sample == 1').drop(['sample'], axis=1)['reviewer_score'].values\n",
    "X = hotels_copy.query('sample == 1').drop(['sample', 'reviewer_score'], axis=1)\n",
    "\n",
    "# визуализируем результат анализа значимости:\n",
    "imp_num = pd.Series(f_classif(X[X.columns], y)[0], index = X.columns)\n",
    "imp_num.sort_values(inplace = True)\n",
    "\n",
    "fig5, ax5 = plt.subplots(figsize=(15, 20))\n",
    "imp_num.plot(kind = 'barh', color='blue')"
   ]
  },
  {
   "cell_type": "code",
   "execution_count": 51,
   "id": "cb7fe19b",
   "metadata": {
    "collapsed": false,
    "execution": {
     "iopub.execute_input": "2023-02-26T08:35:44.012457Z",
     "iopub.status.busy": "2023-02-26T08:35:44.011481Z",
     "iopub.status.idle": "2023-02-26T08:35:44.019293Z",
     "shell.execute_reply": "2023-02-26T08:35:44.018495Z"
    },
    "jupyter": {
     "outputs_hidden": false
    },
    "papermill": {
     "duration": 0.046017,
     "end_time": "2023-02-26T08:35:44.021396",
     "exception": false,
     "start_time": "2023-02-26T08:35:43.975379",
     "status": "completed"
    },
    "pycharm": {
     "name": "#%%\n"
    },
    "tags": []
   },
   "outputs": [
    {
     "data": {
      "text/plain": [
       "day_of_week                                     1.831\n",
       "tag_with_pet                                    1.987\n",
       "tag_room_type                                   3.422\n",
       "high_season                                     5.900\n",
       "days_since_review                               7.372\n",
       "tag_reviewer_type                               9.781\n",
       "tag_count_nights                               12.899\n",
       "tag_view_room                                  14.957\n",
       "hotel_country_code                             23.687\n",
       "tags_count                                     43.290\n",
       "tag_from_mobile                                46.030\n",
       "additional_number_of_scoring                   49.876\n",
       "total_number_of_reviews                        63.455\n",
       "total_number_of_reviews_reviewer_has_given     95.539\n",
       "pos_review_sentiments_neu                      97.318\n",
       "tag_leisure_trip                              145.655\n",
       "review_total_positive_word_counts             581.651\n",
       "neg_review_sentiments_neg                     821.749\n",
       "pos_review_sentiments_pos                     994.684\n",
       "pos_review_sentiments_neg                    1271.818\n",
       "average_score                                1728.895\n",
       "review_total_negative_word_counts            1904.245\n",
       "neg_review_sentiments_neu                    2601.371\n",
       "neg_review_sentiments_compound               2703.320\n",
       "pos_review_sentiments_compound               2774.399\n",
       "dtype: float64"
      ]
     },
     "execution_count": 51,
     "metadata": {},
     "output_type": "execute_result"
    }
   ],
   "source": [
    "imp_num"
   ]
  },
  {
   "cell_type": "code",
   "execution_count": 52,
   "id": "c58d4e23",
   "metadata": {
    "collapsed": false,
    "execution": {
     "iopub.execute_input": "2023-02-26T08:35:44.093742Z",
     "iopub.status.busy": "2023-02-26T08:35:44.093184Z",
     "iopub.status.idle": "2023-02-26T08:35:44.101267Z",
     "shell.execute_reply": "2023-02-26T08:35:44.100136Z"
    },
    "jupyter": {
     "outputs_hidden": false
    },
    "papermill": {
     "duration": 0.046809,
     "end_time": "2023-02-26T08:35:44.103518",
     "exception": false,
     "start_time": "2023-02-26T08:35:44.056709",
     "status": "completed"
    },
    "pycharm": {
     "name": "#%%\n"
    },
    "tags": []
   },
   "outputs": [
    {
     "data": {
      "text/plain": [
       "['day_of_week', 'tag_with_pet', 'tag_room_type']"
      ]
     },
     "execution_count": 52,
     "metadata": {},
     "output_type": "execute_result"
    }
   ],
   "source": [
    "drop_columns = imp_num[imp_num < 5].index.tolist()\n",
    "drop_columns"
   ]
  },
  {
   "cell_type": "code",
   "execution_count": 53,
   "id": "74445d8c",
   "metadata": {
    "collapsed": false,
    "execution": {
     "iopub.execute_input": "2023-02-26T08:35:44.176081Z",
     "iopub.status.busy": "2023-02-26T08:35:44.175384Z",
     "iopub.status.idle": "2023-02-26T08:35:44.215352Z",
     "shell.execute_reply": "2023-02-26T08:35:44.214210Z"
    },
    "jupyter": {
     "outputs_hidden": false
    },
    "papermill": {
     "duration": 0.079741,
     "end_time": "2023-02-26T08:35:44.217987",
     "exception": false,
     "start_time": "2023-02-26T08:35:44.138246",
     "status": "completed"
    },
    "pycharm": {
     "name": "#%%\n"
    },
    "tags": []
   },
   "outputs": [],
   "source": [
    "hotels_copy.drop(drop_columns, axis = 1, inplace=True)"
   ]
  },
  {
   "cell_type": "markdown",
   "id": "3be17b0d",
   "metadata": {
    "papermill": {
     "duration": 0.03494,
     "end_time": "2023-02-26T08:35:44.288496",
     "exception": false,
     "start_time": "2023-02-26T08:35:44.253556",
     "status": "completed"
    },
    "pycharm": {
     "name": "#%% md\n"
    },
    "tags": []
   },
   "source": [
    "## 4. Обучение модели и получение предсказания"
   ]
  },
  {
   "cell_type": "markdown",
   "id": "db5299e7",
   "metadata": {
    "papermill": {
     "duration": 0.035391,
     "end_time": "2023-02-26T08:35:44.359225",
     "exception": false,
     "start_time": "2023-02-26T08:35:44.323834",
     "status": "completed"
    },
    "pycharm": {
     "name": "#%% md\n"
    },
    "tags": []
   },
   "source": [
    "Разбиваем датафрейм на части, необходимые для обучения и тестирования модели"
   ]
  },
  {
   "cell_type": "code",
   "execution_count": 54,
   "id": "8b23fa62",
   "metadata": {
    "collapsed": false,
    "execution": {
     "iopub.execute_input": "2023-02-26T08:35:44.432138Z",
     "iopub.status.busy": "2023-02-26T08:35:44.431116Z",
     "iopub.status.idle": "2023-02-26T08:35:44.642437Z",
     "shell.execute_reply": "2023-02-26T08:35:44.641488Z"
    },
    "jupyter": {
     "outputs_hidden": false
    },
    "papermill": {
     "duration": 0.250575,
     "end_time": "2023-02-26T08:35:44.644914",
     "exception": false,
     "start_time": "2023-02-26T08:35:44.394339",
     "status": "completed"
    },
    "pycharm": {
     "name": "#%%\n"
    },
    "tags": []
   },
   "outputs": [
    {
     "data": {
      "text/plain": [
       "((128935, 23), (386496, 23), (386496, 22), (309196, 22), (77300, 22))"
      ]
     },
     "execution_count": 54,
     "metadata": {},
     "output_type": "execute_result"
    }
   ],
   "source": [
    "train_data = hotels_copy.query('sample == 1').drop(['sample'], axis=1)\n",
    "test_data = hotels_copy.query('sample == 0').drop(['sample'], axis=1)\n",
    "\n",
    "y = train_data.reviewer_score.values\n",
    "X = train_data.drop(['reviewer_score'], axis=1)\n",
    "\n",
    "X_train, X_test, y_train, y_test = train_test_split(X, y, test_size=0.2, random_state=RANDOM_SEED)\n",
    "\n",
    "test_data.shape, train_data.shape, X.shape, X_train.shape, X_test.shape"
   ]
  },
  {
   "cell_type": "code",
   "execution_count": 55,
   "id": "30f96476",
   "metadata": {
    "collapsed": false,
    "execution": {
     "iopub.execute_input": "2023-02-26T08:35:44.727574Z",
     "iopub.status.busy": "2023-02-26T08:35:44.726962Z",
     "iopub.status.idle": "2023-02-26T08:35:44.733377Z",
     "shell.execute_reply": "2023-02-26T08:35:44.731876Z"
    },
    "jupyter": {
     "outputs_hidden": false
    },
    "papermill": {
     "duration": 0.05623,
     "end_time": "2023-02-26T08:35:44.736359",
     "exception": false,
     "start_time": "2023-02-26T08:35:44.680129",
     "status": "completed"
    },
    "pycharm": {
     "name": "#%%\n"
    },
    "tags": []
   },
   "outputs": [],
   "source": [
    "model = RandomForestRegressor(\n",
    "    n_estimators=100,\n",
    "    verbose=1,\n",
    "    n_jobs=-1,\n",
    "    random_state=RANDOM_SEED)"
   ]
  },
  {
   "cell_type": "code",
   "execution_count": 56,
   "id": "26a7ed49",
   "metadata": {
    "collapsed": false,
    "execution": {
     "iopub.execute_input": "2023-02-26T08:35:44.818023Z",
     "iopub.status.busy": "2023-02-26T08:35:44.817531Z",
     "iopub.status.idle": "2023-02-26T08:38:08.139596Z",
     "shell.execute_reply": "2023-02-26T08:38:08.137982Z"
    },
    "jupyter": {
     "outputs_hidden": false
    },
    "papermill": {
     "duration": 143.361767,
     "end_time": "2023-02-26T08:38:08.142239",
     "exception": false,
     "start_time": "2023-02-26T08:35:44.780472",
     "status": "completed"
    },
    "pycharm": {
     "name": "#%%\n"
    },
    "tags": []
   },
   "outputs": [
    {
     "name": "stderr",
     "output_type": "stream",
     "text": [
      "[Parallel(n_jobs=-1)]: Using backend ThreadingBackend with 4 concurrent workers.\n",
      "[Parallel(n_jobs=-1)]: Done  42 tasks      | elapsed:  1.0min\n",
      "[Parallel(n_jobs=-1)]: Done 100 out of 100 | elapsed:  2.4min finished\n",
      "[Parallel(n_jobs=4)]: Using backend ThreadingBackend with 4 concurrent workers.\n",
      "[Parallel(n_jobs=4)]: Done  42 tasks      | elapsed:    0.7s\n"
     ]
    },
    {
     "name": "stdout",
     "output_type": "stream",
     "text": [
      "CPU times: user 9min 20s, sys: 2.01 s, total: 9min 22s\n",
      "Wall time: 2min 23s\n"
     ]
    },
    {
     "name": "stderr",
     "output_type": "stream",
     "text": [
      "[Parallel(n_jobs=4)]: Done 100 out of 100 | elapsed:    1.6s finished\n"
     ]
    }
   ],
   "source": [
    "%%time\n",
    "\n",
    "# обучаем модель на тестовом наборе данных\n",
    "model.fit(X_train, y_train)\n",
    "\n",
    "# предсказанные значения записываем в переменную y_pred\n",
    "y_pred = model.predict(X_test)"
   ]
  },
  {
   "cell_type": "code",
   "execution_count": 57,
   "id": "cfcb740e",
   "metadata": {
    "collapsed": false,
    "execution": {
     "iopub.execute_input": "2023-02-26T08:38:08.217767Z",
     "iopub.status.busy": "2023-02-26T08:38:08.217356Z",
     "iopub.status.idle": "2023-02-26T08:38:08.225733Z",
     "shell.execute_reply": "2023-02-26T08:38:08.224243Z"
    },
    "jupyter": {
     "outputs_hidden": false
    },
    "papermill": {
     "duration": 0.049093,
     "end_time": "2023-02-26T08:38:08.228462",
     "exception": false,
     "start_time": "2023-02-26T08:38:08.179369",
     "status": "completed"
    },
    "pycharm": {
     "name": "#%%\n"
    },
    "tags": []
   },
   "outputs": [
    {
     "name": "stdout",
     "output_type": "stream",
     "text": [
      "MAPE: 12.09\n"
     ]
    }
   ],
   "source": [
    "def mean_absolute_percentage_error(y_tr, y_pr):\n",
    "    y_tr, y_pr = np.array(y_tr), np.array(y_pr)\n",
    "    return np.mean(np.abs((y_tr - y_pr) / y_tr)) * 100\n",
    "\n",
    "print('MAPE:', round(mean_absolute_percentage_error(y_test, y_pred), 2))"
   ]
  },
  {
   "cell_type": "code",
   "execution_count": 58,
   "id": "acce0f95",
   "metadata": {
    "collapsed": false,
    "execution": {
     "iopub.execute_input": "2023-02-26T08:38:08.305391Z",
     "iopub.status.busy": "2023-02-26T08:38:08.304520Z",
     "iopub.status.idle": "2023-02-26T08:38:08.756717Z",
     "shell.execute_reply": "2023-02-26T08:38:08.755699Z"
    },
    "jupyter": {
     "outputs_hidden": false
    },
    "papermill": {
     "duration": 0.493986,
     "end_time": "2023-02-26T08:38:08.759180",
     "exception": false,
     "start_time": "2023-02-26T08:38:08.265194",
     "status": "completed"
    },
    "pycharm": {
     "name": "#%%\n"
    },
    "tags": []
   },
   "outputs": [
    {
     "data": {
      "image/png": "[encoded data removed]",
      "text/plain": [
       "<Figure size 720x720 with 1 Axes>"
      ]
     },
     "metadata": {
      "needs_background": "light"
     },
     "output_type": "display_data"
    }
   ],
   "source": [
    "plt.rcParams['figure.figsize'] = (10,10)\n",
    "feat_importances = pd.Series(model.feature_importances_, index=X.columns)\n",
    "feat_importances.nlargest(15).plot(kind='barh', color='green');"
   ]
  },
  {
   "cell_type": "markdown",
   "id": "a45e0513",
   "metadata": {
    "papermill": {
     "duration": 0.036274,
     "end_time": "2023-02-26T08:38:08.832408",
     "exception": false,
     "start_time": "2023-02-26T08:38:08.796134",
     "status": "completed"
    },
    "pycharm": {
     "name": "#%% md\n"
    },
    "tags": []
   },
   "source": [
    "Получаем предсказание целевой переменной"
   ]
  },
  {
   "cell_type": "code",
   "execution_count": 59,
   "id": "5863feeb",
   "metadata": {
    "collapsed": false,
    "execution": {
     "iopub.execute_input": "2023-02-26T08:38:08.906433Z",
     "iopub.status.busy": "2023-02-26T08:38:08.905997Z",
     "iopub.status.idle": "2023-02-26T08:38:11.922712Z",
     "shell.execute_reply": "2023-02-26T08:38:11.921586Z"
    },
    "jupyter": {
     "outputs_hidden": false
    },
    "papermill": {
     "duration": 3.056607,
     "end_time": "2023-02-26T08:38:11.925265",
     "exception": false,
     "start_time": "2023-02-26T08:38:08.868658",
     "status": "completed"
    },
    "pycharm": {
     "name": "#%%\n"
    },
    "tags": []
   },
   "outputs": [
    {
     "name": "stderr",
     "output_type": "stream",
     "text": [
      "[Parallel(n_jobs=4)]: Using backend ThreadingBackend with 4 concurrent workers.\n",
      "[Parallel(n_jobs=4)]: Done  42 tasks      | elapsed:    1.2s\n",
      "[Parallel(n_jobs=4)]: Done 100 out of 100 | elapsed:    2.7s finished\n"
     ]
    },
    {
     "data": {
      "text/html": [
       "<div>\n",
       "<style scoped>\n",
       "    .dataframe tbody tr th:only-of-type {\n",
       "        vertical-align: middle;\n",
       "    }\n",
       "\n",
       "    .dataframe tbody tr th {\n",
       "        vertical-align: top;\n",
       "    }\n",
       "\n",
       "    .dataframe thead th {\n",
       "        text-align: right;\n",
       "    }\n",
       "</style>\n",
       "<table border=\"1\" class=\"dataframe\">\n",
       "  <thead>\n",
       "    <tr style=\"text-align: right;\">\n",
       "      <th></th>\n",
       "      <th>reviewer_score</th>\n",
       "      <th>id</th>\n",
       "    </tr>\n",
       "  </thead>\n",
       "  <tbody>\n",
       "    <tr>\n",
       "      <th>0</th>\n",
       "      <td>8.462</td>\n",
       "      <td>488440</td>\n",
       "    </tr>\n",
       "    <tr>\n",
       "      <th>1</th>\n",
       "      <td>7.123</td>\n",
       "      <td>274649</td>\n",
       "    </tr>\n",
       "    <tr>\n",
       "      <th>2</th>\n",
       "      <td>8.254</td>\n",
       "      <td>374688</td>\n",
       "    </tr>\n",
       "    <tr>\n",
       "      <th>3</th>\n",
       "      <td>9.807</td>\n",
       "      <td>404352</td>\n",
       "    </tr>\n",
       "    <tr>\n",
       "      <th>4</th>\n",
       "      <td>9.484</td>\n",
       "      <td>451596</td>\n",
       "    </tr>\n",
       "    <tr>\n",
       "      <th>5</th>\n",
       "      <td>8.728</td>\n",
       "      <td>302161</td>\n",
       "    </tr>\n",
       "    <tr>\n",
       "      <th>6</th>\n",
       "      <td>7.889</td>\n",
       "      <td>317079</td>\n",
       "    </tr>\n",
       "    <tr>\n",
       "      <th>7</th>\n",
       "      <td>7.967</td>\n",
       "      <td>13963</td>\n",
       "    </tr>\n",
       "    <tr>\n",
       "      <th>8</th>\n",
       "      <td>8.182</td>\n",
       "      <td>159785</td>\n",
       "    </tr>\n",
       "    <tr>\n",
       "      <th>9</th>\n",
       "      <td>7.495</td>\n",
       "      <td>195089</td>\n",
       "    </tr>\n",
       "  </tbody>\n",
       "</table>\n",
       "</div>"
      ],
      "text/plain": [
       "   reviewer_score      id\n",
       "0           8.462  488440\n",
       "1           7.123  274649\n",
       "2           8.254  374688\n",
       "3           9.807  404352\n",
       "4           9.484  451596\n",
       "5           8.728  302161\n",
       "6           7.889  317079\n",
       "7           7.967   13963\n",
       "8           8.182  159785\n",
       "9           7.495  195089"
      ]
     },
     "execution_count": 59,
     "metadata": {},
     "output_type": "execute_result"
    }
   ],
   "source": [
    "test_data = test_data.drop(['reviewer_score'], axis=1)\n",
    "predict_submission = model.predict(test_data)\n",
    "sample_submission['reviewer_score'] = predict_submission\n",
    "\n",
    "#  сохраняем результат:\n",
    "sample_submission.to_csv('submission.csv', index=False)\n",
    "sample_submission.head(10)"
   ]
  },
  {
   "cell_type": "code",
   "execution_count": null,
   "id": "a0a0ac5b",
   "metadata": {
    "papermill": {
     "duration": 0.036598,
     "end_time": "2023-02-26T08:38:11.998769",
     "exception": false,
     "start_time": "2023-02-26T08:38:11.962171",
     "status": "completed"
    },
    "tags": []
   },
   "outputs": [],
   "source": []
  }
 ],
 "metadata": {
  "kernelspec": {
   "display_name": "Python 3.10.6 64-bit",
   "language": "python",
   "name": "python3"
  },
  "language_info": {
   "codemirror_mode": {
    "name": "ipython",
    "version": 3
   },
   "file_extension": ".py",
   "mimetype": "text/x-python",
   "name": "python",
   "nbconvert_exporter": "python",
   "pygments_lexer": "ipython3",
   "version": "3.10.6"
  },
  "papermill": {
   "default_parameters": {},
   "duration": 523.798365,
   "end_time": "2023-02-26T08:38:15.181635",
   "environment_variables": {},
   "exception": null,
   "input_path": "__notebook__.ipynb",
   "output_path": "__notebook__.ipynb",
   "parameters": {},
   "start_time": "2023-02-26T08:29:31.383270",
   "version": "2.3.4"
  },
  "vscode": {
   "interpreter": {
    "hash": "31f2aee4e71d21fbe5cf8b01ff0e069b9275f58929596ceb00d14d90e3e16cd6"
   }
  }
 },
 "nbformat": 4,
 "nbformat_minor": 5
}
